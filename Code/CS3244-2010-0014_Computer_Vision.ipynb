{
  "nbformat": 4,
  "nbformat_minor": 0,
  "metadata": {
    "accelerator": "GPU",
    "colab": {
      "name": "CV (Terry).ipynb",
      "provenance": [],
      "collapsed_sections": [
        "5jGN1oTyLnjN",
        "5GAPyiuPkPKh",
        "jEMUqxnYiyOs",
        "cn_iZ8cCj-gk"
      ]
    },
    "kernelspec": {
      "display_name": "Python 3",
      "language": "python",
      "name": "python3"
    },
    "language_info": {
      "codemirror_mode": {
        "name": "ipython",
        "version": 3
      },
      "file_extension": ".py",
      "mimetype": "text/x-python",
      "name": "python",
      "nbconvert_exporter": "python",
      "pygments_lexer": "ipython3",
      "version": "3.7.3"
    }
  },
  "cells": [
    {
      "cell_type": "markdown",
      "metadata": {
        "id": "aqjo-YiQimiM"
      },
      "source": [
        "# Set-Up"
      ]
    },
    {
      "cell_type": "code",
      "metadata": {
        "id": "eb2t6bPpQ1GT"
      },
      "source": [
        "# Import required Libraries\n",
        "import os\n",
        "import numpy as np\n",
        "import pandas as pd\n",
        "import matplotlib.pyplot as plt\n",
        "\n",
        "import tensorflow as tf\n",
        "from tensorflow.keras.models import Sequential\n",
        "from tensorflow.keras.layers import Dense, Conv2D, Flatten, MaxPooling2D\n",
        "from tensorflow.keras.preprocessing.image import ImageDataGenerator\n",
        "\n",
        "from keras.models import load_model\n",
        "from keras.utils import to_categorical\n",
        "from keras.preprocessing import image\n",
        "from keras.optimizers import SGD\n",
        "from keras.callbacks import EarlyStopping"
      ],
      "execution_count": null,
      "outputs": []
    },
    {
      "cell_type": "code",
      "metadata": {
        "id": "pcFLdAS7RHIO"
      },
      "source": [
        "from google.colab import drive\n",
        "drive.mount('/content/gdrive')"
      ],
      "execution_count": null,
      "outputs": []
    },
    {
      "cell_type": "code",
      "metadata": {
        "id": "BH2MtyDjc0F3"
      },
      "source": [
        "!unzip \"/content/gdrive/My Drive/Group 3244-2010-0014/Kaggle Data/petfinder-adoption-prediction.zip\""
      ],
      "execution_count": null,
      "outputs": []
    },
    {
      "cell_type": "markdown",
      "metadata": {
        "id": "5jGN1oTyLnjN"
      },
      "source": [
        "# Prepare Dataset into Training, Validation and Testing Data"
      ]
    },
    {
      "cell_type": "code",
      "metadata": {
        "id": "K_wRk6OcQ1Gc"
      },
      "source": [
        "# Read Main CSV File\n",
        "df = pd.read_csv(\"/content/train/train.csv\")\n",
        "\n",
        "# Remove Data without Image\n",
        "df = df[df.PhotoAmt != 0]\n",
        "\n",
        "# Re-index\n",
        "df.index = list(range(len(df)))\n",
        "\n",
        "# Add file extension\n",
        "df[\"PetID\"] = list(map(lambda x: x + \"-1.jpg\", df[\"PetID\"]))\n",
        "\n",
        "# Convert AdoptionSpeed column to Binary values\n",
        "df[\"AdoptionSpeed\"] = list(map(lambda x: \"1\" if x != 4 else \"0\", df[\"AdoptionSpeed\"]))\n",
        "\n",
        "# Split Dataset into Dogs and Cats separately\n",
        "df_1 = df[df[\"Type\"] == 1]\n",
        "df_2 = df[df[\"Type\"] == 2]\n",
        "\n",
        "df_1.sample(frac = 1, random_state = 6453)\n",
        "df_2.sample(frac = 1, random_state = 6453)\n",
        "\n",
        "df_1.index = list(range(len(df_1)))\n",
        "df_2.index = list(range(len(df_2)))"
      ],
      "execution_count": null,
      "outputs": []
    },
    {
      "cell_type": "code",
      "metadata": {
        "id": "n0f5U_xmQ1Gl"
      },
      "source": [
        "train_dir = \"/content/train_images\"\n",
        "IMG_SIZE = 256\n",
        "IMG_SHAPE = (IMG_SIZE, IMG_SIZE, 3)\n",
        "batch_size = 128\n",
        "epochs = 50"
      ],
      "execution_count": null,
      "outputs": []
    },
    {
      "cell_type": "code",
      "metadata": {
        "id": "iKM44WwtQ1Gq"
      },
      "source": [
        "train_image_generator = ImageDataGenerator(rescale=1./255, zoom_range=0.3, rotation_range=50,\n",
        "                                   width_shift_range=0.2, height_shift_range=0.2, shear_range=0.2, \n",
        "                                   horizontal_flip=True, fill_mode='nearest', validation_split=0.2)\n",
        "test_image_generator = ImageDataGenerator(rescale=1./255)"
      ],
      "execution_count": null,
      "outputs": []
    },
    {
      "cell_type": "code",
      "metadata": {
        "id": "weZsibl5c_vZ"
      },
      "source": [
        "# Split a part of data for Testing\n",
        "df_1_train_amt = int((9/10) * len(df_1))\n",
        "df_2_train_amt = int((9/10) * len(df_2))\n",
        "\n",
        "print(df_1_train_amt, df_2_train_amt)"
      ],
      "execution_count": null,
      "outputs": []
    },
    {
      "cell_type": "code",
      "metadata": {
        "id": "sqZey88SQ1Gu"
      },
      "source": [
        "train_data_gen_1 = train_image_generator.flow_from_dataframe(df_1[:df_1_train_amt],\n",
        "                                                       directory= train_dir,\n",
        "                                                       x_col='PetID',\n",
        "                                                       y_col=\"AdoptionSpeed\",\n",
        "                                                       batch_size=batch_size,\n",
        "                                                       shuffle=True,\n",
        "                                                       subset = \"training\",\n",
        "                                                       target_size=(IMG_SIZE,IMG_SIZE),\n",
        "                                                       class_mode='binary')\n",
        "\n",
        "validation_data_gen_1 = train_image_generator.flow_from_dataframe(df_1[:df_1_train_amt],\n",
        "                                                       directory= train_dir,\n",
        "                                                       x_col='PetID',\n",
        "                                                       y_col=\"AdoptionSpeed\",\n",
        "                                                       batch_size=batch_size,\n",
        "                                                       shuffle=True,\n",
        "                                                       subset = \"validation\",\n",
        "                                                       target_size=(IMG_SIZE,IMG_SIZE),\n",
        "                                                       class_mode='binary')\n",
        "\n",
        "test_data_gen_1 = test_image_generator.flow_from_dataframe(df_1[df_1_train_amt:],\n",
        "                                                       directory = train_dir,\n",
        "                                                       x_col = 'PetID',\n",
        "                                                       y_col = \"AdoptionSpeed\",\n",
        "                                                       batch_size = batch_size,\n",
        "                                                       shuffle = False,\n",
        "                                                       target_size=(IMG_SIZE,IMG_SIZE),\n",
        "                                                       class_mode = None)"
      ],
      "execution_count": null,
      "outputs": []
    },
    {
      "cell_type": "code",
      "metadata": {
        "id": "578Ve41Oc0Cc"
      },
      "source": [
        "train_data_gen_2 = train_image_generator.flow_from_dataframe(df_2[:df_2_train_amt],\n",
        "                                                       directory= train_dir,\n",
        "                                                       x_col='PetID',\n",
        "                                                       y_col=\"AdoptionSpeed\",\n",
        "                                                       batch_size=batch_size,\n",
        "                                                       shuffle=True,\n",
        "                                                       subset = \"training\",\n",
        "                                                       target_size=(IMG_SIZE,IMG_SIZE),\n",
        "                                                       class_mode='binary')\n",
        "\n",
        "validation_data_gen_2 = train_image_generator.flow_from_dataframe(df_2[:df_2_train_amt],\n",
        "                                                       directory= train_dir,\n",
        "                                                       x_col='PetID',\n",
        "                                                       y_col=\"AdoptionSpeed\",\n",
        "                                                       batch_size=batch_size,\n",
        "                                                       shuffle=True,\n",
        "                                                       subset = \"validation\",\n",
        "                                                       target_size=(IMG_SIZE,IMG_SIZE),\n",
        "                                                       class_mode='binary')\n",
        "\n",
        "test_data_gen_2 = test_image_generator.flow_from_dataframe(df_2[df_2_train_amt:],\n",
        "                                                       directory = train_dir,\n",
        "                                                       x_col = 'PetID',\n",
        "                                                       y_col = \"AdoptionSpeed\",\n",
        "                                                       batch_size = batch_size,\n",
        "                                                       shuffle = False,\n",
        "                                                       target_size=(IMG_SIZE,IMG_SIZE),\n",
        "                                                       class_mode = None)"
      ],
      "execution_count": null,
      "outputs": []
    },
    {
      "cell_type": "markdown",
      "metadata": {
        "id": "5GAPyiuPkPKh"
      },
      "source": [
        "# Load Previously Trained Model"
      ]
    },
    {
      "cell_type": "code",
      "metadata": {
        "id": "X30lUQs3Q1G4"
      },
      "source": [
        "model_dog = load_model(r\"/content/gdrive/My Drive/Group 3244-2010-0014/Code/model_dog.h5\")"
      ],
      "execution_count": null,
      "outputs": []
    },
    {
      "cell_type": "markdown",
      "metadata": {
        "id": "jEMUqxnYiyOs"
      },
      "source": [
        "# Set-up Model"
      ]
    },
    {
      "cell_type": "code",
      "metadata": {
        "id": "PkNVK3ABQ1G_"
      },
      "source": [
        "base_model = tf.keras.applications.Xception(input_shape=IMG_SHAPE,\n",
        "                                               include_top=False,\n",
        "                                               weights='imagenet')\n",
        "\n",
        "base_model.trainable = False\n",
        "base_model.summary()"
      ],
      "execution_count": null,
      "outputs": []
    },
    {
      "cell_type": "code",
      "metadata": {
        "id": "bqFQK4ufQ1HQ"
      },
      "source": [
        "global_average_layer = tf.keras.layers.GlobalAveragePooling2D()\n",
        "prediction_layer = tf.keras.layers.Dense(1, activation='sigmoid', name='output')"
      ],
      "execution_count": null,
      "outputs": []
    },
    {
      "cell_type": "code",
      "metadata": {
        "id": "lcwkWteTQ1HY"
      },
      "source": [
        "model_dog = tf.keras.Sequential([base_model,\n",
        "                                 global_average_layer,\n",
        "                                 prediction_layer])\n",
        "\n",
        "model_dog.compile(optimizer = SGD(lr=0.001, momentum=0.9),\n",
        "                  loss ='binary_crossentropy',\n",
        "                  metrics = ['accuracy'])\n",
        "\n",
        "model_dog.summary()"
      ],
      "execution_count": null,
      "outputs": []
    },
    {
      "cell_type": "code",
      "metadata": {
        "id": "eyxXSIoJj5s6"
      },
      "source": [
        "model_cat = tf.keras.Sequential([base_model,\n",
        "                                 global_average_layer,\n",
        "                                 prediction_layer])\n",
        "\n",
        "model_cat.compile(optimizer = SGD(lr=0.001, momentum=0.9),\n",
        "                  loss ='binary_crossentropy',\n",
        "                  metrics = ['accuracy'])\n",
        "\n",
        "model_cat.summary()"
      ],
      "execution_count": null,
      "outputs": []
    },
    {
      "cell_type": "markdown",
      "metadata": {
        "id": "bbXcda7NjB8v"
      },
      "source": [
        "# Train Model"
      ]
    },
    {
      "cell_type": "code",
      "metadata": {
        "id": "dt9eQEj4Q1Hq",
        "scrolled": false
      },
      "source": [
        "es = EarlyStopping(monitor='val_loss', mode='min', verbose=1, patience = 10)\n",
        "history = model_dog.fit(train_data_gen_1,\n",
        "                    steps_per_epoch = train_data_gen_1.samples // batch_size,\n",
        "                    validation_data = validation_data_gen_1, \n",
        "                    validation_steps = validation_data_gen_1.samples // batch_size,\n",
        "                    epochs = epochs,\n",
        "                    callbacks=[es]\n",
        "                    )"
      ],
      "execution_count": null,
      "outputs": []
    },
    {
      "cell_type": "code",
      "metadata": {
        "id": "4UvV-plZQ1Ht"
      },
      "source": [
        "acc = history.history['accuracy']\n",
        "val_acc = history.history['val_accuracy']\n",
        "\n",
        "loss=history.history['loss']\n",
        "val_loss=history.history['val_loss']\n",
        "\n",
        "epochs_range = range(len(history.history[\"loss\"]))\n",
        "\n",
        "plt.figure(figsize=(8, 8))\n",
        "plt.subplot(1, 2, 1)\n",
        "plt.plot(epochs_range, acc, label='Training Accuracy')\n",
        "plt.plot(epochs_range, val_acc, label='Validation Accuracy')\n",
        "plt.legend(loc='lower right')\n",
        "plt.title('Training and Validation Accuracy for 1')\n",
        "\n",
        "plt.subplot(1, 2, 2)\n",
        "plt.plot(epochs_range, loss, label='Training Loss')\n",
        "plt.plot(epochs_range, val_loss, label='Validation Loss')\n",
        "plt.legend(loc='upper right')\n",
        "plt.title('Training and Validation Loss for 1')\n",
        "plt.show()"
      ],
      "execution_count": null,
      "outputs": []
    },
    {
      "cell_type": "code",
      "metadata": {
        "id": "rf1GI1oIgqCE"
      },
      "source": [
        "es = EarlyStopping(monitor='val_loss', mode='min', verbose=1, patience = 10)\n",
        "history2 = model_cat.fit(train_data_gen_2,\n",
        "                    steps_per_epoch = train_data_gen_2.samples // batch_size,\n",
        "                    validation_data = validation_data_gen_2, \n",
        "                    validation_steps = validation_data_gen_2.samples // batch_size,\n",
        "                    epochs = epochs,\n",
        "                    callbacks=[es]\n",
        "                    )"
      ],
      "execution_count": null,
      "outputs": []
    },
    {
      "cell_type": "code",
      "metadata": {
        "id": "AzqmyfFkgw06"
      },
      "source": [
        "acc = history2.history['accuracy']\n",
        "val_acc = history2.history['val_accuracy']\n",
        "\n",
        "loss=history2.history['loss']\n",
        "val_loss=history2.history['val_loss']\n",
        "\n",
        "epochs_range = range(len(history2.history[\"loss\"])) \n",
        "\n",
        "plt.figure(figsize=(8, 8))\n",
        "plt.subplot(1, 2, 1)\n",
        "plt.plot(epochs_range, acc, label='Training Accuracy')\n",
        "plt.plot(epochs_range, val_acc, label='Validation Accuracy')\n",
        "plt.legend(loc='lower right')\n",
        "plt.title('Training and Validation Accuracy for 2')\n",
        "\n",
        "plt.subplot(1, 2, 2)\n",
        "plt.plot(epochs_range, loss, label='Training Loss')\n",
        "plt.plot(epochs_range, val_loss, label='Validation Loss')\n",
        "plt.legend(loc='upper right')\n",
        "plt.title('Training and Validation Loss for 2')\n",
        "plt.show()"
      ],
      "execution_count": null,
      "outputs": []
    },
    {
      "cell_type": "markdown",
      "metadata": {
        "id": "cn_iZ8cCj-gk"
      },
      "source": [
        "# Save Model"
      ]
    },
    {
      "cell_type": "code",
      "metadata": {
        "id": "VWFRGXgWQ1ID"
      },
      "source": [
        "#model_dog.save('model_dog.h5')\n",
        "#model_cat.save('model_cat.h5')"
      ],
      "execution_count": null,
      "outputs": []
    },
    {
      "cell_type": "markdown",
      "metadata": {
        "id": "O746KZS2jf9L"
      },
      "source": [
        "# Test Model"
      ]
    },
    {
      "cell_type": "code",
      "metadata": {
        "id": "O4QTUDVxQ1IJ"
      },
      "source": [
        "# Get Predicitions for Dog\n",
        "dog_prob = model_dog.predict(test_data_gen_1, verbose=1)\n",
        "dog_pred = list(map(lambda x: 1 if x[0] >= 0.5 else 0, dog_prob))\n",
        "\n",
        "labels = (train_data_gen_1.class_indices)\n",
        "labels = dict((v,k) for k,v in labels.items())\n",
        "predictions_1 = [labels[k] for k in dog_pred]"
      ],
      "execution_count": null,
      "outputs": []
    },
    {
      "cell_type": "code",
      "metadata": {
        "id": "PlFJVoFTLI-O"
      },
      "source": [
        "result_1_df = pd.DataFrame({\"Category 1 Predictions\": predictions_1,\n",
        "                          \"Correct Category 1 Predictions\": df_1[df_1_train_amt:][\"AdoptionSpeed\"]})\n",
        "\n",
        "result_1_df[\"Category 1 Predictions\"] = result_1_df[\"Category 1 Predictions\"].astype(int)\n",
        "result_1_df[\"Correct Category 1 Predictions\"] = result_1_df[\"Correct Category 1 Predictions\"].astype(int)\n",
        "\n",
        "result_1_df[\"Correct\"] = (result_1_df[\"Category 1 Predictions\"] == result_1_df[\"Correct Category 1 Predictions\"])\n",
        "\n",
        "accuracy_1 = len(result_1_df[result_1_df[\"Correct\"] == True])/len(result_1_df) *100\n",
        "accuracy_1"
      ],
      "execution_count": null,
      "outputs": []
    },
    {
      "cell_type": "code",
      "metadata": {
        "id": "vE9Z7PTnPaYg"
      },
      "source": [
        "result_1_df.to_csv(\"dog_test.csv\")"
      ],
      "execution_count": null,
      "outputs": []
    },
    {
      "cell_type": "code",
      "metadata": {
        "id": "OuzrFL82ggja"
      },
      "source": [
        "# Get Predicitions for Cat\n",
        "cat_prob = model_cat.predict(test_data_gen_2, verbose=1)\n",
        "cat_pred = list(map(lambda x: 1 if x[0] >= 0.5 else 0, cat_prob))\n",
        "\n",
        "labels = (train_data_gen_2.class_indices)\n",
        "labels = dict((v,k) for k,v in labels.items())\n",
        "predictions_2 = [labels[k] for k in cat_pred]"
      ],
      "execution_count": null,
      "outputs": []
    },
    {
      "cell_type": "code",
      "metadata": {
        "id": "DAuVQJV1ggbj"
      },
      "source": [
        "result_2_df = pd.DataFrame({\"Category 2 Predictions\": predictions_2,\n",
        "                          \"Correct Category 2 Predictions\": df_2[df_2_train_amt:][\"AdoptionSpeed\"]})\n",
        "\n",
        "result_2_df[\"Category 2 Predictions\"] = result_2_df[\"Category 2 Predictions\"].astype(int)\n",
        "result_2_df[\"Correct Category 2 Predictions\"] = result_2_df[\"Correct Category 2 Predictions\"].astype(int)\n",
        "result_2_df[\"Correct\"] = (result_2_df[\"Category 2 Predictions\"] == result_2_df[\"Correct Category 2 Predictions\"])\n",
        "\n",
        "accuracy_2 = len(result_2_df[result_2_df[\"Correct\"] == True])/len(result_2_df) *100\n",
        "accuracy_2"
      ],
      "execution_count": null,
      "outputs": []
    },
    {
      "cell_type": "code",
      "metadata": {
        "id": "wC0tujsf3T1O"
      },
      "source": [
        "result_2_df.to_csv(\"cat_test.csv\")"
      ],
      "execution_count": null,
      "outputs": []
    }
  ]
}