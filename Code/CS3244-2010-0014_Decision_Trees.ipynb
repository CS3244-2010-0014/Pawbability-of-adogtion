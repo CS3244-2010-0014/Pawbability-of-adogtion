{
 "cells": [
  {
   "cell_type": "code",
   "execution_count": 1,
   "metadata": {},
   "outputs": [],
   "source": [
    "import pandas as pd\n",
    "import numpy as np\n",
    "import matplotlib.pyplot as plt\n",
    "from sklearn.model_selection import train_test_split\n",
    "from sklearn.naive_bayes import BernoulliNB\n",
    "from sklearn.naive_bayes import GaussianNB\n",
    "from sklearn.naive_bayes import MultinomialNB\n",
    "from sklearn.naive_bayes import CategoricalNB\n",
    "from sklearn.neighbors import KNeighborsClassifier\n",
    "\n",
    "from sklearn.metrics import classification_report\n",
    "from sklearn import preprocessing\n",
    "from sklearn import metrics\n",
    "from sklearn.metrics import accuracy_score\n",
    "\n",
    "import matplotlib.pyplot as plt\n",
    "import seaborn as sns\n",
    "\n",
    "from sklearn.tree import DecisionTreeClassifier\n",
    "from sklearn.ensemble import RandomForestClassifier, VotingClassifier\n",
    "from sklearn.ensemble import AdaBoostClassifier\n",
    "from sklearn.ensemble import GradientBoostingClassifier\n",
    "\n",
    "from sklearn.linear_model import LogisticRegression\n",
    "import statsmodels.formula.api as smf\n",
    "from sklearn.feature_selection import RFE\n",
    "from sklearn.metrics import confusion_matrix\n",
    "from sklearn.metrics import roc_auc_score\n",
    "from sklearn.metrics import f1_score, accuracy_score, precision_score, recall_score, confusion_matrix, mean_squared_error, auc, roc_curve\n",
    "pd.set_option(\"display.max_rows\", 300, \"display.max_columns\", 300)\n",
    "import math\n",
    "\n",
    "from sklearn import tree\n",
    "import graphviz \n",
    "import matplotlib.pyplot as plt"
   ]
  },
  {
   "cell_type": "markdown",
   "metadata": {},
   "source": [
    "# Tabular Data Cleaning & Exploring"
   ]
  },
  {
   "cell_type": "code",
   "execution_count": 2,
   "metadata": {},
   "outputs": [],
   "source": [
    "train_df = pd.read_csv(\"train.csv\")\n",
    "pet_df = train_df.copy() # manipulate a copy"
   ]
  },
  {
   "cell_type": "code",
   "execution_count": 3,
   "metadata": {},
   "outputs": [
    {
     "data": {
      "text/html": [
       "<div>\n",
       "<style scoped>\n",
       "    .dataframe tbody tr th:only-of-type {\n",
       "        vertical-align: middle;\n",
       "    }\n",
       "\n",
       "    .dataframe tbody tr th {\n",
       "        vertical-align: top;\n",
       "    }\n",
       "\n",
       "    .dataframe thead th {\n",
       "        text-align: right;\n",
       "    }\n",
       "</style>\n",
       "<table border=\"1\" class=\"dataframe\">\n",
       "  <thead>\n",
       "    <tr style=\"text-align: right;\">\n",
       "      <th></th>\n",
       "      <th>Type</th>\n",
       "      <th>Name</th>\n",
       "      <th>Age</th>\n",
       "      <th>Breed1</th>\n",
       "      <th>Breed2</th>\n",
       "      <th>Gender</th>\n",
       "      <th>Color1</th>\n",
       "      <th>Color2</th>\n",
       "      <th>Color3</th>\n",
       "      <th>MaturitySize</th>\n",
       "      <th>FurLength</th>\n",
       "      <th>Vaccinated</th>\n",
       "      <th>Dewormed</th>\n",
       "      <th>Sterilized</th>\n",
       "      <th>Health</th>\n",
       "      <th>Quantity</th>\n",
       "      <th>Fee</th>\n",
       "      <th>State</th>\n",
       "      <th>RescuerID</th>\n",
       "      <th>VideoAmt</th>\n",
       "      <th>Description</th>\n",
       "      <th>PetID</th>\n",
       "      <th>PhotoAmt</th>\n",
       "      <th>AdoptionSpeed</th>\n",
       "    </tr>\n",
       "  </thead>\n",
       "  <tbody>\n",
       "    <tr>\n",
       "      <th>0</th>\n",
       "      <td>2</td>\n",
       "      <td>Nibble</td>\n",
       "      <td>3</td>\n",
       "      <td>299</td>\n",
       "      <td>0</td>\n",
       "      <td>1</td>\n",
       "      <td>1</td>\n",
       "      <td>7</td>\n",
       "      <td>0</td>\n",
       "      <td>1</td>\n",
       "      <td>1</td>\n",
       "      <td>2</td>\n",
       "      <td>2</td>\n",
       "      <td>2</td>\n",
       "      <td>1</td>\n",
       "      <td>1</td>\n",
       "      <td>100</td>\n",
       "      <td>41326</td>\n",
       "      <td>8480853f516546f6cf33aa88cd76c379</td>\n",
       "      <td>0</td>\n",
       "      <td>Nibble is a 3+ month old ball of cuteness. He ...</td>\n",
       "      <td>86e1089a3</td>\n",
       "      <td>1.0</td>\n",
       "      <td>2</td>\n",
       "    </tr>\n",
       "    <tr>\n",
       "      <th>1</th>\n",
       "      <td>2</td>\n",
       "      <td>No Name Yet</td>\n",
       "      <td>1</td>\n",
       "      <td>265</td>\n",
       "      <td>0</td>\n",
       "      <td>1</td>\n",
       "      <td>1</td>\n",
       "      <td>2</td>\n",
       "      <td>0</td>\n",
       "      <td>2</td>\n",
       "      <td>2</td>\n",
       "      <td>3</td>\n",
       "      <td>3</td>\n",
       "      <td>3</td>\n",
       "      <td>1</td>\n",
       "      <td>1</td>\n",
       "      <td>0</td>\n",
       "      <td>41401</td>\n",
       "      <td>3082c7125d8fb66f7dd4bff4192c8b14</td>\n",
       "      <td>0</td>\n",
       "      <td>I just found it alone yesterday near my apartm...</td>\n",
       "      <td>6296e909a</td>\n",
       "      <td>2.0</td>\n",
       "      <td>0</td>\n",
       "    </tr>\n",
       "    <tr>\n",
       "      <th>2</th>\n",
       "      <td>1</td>\n",
       "      <td>Brisco</td>\n",
       "      <td>1</td>\n",
       "      <td>307</td>\n",
       "      <td>0</td>\n",
       "      <td>1</td>\n",
       "      <td>2</td>\n",
       "      <td>7</td>\n",
       "      <td>0</td>\n",
       "      <td>2</td>\n",
       "      <td>2</td>\n",
       "      <td>1</td>\n",
       "      <td>1</td>\n",
       "      <td>2</td>\n",
       "      <td>1</td>\n",
       "      <td>1</td>\n",
       "      <td>0</td>\n",
       "      <td>41326</td>\n",
       "      <td>fa90fa5b1ee11c86938398b60abc32cb</td>\n",
       "      <td>0</td>\n",
       "      <td>Their pregnant mother was dumped by her irresp...</td>\n",
       "      <td>3422e4906</td>\n",
       "      <td>7.0</td>\n",
       "      <td>3</td>\n",
       "    </tr>\n",
       "    <tr>\n",
       "      <th>3</th>\n",
       "      <td>1</td>\n",
       "      <td>Miko</td>\n",
       "      <td>4</td>\n",
       "      <td>307</td>\n",
       "      <td>0</td>\n",
       "      <td>2</td>\n",
       "      <td>1</td>\n",
       "      <td>2</td>\n",
       "      <td>0</td>\n",
       "      <td>2</td>\n",
       "      <td>1</td>\n",
       "      <td>1</td>\n",
       "      <td>1</td>\n",
       "      <td>2</td>\n",
       "      <td>1</td>\n",
       "      <td>1</td>\n",
       "      <td>150</td>\n",
       "      <td>41401</td>\n",
       "      <td>9238e4f44c71a75282e62f7136c6b240</td>\n",
       "      <td>0</td>\n",
       "      <td>Good guard dog, very alert, active, obedience ...</td>\n",
       "      <td>5842f1ff5</td>\n",
       "      <td>8.0</td>\n",
       "      <td>2</td>\n",
       "    </tr>\n",
       "    <tr>\n",
       "      <th>4</th>\n",
       "      <td>1</td>\n",
       "      <td>Hunter</td>\n",
       "      <td>1</td>\n",
       "      <td>307</td>\n",
       "      <td>0</td>\n",
       "      <td>1</td>\n",
       "      <td>1</td>\n",
       "      <td>0</td>\n",
       "      <td>0</td>\n",
       "      <td>2</td>\n",
       "      <td>1</td>\n",
       "      <td>2</td>\n",
       "      <td>2</td>\n",
       "      <td>2</td>\n",
       "      <td>1</td>\n",
       "      <td>1</td>\n",
       "      <td>0</td>\n",
       "      <td>41326</td>\n",
       "      <td>95481e953f8aed9ec3d16fc4509537e8</td>\n",
       "      <td>0</td>\n",
       "      <td>This handsome yet cute boy is up for adoption....</td>\n",
       "      <td>850a43f90</td>\n",
       "      <td>3.0</td>\n",
       "      <td>2</td>\n",
       "    </tr>\n",
       "  </tbody>\n",
       "</table>\n",
       "</div>"
      ],
      "text/plain": [
       "   Type         Name  Age  Breed1  Breed2  Gender  Color1  Color2  Color3  \\\n",
       "0     2       Nibble    3     299       0       1       1       7       0   \n",
       "1     2  No Name Yet    1     265       0       1       1       2       0   \n",
       "2     1       Brisco    1     307       0       1       2       7       0   \n",
       "3     1         Miko    4     307       0       2       1       2       0   \n",
       "4     1       Hunter    1     307       0       1       1       0       0   \n",
       "\n",
       "   MaturitySize  FurLength  Vaccinated  Dewormed  Sterilized  Health  \\\n",
       "0             1          1           2         2           2       1   \n",
       "1             2          2           3         3           3       1   \n",
       "2             2          2           1         1           2       1   \n",
       "3             2          1           1         1           2       1   \n",
       "4             2          1           2         2           2       1   \n",
       "\n",
       "   Quantity  Fee  State                         RescuerID  VideoAmt  \\\n",
       "0         1  100  41326  8480853f516546f6cf33aa88cd76c379         0   \n",
       "1         1    0  41401  3082c7125d8fb66f7dd4bff4192c8b14         0   \n",
       "2         1    0  41326  fa90fa5b1ee11c86938398b60abc32cb         0   \n",
       "3         1  150  41401  9238e4f44c71a75282e62f7136c6b240         0   \n",
       "4         1    0  41326  95481e953f8aed9ec3d16fc4509537e8         0   \n",
       "\n",
       "                                         Description      PetID  PhotoAmt  \\\n",
       "0  Nibble is a 3+ month old ball of cuteness. He ...  86e1089a3       1.0   \n",
       "1  I just found it alone yesterday near my apartm...  6296e909a       2.0   \n",
       "2  Their pregnant mother was dumped by her irresp...  3422e4906       7.0   \n",
       "3  Good guard dog, very alert, active, obedience ...  5842f1ff5       8.0   \n",
       "4  This handsome yet cute boy is up for adoption....  850a43f90       3.0   \n",
       "\n",
       "   AdoptionSpeed  \n",
       "0              2  \n",
       "1              0  \n",
       "2              3  \n",
       "3              2  \n",
       "4              2  "
      ]
     },
     "execution_count": 3,
     "metadata": {},
     "output_type": "execute_result"
    }
   ],
   "source": [
    "pet_df.head()"
   ]
  },
  {
   "cell_type": "code",
   "execution_count": 4,
   "metadata": {},
   "outputs": [
    {
     "name": "stdout",
     "output_type": "stream",
     "text": [
      "Type: 2\n",
      "[1, 2]\n",
      "Name: 9061\n",
      "Age: 106\n",
      "Breed1: 176\n",
      "Breed2: 135\n",
      "Gender: 3\n",
      "[1, 2, 3]\n",
      "Color1: 7\n",
      "[1, 2, 3, 4, 5, 6, 7]\n",
      "Color2: 7\n",
      "[0, 2, 3, 4, 5, 6, 7]\n",
      "Color3: 6\n",
      "[0, 3, 4, 5, 6, 7]\n",
      "MaturitySize: 4\n",
      "[1, 2, 3, 4]\n",
      "FurLength: 3\n",
      "[1, 2, 3]\n",
      "Vaccinated: 3\n",
      "[1, 2, 3]\n",
      "Dewormed: 3\n",
      "[1, 2, 3]\n",
      "Sterilized: 3\n",
      "[1, 2, 3]\n",
      "Health: 3\n",
      "[1, 2, 3]\n",
      "Quantity: 19\n",
      "[1, 2, 3, 4, 5, 6, 7, 8, 9, 10, 11, 12, 13, 14, 15, 16, 17, 18, 20]\n",
      "Fee: 74\n",
      "State: 14\n",
      "[41324, 41325, 41326, 41327, 41330, 41332, 41335, 41336, 41342, 41345, 41361, 41367, 41401, 41415]\n",
      "RescuerID: 5595\n",
      "VideoAmt: 9\n",
      "[0, 1, 2, 3, 4, 5, 6, 7, 8]\n",
      "Description: 14033\n",
      "PetID: 14993\n",
      "PhotoAmt: 31\n",
      "AdoptionSpeed: 5\n",
      "[0, 1, 2, 3, 4]\n"
     ]
    }
   ],
   "source": [
    "# Looking at unique values (spot abnormal inputs)\n",
    "\n",
    "for col in pet_df.columns:\n",
    "    x = pet_df[col].unique()\n",
    "    print(col + ': '+str(len(x)))\n",
    "    if len(x) < 20:\n",
    "        print(sorted(x))\n",
    "# Note: 14993 total entries"
   ]
  },
  {
   "cell_type": "code",
   "execution_count": 5,
   "metadata": {},
   "outputs": [
    {
     "data": {
      "text/plain": [
       "11565"
      ]
     },
     "execution_count": 5,
     "metadata": {},
     "output_type": "execute_result"
    }
   ],
   "source": [
    "# To simplify the dataset, we will only consider profiles \n",
    "# of a singular pet instead of multiples\n",
    "\n",
    "pet_df = pet_df[pet_df['Quantity'] < 2].drop('Quantity',axis=1)\n",
    "\n",
    "len(pet_df) # still retain a healthy amount of data"
   ]
  },
  {
   "cell_type": "code",
   "execution_count": 6,
   "metadata": {},
   "outputs": [],
   "source": [
    "# Unimportant variables dropped\n",
    "\n",
    "pet_df = pet_df.drop(\"Name\", axis = 1) # Name dropped\n",
    "pet_df = pet_df.drop(\"RescuerID\", axis = 1) # RescuerID dropped\n",
    "pet_df = pet_df.drop(\"Description\", axis = 1) # Description dropped\n",
    "pet_df = pet_df.drop(\"PetID\", axis = 1) # PetID dropped\n",
    "pet_df = pet_df.drop(\"State\", axis = 1) # State dropped\n",
    "pet_df = pet_df.drop(\"Color1\", axis = 1)\n",
    "pet_df = pet_df.drop(\"Color2\", axis = 1)\n",
    "pet_df = pet_df.drop(\"Color3\", axis = 1) # colors dropped"
   ]
  },
  {
   "cell_type": "code",
   "execution_count": 7,
   "metadata": {},
   "outputs": [],
   "source": [
    "# convert labels to binary\n",
    "test_df = pet_df.assign(y = [1 if a < 3 else 0 for a in pet_df[\"AdoptionSpeed\"]]).drop(\"AdoptionSpeed\",axis=1)\n",
    "\n",
    "#0 - Pet was adopted on the same day as it was listed.\n",
    "#1 - Pet was adopted between 1 and 7 days (1st week) after being listed.\n",
    "#2 - Pet was adopted between 8 and 30 days (1st month) after being listed.\n",
    "#3 - Pet was adopted between 31 and 90 days (2nd & 3rd month) after being listed.\n",
    "#4 - No adoption after 100 days of being listed. (There are no pets in this dataset that waited between 90 and 100 days)."
   ]
  },
  {
   "cell_type": "code",
   "execution_count": 8,
   "metadata": {},
   "outputs": [
    {
     "name": "stdout",
     "output_type": "stream",
     "text": [
      "Number of Non-Adopted Pets:  5632 \n",
      "Number of Adopted Pets:  5933\n"
     ]
    }
   ],
   "source": [
    "print(\n",
    "    \"Number of Non-Adopted Pets: \",\n",
    "    len(test_df.query('y==0')),\n",
    "    \"\\nNumber of Adopted Pets: \",\n",
    "    len(test_df.query('y==1')),\n",
    ")"
   ]
  },
  {
   "cell_type": "markdown",
   "metadata": {},
   "source": [
    "# Section 4.1: Data Manipulation (Decision Trees)"
   ]
  },
  {
   "cell_type": "code",
   "execution_count": 9,
   "metadata": {},
   "outputs": [
    {
     "data": {
      "text/html": [
       "<div>\n",
       "<style scoped>\n",
       "    .dataframe tbody tr th:only-of-type {\n",
       "        vertical-align: middle;\n",
       "    }\n",
       "\n",
       "    .dataframe tbody tr th {\n",
       "        vertical-align: top;\n",
       "    }\n",
       "\n",
       "    .dataframe thead th {\n",
       "        text-align: right;\n",
       "    }\n",
       "</style>\n",
       "<table border=\"1\" class=\"dataframe\">\n",
       "  <thead>\n",
       "    <tr style=\"text-align: right;\">\n",
       "      <th></th>\n",
       "      <th>Type</th>\n",
       "      <th>Age</th>\n",
       "      <th>Breed1</th>\n",
       "      <th>Breed2</th>\n",
       "      <th>Gender</th>\n",
       "      <th>MaturitySize</th>\n",
       "      <th>FurLength</th>\n",
       "      <th>Vaccinated</th>\n",
       "      <th>Dewormed</th>\n",
       "      <th>Sterilized</th>\n",
       "      <th>Health</th>\n",
       "      <th>Fee</th>\n",
       "      <th>VideoAmt</th>\n",
       "      <th>PhotoAmt</th>\n",
       "      <th>y</th>\n",
       "    </tr>\n",
       "  </thead>\n",
       "  <tbody>\n",
       "    <tr>\n",
       "      <th>0</th>\n",
       "      <td>2</td>\n",
       "      <td>3</td>\n",
       "      <td>299</td>\n",
       "      <td>0</td>\n",
       "      <td>1</td>\n",
       "      <td>1</td>\n",
       "      <td>1</td>\n",
       "      <td>2</td>\n",
       "      <td>2</td>\n",
       "      <td>2</td>\n",
       "      <td>1</td>\n",
       "      <td>100</td>\n",
       "      <td>0</td>\n",
       "      <td>1.0</td>\n",
       "      <td>1</td>\n",
       "    </tr>\n",
       "    <tr>\n",
       "      <th>1</th>\n",
       "      <td>2</td>\n",
       "      <td>1</td>\n",
       "      <td>265</td>\n",
       "      <td>0</td>\n",
       "      <td>1</td>\n",
       "      <td>2</td>\n",
       "      <td>2</td>\n",
       "      <td>3</td>\n",
       "      <td>3</td>\n",
       "      <td>3</td>\n",
       "      <td>1</td>\n",
       "      <td>0</td>\n",
       "      <td>0</td>\n",
       "      <td>2.0</td>\n",
       "      <td>1</td>\n",
       "    </tr>\n",
       "    <tr>\n",
       "      <th>2</th>\n",
       "      <td>1</td>\n",
       "      <td>1</td>\n",
       "      <td>307</td>\n",
       "      <td>0</td>\n",
       "      <td>1</td>\n",
       "      <td>2</td>\n",
       "      <td>2</td>\n",
       "      <td>1</td>\n",
       "      <td>1</td>\n",
       "      <td>2</td>\n",
       "      <td>1</td>\n",
       "      <td>0</td>\n",
       "      <td>0</td>\n",
       "      <td>7.0</td>\n",
       "      <td>0</td>\n",
       "    </tr>\n",
       "    <tr>\n",
       "      <th>3</th>\n",
       "      <td>1</td>\n",
       "      <td>4</td>\n",
       "      <td>307</td>\n",
       "      <td>0</td>\n",
       "      <td>2</td>\n",
       "      <td>2</td>\n",
       "      <td>1</td>\n",
       "      <td>1</td>\n",
       "      <td>1</td>\n",
       "      <td>2</td>\n",
       "      <td>1</td>\n",
       "      <td>150</td>\n",
       "      <td>0</td>\n",
       "      <td>8.0</td>\n",
       "      <td>1</td>\n",
       "    </tr>\n",
       "    <tr>\n",
       "      <th>4</th>\n",
       "      <td>1</td>\n",
       "      <td>1</td>\n",
       "      <td>307</td>\n",
       "      <td>0</td>\n",
       "      <td>1</td>\n",
       "      <td>2</td>\n",
       "      <td>1</td>\n",
       "      <td>2</td>\n",
       "      <td>2</td>\n",
       "      <td>2</td>\n",
       "      <td>1</td>\n",
       "      <td>0</td>\n",
       "      <td>0</td>\n",
       "      <td>3.0</td>\n",
       "      <td>1</td>\n",
       "    </tr>\n",
       "  </tbody>\n",
       "</table>\n",
       "</div>"
      ],
      "text/plain": [
       "   Type  Age  Breed1  Breed2  Gender  MaturitySize  FurLength  Vaccinated  \\\n",
       "0     2    3     299       0       1             1          1           2   \n",
       "1     2    1     265       0       1             2          2           3   \n",
       "2     1    1     307       0       1             2          2           1   \n",
       "3     1    4     307       0       2             2          1           1   \n",
       "4     1    1     307       0       1             2          1           2   \n",
       "\n",
       "   Dewormed  Sterilized  Health  Fee  VideoAmt  PhotoAmt  y  \n",
       "0         2           2       1  100         0       1.0  1  \n",
       "1         3           3       1    0         0       2.0  1  \n",
       "2         1           2       1    0         0       7.0  0  \n",
       "3         1           2       1  150         0       8.0  1  \n",
       "4         2           2       1    0         0       3.0  1  "
      ]
     },
     "execution_count": 9,
     "metadata": {},
     "output_type": "execute_result"
    }
   ],
   "source": [
    "test_df.head() # relook at head of data"
   ]
  },
  {
   "cell_type": "code",
   "execution_count": 10,
   "metadata": {},
   "outputs": [],
   "source": [
    "# Reduce dimensionality of breed1 breed2: check if purebreed or not\n",
    "test_df = test_df.assign(purebreed = [1 if a == 0 else 0 for a in pet_df[\"Breed2\"]]).drop([\"Breed1\",\"Breed2\"],axis=1)"
   ]
  },
  {
   "cell_type": "code",
   "execution_count": 11,
   "metadata": {},
   "outputs": [],
   "source": [
    "# Breaking VideoAmt into quantiles (continuous)\n",
    "q1 = test_df['VideoAmt'].quantile(0.25)\n",
    "q2 = test_df['VideoAmt'].quantile(0.50)\n",
    "q3 = test_df['VideoAmt'].quantile(0.75)\n",
    "test_df = test_df.assign(video_cat = [0 if a <=q1 else(1 if a <= q2 else(2 if a <= q3 else 3)) for a in pet_df[\"VideoAmt\"]]).drop(\"VideoAmt\",axis=1)"
   ]
  },
  {
   "cell_type": "code",
   "execution_count": 12,
   "metadata": {},
   "outputs": [],
   "source": [
    "# Breaking Fee into quantiles\n",
    "# We realized that majority of pets have 0 fee (more than 75%)\n",
    "# hence, this is treated as a binary split (has fee vs no fee)\n",
    "\n",
    "q1 = test_df['Fee'].quantile(0.25)\n",
    "q2 = test_df['Fee'].quantile(0.50)\n",
    "q3 = test_df['Fee'].quantile(0.75)\n",
    "test_df = test_df.assign(fee_cat = [0 if a <=q1 else(1 if a <= q2 else(2 if a <= q3 else 3)) for a in pet_df[\"Fee\"]]).drop(\"Fee\",axis=1)"
   ]
  },
  {
   "cell_type": "code",
   "execution_count": 13,
   "metadata": {},
   "outputs": [],
   "source": [
    "test_df= test_df.assign(unknown_sterilized = [1 if a == 3 else 0 for a in pet_df[\"Sterilized\"]])"
   ]
  },
  {
   "cell_type": "code",
   "execution_count": 14,
   "metadata": {},
   "outputs": [],
   "source": [
    "test_df = test_df.assign(is_sterilized = [1 if a == 1 else 0 for a in pet_df[\"Sterilized\"]]).drop(\"Sterilized\",axis=1)"
   ]
  },
  {
   "cell_type": "code",
   "execution_count": 15,
   "metadata": {},
   "outputs": [],
   "source": [
    "# Breaking Age into intervals\n",
    "# give earlier ages more intricate intervals\n",
    "cut_labels = [0, 1, 2, 3, 4, 5]\n",
    "cut_bins = [0, 1, 2, 3, 6, 12, 300]\n",
    "# [0-1] month old: given 0\n",
    "# (1-2] months old: given 1\n",
    "# (2-3] months old: given 2\n",
    "# (3-6] months old: given 3\n",
    "# (6-12] months old: given 4,   4 and below: less than 1 year old\n",
    "# (12 and above] months old: given 5\n",
    "test_df['Age'] = pd.cut(test_df['Age'], bins=cut_bins, labels=cut_labels,\n",
    "                       include_lowest = True)"
   ]
  },
  {
   "cell_type": "code",
   "execution_count": 16,
   "metadata": {},
   "outputs": [
    {
     "data": {
      "text/html": [
       "<div>\n",
       "<style scoped>\n",
       "    .dataframe tbody tr th:only-of-type {\n",
       "        vertical-align: middle;\n",
       "    }\n",
       "\n",
       "    .dataframe tbody tr th {\n",
       "        vertical-align: top;\n",
       "    }\n",
       "\n",
       "    .dataframe thead th {\n",
       "        text-align: right;\n",
       "    }\n",
       "</style>\n",
       "<table border=\"1\" class=\"dataframe\">\n",
       "  <thead>\n",
       "    <tr style=\"text-align: right;\">\n",
       "      <th></th>\n",
       "      <th>Type</th>\n",
       "      <th>Age</th>\n",
       "      <th>Gender</th>\n",
       "      <th>MaturitySize</th>\n",
       "      <th>FurLength</th>\n",
       "      <th>Vaccinated</th>\n",
       "      <th>Dewormed</th>\n",
       "      <th>Health</th>\n",
       "      <th>PhotoAmt</th>\n",
       "      <th>y</th>\n",
       "      <th>purebreed</th>\n",
       "      <th>video_cat</th>\n",
       "      <th>fee_cat</th>\n",
       "      <th>unknown_sterilized</th>\n",
       "      <th>is_sterilized</th>\n",
       "    </tr>\n",
       "  </thead>\n",
       "  <tbody>\n",
       "    <tr>\n",
       "      <th>0</th>\n",
       "      <td>2</td>\n",
       "      <td>2</td>\n",
       "      <td>1</td>\n",
       "      <td>1</td>\n",
       "      <td>1</td>\n",
       "      <td>2</td>\n",
       "      <td>2</td>\n",
       "      <td>1</td>\n",
       "      <td>1.0</td>\n",
       "      <td>1</td>\n",
       "      <td>1</td>\n",
       "      <td>0</td>\n",
       "      <td>3</td>\n",
       "      <td>0</td>\n",
       "      <td>0</td>\n",
       "    </tr>\n",
       "    <tr>\n",
       "      <th>1</th>\n",
       "      <td>2</td>\n",
       "      <td>0</td>\n",
       "      <td>1</td>\n",
       "      <td>2</td>\n",
       "      <td>2</td>\n",
       "      <td>3</td>\n",
       "      <td>3</td>\n",
       "      <td>1</td>\n",
       "      <td>2.0</td>\n",
       "      <td>1</td>\n",
       "      <td>1</td>\n",
       "      <td>0</td>\n",
       "      <td>0</td>\n",
       "      <td>1</td>\n",
       "      <td>0</td>\n",
       "    </tr>\n",
       "    <tr>\n",
       "      <th>2</th>\n",
       "      <td>1</td>\n",
       "      <td>0</td>\n",
       "      <td>1</td>\n",
       "      <td>2</td>\n",
       "      <td>2</td>\n",
       "      <td>1</td>\n",
       "      <td>1</td>\n",
       "      <td>1</td>\n",
       "      <td>7.0</td>\n",
       "      <td>0</td>\n",
       "      <td>1</td>\n",
       "      <td>0</td>\n",
       "      <td>0</td>\n",
       "      <td>0</td>\n",
       "      <td>0</td>\n",
       "    </tr>\n",
       "    <tr>\n",
       "      <th>3</th>\n",
       "      <td>1</td>\n",
       "      <td>3</td>\n",
       "      <td>2</td>\n",
       "      <td>2</td>\n",
       "      <td>1</td>\n",
       "      <td>1</td>\n",
       "      <td>1</td>\n",
       "      <td>1</td>\n",
       "      <td>8.0</td>\n",
       "      <td>1</td>\n",
       "      <td>1</td>\n",
       "      <td>0</td>\n",
       "      <td>3</td>\n",
       "      <td>0</td>\n",
       "      <td>0</td>\n",
       "    </tr>\n",
       "    <tr>\n",
       "      <th>4</th>\n",
       "      <td>1</td>\n",
       "      <td>0</td>\n",
       "      <td>1</td>\n",
       "      <td>2</td>\n",
       "      <td>1</td>\n",
       "      <td>2</td>\n",
       "      <td>2</td>\n",
       "      <td>1</td>\n",
       "      <td>3.0</td>\n",
       "      <td>1</td>\n",
       "      <td>1</td>\n",
       "      <td>0</td>\n",
       "      <td>0</td>\n",
       "      <td>0</td>\n",
       "      <td>0</td>\n",
       "    </tr>\n",
       "  </tbody>\n",
       "</table>\n",
       "</div>"
      ],
      "text/plain": [
       "   Type Age  Gender  MaturitySize  FurLength  Vaccinated  Dewormed  Health  \\\n",
       "0     2   2       1             1          1           2         2       1   \n",
       "1     2   0       1             2          2           3         3       1   \n",
       "2     1   0       1             2          2           1         1       1   \n",
       "3     1   3       2             2          1           1         1       1   \n",
       "4     1   0       1             2          1           2         2       1   \n",
       "\n",
       "   PhotoAmt  y  purebreed  video_cat  fee_cat  unknown_sterilized  \\\n",
       "0       1.0  1          1          0        3                   0   \n",
       "1       2.0  1          1          0        0                   1   \n",
       "2       7.0  0          1          0        0                   0   \n",
       "3       8.0  1          1          0        3                   0   \n",
       "4       3.0  1          1          0        0                   0   \n",
       "\n",
       "   is_sterilized  \n",
       "0              0  \n",
       "1              0  \n",
       "2              0  \n",
       "3              0  \n",
       "4              0  "
      ]
     },
     "execution_count": 16,
     "metadata": {},
     "output_type": "execute_result"
    }
   ],
   "source": [
    "test_df.head()"
   ]
  },
  {
   "cell_type": "code",
   "execution_count": 17,
   "metadata": {},
   "outputs": [],
   "source": [
    "# Splitting data into dogs == 1 and cats == 2\n",
    "\n",
    "dog_df = test_df.query('Type==1').drop(\"Type\",axis=1)\n",
    "cat_df = test_df.query('Type==2').drop(\"Type\",axis=1)"
   ]
  },
  {
   "cell_type": "code",
   "execution_count": 18,
   "metadata": {},
   "outputs": [
    {
     "data": {
      "text/html": [
       "<div>\n",
       "<style scoped>\n",
       "    .dataframe tbody tr th:only-of-type {\n",
       "        vertical-align: middle;\n",
       "    }\n",
       "\n",
       "    .dataframe tbody tr th {\n",
       "        vertical-align: top;\n",
       "    }\n",
       "\n",
       "    .dataframe thead th {\n",
       "        text-align: right;\n",
       "    }\n",
       "</style>\n",
       "<table border=\"1\" class=\"dataframe\">\n",
       "  <thead>\n",
       "    <tr style=\"text-align: right;\">\n",
       "      <th></th>\n",
       "      <th>y</th>\n",
       "    </tr>\n",
       "  </thead>\n",
       "  <tbody>\n",
       "    <tr>\n",
       "      <th>0</th>\n",
       "      <td>3485</td>\n",
       "    </tr>\n",
       "    <tr>\n",
       "      <th>1</th>\n",
       "      <td>3137</td>\n",
       "    </tr>\n",
       "  </tbody>\n",
       "</table>\n",
       "</div>"
      ],
      "text/plain": [
       "      y\n",
       "0  3485\n",
       "1  3137"
      ]
     },
     "execution_count": 18,
     "metadata": {},
     "output_type": "execute_result"
    }
   ],
   "source": [
    "dog_df['y'].value_counts().to_frame()"
   ]
  },
  {
   "cell_type": "code",
   "execution_count": 19,
   "metadata": {},
   "outputs": [
    {
     "data": {
      "text/html": [
       "<div>\n",
       "<style scoped>\n",
       "    .dataframe tbody tr th:only-of-type {\n",
       "        vertical-align: middle;\n",
       "    }\n",
       "\n",
       "    .dataframe tbody tr th {\n",
       "        vertical-align: top;\n",
       "    }\n",
       "\n",
       "    .dataframe thead th {\n",
       "        text-align: right;\n",
       "    }\n",
       "</style>\n",
       "<table border=\"1\" class=\"dataframe\">\n",
       "  <thead>\n",
       "    <tr style=\"text-align: right;\">\n",
       "      <th></th>\n",
       "      <th>y</th>\n",
       "    </tr>\n",
       "  </thead>\n",
       "  <tbody>\n",
       "    <tr>\n",
       "      <th>1</th>\n",
       "      <td>2796</td>\n",
       "    </tr>\n",
       "    <tr>\n",
       "      <th>0</th>\n",
       "      <td>2147</td>\n",
       "    </tr>\n",
       "  </tbody>\n",
       "</table>\n",
       "</div>"
      ],
      "text/plain": [
       "      y\n",
       "1  2796\n",
       "0  2147"
      ]
     },
     "execution_count": 19,
     "metadata": {},
     "output_type": "execute_result"
    }
   ],
   "source": [
    "cat_df['y'].value_counts().to_frame()"
   ]
  },
  {
   "cell_type": "code",
   "execution_count": 20,
   "metadata": {},
   "outputs": [
    {
     "data": {
      "image/png": "[encoded data removed]",
      "text/plain": [
       "<Figure size 432x288 with 1 Axes>"
      ]
     },
     "metadata": {},
     "output_type": "display_data"
    }
   ],
   "source": [
    "labels = ['Adopted Cats', 'Unadopted Cats', 'Unadopted Dogs', 'Adopted Dogs']\n",
    "sizes = [cat_df['y'].value_counts()[1]/len(test_df) * 100,  \n",
    "         cat_df['y'].value_counts()[0]/len(test_df) * 100,\n",
    "         dog_df['y'].value_counts()[0]/len(test_df) * 100,\n",
    "         dog_df['y'].value_counts()[1]/len(test_df) * 100]\n",
    "p_colors = ['darkorange', 'navajowhite', 'burlywood' , 'goldenrod']\n",
    "explode = (0, 0, 0.1, 0.1)  # only \"explode\" the 2nd slice (i.e. 'Hogs')\n",
    "\n",
    "fig1, ax1 = plt.subplots()\n",
    "ax1.pie(sizes, explode=explode, labels=labels, autopct='%1.1f%%',\n",
    "        shadow=True, startangle=90,\n",
    "       colors = p_colors)\n",
    "ax1.axis('equal')  # Equal aspect ratio ensures that pie is drawn as a circle.\n",
    "plt.rcParams['figure.facecolor'] = 'FFF6F4'\n",
    "plt.rcParams.update({'font.size': 13.5})\n",
    "plt.show()\n",
    "\n",
    "# Overview of entire dataset:\n",
    "# More than half the cats are being adopted,\n",
    "# while less than half the dogs are adopted,\n",
    "# despite dogs taking the majority of the dataset"
   ]
  },
  {
   "cell_type": "code",
   "execution_count": 21,
   "metadata": {},
   "outputs": [],
   "source": [
    "allcols = test_df.drop('y',axis=1).columns.tolist()\n",
    "feature_cols = allcols.copy()"
   ]
  },
  {
   "cell_type": "markdown",
   "metadata": {},
   "source": [
    "### Splitting Data into Training, Validation and Test Set"
   ]
  },
  {
   "cell_type": "code",
   "execution_count": 22,
   "metadata": {},
   "outputs": [],
   "source": [
    "X = np.asarray(test_df.drop('y',axis=1))\n",
    "y = np.asarray(test_df['y'])\n",
    "\n",
    "X_train, X_test, y_train, y_test = train_test_split(X, y, test_size=0.1, random_state=4)\n",
    "X_train, X_valid, y_train, y_valid = train_test_split(X_train, y_train, test_size=0.2, random_state=4)"
   ]
  },
  {
   "cell_type": "code",
   "execution_count": 23,
   "metadata": {},
   "outputs": [],
   "source": [
    "X_train = pd.DataFrame(data=X_train, columns=allcols)"
   ]
  },
  {
   "cell_type": "markdown",
   "metadata": {},
   "source": [
    "print(\n",
    "    \"Number of training instances: \",\n",
    "    len(X_train),\n",
    "    \"\\nNumber of validation instances: \",\n",
    "    len(X_valid),\n",
    "    \"\\nNumber of test instances: \",\n",
    "    len(X_test),\n",
    ")"
   ]
  },
  {
   "cell_type": "markdown",
   "metadata": {},
   "source": [
    "## Simple Trials with other Baseline Models"
   ]
  },
  {
   "cell_type": "markdown",
   "metadata": {},
   "source": [
    "To get a rough gauge of which models to implement and the range of accuracy scores to expect, we started with some simple and quick models from sklearn and checked their performance."
   ]
  },
  {
   "cell_type": "markdown",
   "metadata": {},
   "source": [
    "### Multinomial Naive Bayes"
   ]
  },
  {
   "cell_type": "code",
   "execution_count": 24,
   "metadata": {},
   "outputs": [],
   "source": [
    "# multinomial for features with discrete values\n",
    "\n",
    "MultiNB = MultinomialNB()\n",
    "\n",
    "MultiNB.fit(X_train, y_train)\n",
    "y_pred = MultiNB.predict(X_test)\n",
    "res1 = accuracy_score(y_test, y_pred)"
   ]
  },
  {
   "cell_type": "markdown",
   "metadata": {},
   "source": [
    "### K-Nearest Neighbors"
   ]
  },
  {
   "cell_type": "code",
   "execution_count": 25,
   "metadata": {},
   "outputs": [],
   "source": [
    "# try distance metrics “jaccard” \n",
    "\n",
    "KNN_jaccard = KNeighborsClassifier(n_neighbors=3, metric = \"jaccard\")\n",
    "KNN_jaccard.fit(X_train, y_train)\n",
    "y_pred = KNN_jaccard.predict(X_test)\n",
    "res2= accuracy_score(y_test, y_pred)"
   ]
  },
  {
   "cell_type": "markdown",
   "metadata": {},
   "source": [
    "## Logistic Regression"
   ]
  },
  {
   "cell_type": "code",
   "execution_count": 26,
   "metadata": {},
   "outputs": [],
   "source": [
    "lr = LogisticRegression(multi_class='multinomial',random_state=0).fit(X_train,y_train)\n",
    "y_pred = lr.predict(X_test)\n",
    "res4= accuracy_score(y_test, y_pred)"
   ]
  },
  {
   "cell_type": "markdown",
   "metadata": {},
   "source": [
    "## Decision Forest"
   ]
  },
  {
   "cell_type": "code",
   "execution_count": 27,
   "metadata": {},
   "outputs": [],
   "source": [
    "clf2 = RandomForestClassifier(n_estimators=50, random_state=1)\n",
    "clf2.fit(X_train,y_train)\n",
    "y_pred = clf2.predict(X_test)\n",
    "res5=accuracy_score(y_test, y_pred)"
   ]
  },
  {
   "cell_type": "markdown",
   "metadata": {},
   "source": [
    "## Baseline Results"
   ]
  },
  {
   "cell_type": "code",
   "execution_count": 28,
   "metadata": {},
   "outputs": [
    {
     "data": {
      "text/html": [
       "<div>\n",
       "<style scoped>\n",
       "    .dataframe tbody tr th:only-of-type {\n",
       "        vertical-align: middle;\n",
       "    }\n",
       "\n",
       "    .dataframe tbody tr th {\n",
       "        vertical-align: top;\n",
       "    }\n",
       "\n",
       "    .dataframe thead th {\n",
       "        text-align: right;\n",
       "    }\n",
       "</style>\n",
       "<table border=\"1\" class=\"dataframe\">\n",
       "  <thead>\n",
       "    <tr style=\"text-align: right;\">\n",
       "      <th></th>\n",
       "      <th>Classifier</th>\n",
       "      <th>Score</th>\n",
       "    </tr>\n",
       "  </thead>\n",
       "  <tbody>\n",
       "    <tr>\n",
       "      <th>0</th>\n",
       "      <td>MNB</td>\n",
       "      <td>0.601556</td>\n",
       "    </tr>\n",
       "    <tr>\n",
       "      <th>1</th>\n",
       "      <td>KNN</td>\n",
       "      <td>0.517718</td>\n",
       "    </tr>\n",
       "    <tr>\n",
       "      <th>2</th>\n",
       "      <td>Logistic R</td>\n",
       "      <td>0.628349</td>\n",
       "    </tr>\n",
       "    <tr>\n",
       "      <th>3</th>\n",
       "      <td>Decision Forest</td>\n",
       "      <td>0.638721</td>\n",
       "    </tr>\n",
       "  </tbody>\n",
       "</table>\n",
       "</div>"
      ],
      "text/plain": [
       "        Classifier     Score\n",
       "0              MNB  0.601556\n",
       "1              KNN  0.517718\n",
       "2       Logistic R  0.628349\n",
       "3  Decision Forest  0.638721"
      ]
     },
     "execution_count": 28,
     "metadata": {},
     "output_type": "execute_result"
    }
   ],
   "source": [
    "scores = {'Classifier': ['MNB','KNN','Logistic R','Decision Forest'],\n",
    "        'Score': [res1,res2,res4,res5]\n",
    "        }\n",
    "\n",
    "df_baseline = pd.DataFrame(scores, columns = ['Classifier', 'Score'])\n",
    "df_baseline"
   ]
  },
  {
   "cell_type": "markdown",
   "metadata": {},
   "source": [
    "## Decision Tree (on the overall dataset)"
   ]
  },
  {
   "cell_type": "markdown",
   "metadata": {},
   "source": [
    "Ultimately, we performed Decision Trees on the overall dataset to identify its feasibility and workability before splitting into our two types: cats and dogs. We chose decision trees as the model to focus on as it is able to identify key variables in its decision making process, which is in line with our project's goal and difficult to accomplish with other types of modelling."
   ]
  },
  {
   "cell_type": "code",
   "execution_count": 29,
   "metadata": {},
   "outputs": [],
   "source": [
    "def feature_imp(model,X_train):\n",
    "    a=dict(zip(X_train.iloc[:].columns, model.feature_importances_.round(3)))\n",
    "    b = dict()\n",
    "    for key, value in a.items():\n",
    "        if value > 0 :\n",
    "            b[key] = value\n",
    "\n",
    "    return sorted(b.items(), key=lambda x: x[1],reverse=True)"
   ]
  },
  {
   "cell_type": "code",
   "execution_count": 30,
   "metadata": {},
   "outputs": [
    {
     "name": "stdout",
     "output_type": "stream",
     "text": [
      "Best max_depth for gini: 7\n",
      "Best max_depth for entropy: 7\n"
     ]
    },
    {
     "data": {
      "image/png": "[encoded data removed]",
      "text/plain": [
       "<Figure size 432x288 with 1 Axes>"
      ]
     },
     "metadata": {},
     "output_type": "display_data"
    }
   ],
   "source": [
    "# We will attempt to prune the DecisionTree on the \n",
    "# max_depth parameter, on both 'gini' and 'entropy' \n",
    "\n",
    "max_depth = []\n",
    "acc_gini = []\n",
    "acc_entropy = []\n",
    "for i in range(2,50):\n",
    "    dtree = DecisionTreeClassifier(random_state=0,criterion='gini', max_depth=i)\n",
    "    dtree.fit(X_train, y_train)\n",
    "    pred = dtree.predict(X_valid)\n",
    "    acc_gini.append(accuracy_score(y_valid, pred))\n",
    "    ###\n",
    "    dtree = DecisionTreeClassifier(criterion='entropy', max_depth=i)\n",
    "    dtree.fit(X_train, y_train)\n",
    "    pred = dtree.predict(X_valid)\n",
    "    acc_entropy.append(accuracy_score(y_valid, pred))\n",
    "    ####\n",
    "    max_depth.append(i)\n",
    "    d = pd.DataFrame({'acc_gini':pd.Series(acc_gini), \n",
    "    'acc_entropy':pd.Series(acc_entropy),\n",
    "    'max_depth':pd.Series(max_depth)})\n",
    "# visualizing changes in parameters\n",
    "plt.plot('max_depth','acc_gini', data=d, label='gini')\n",
    "plt.plot('max_depth','acc_entropy', data=d, label='entropy')\n",
    "plt.xlabel('max_depth')\n",
    "plt.ylabel('accuracy')\n",
    "plt.legend()\n",
    "print(\"Best max_depth for gini:\", d.sort_values('acc_gini',ascending=False).iloc[0,2])\n",
    "print(\"Best max_depth for entropy:\", d.sort_values('acc_entropy',ascending=False).iloc[0,2])"
   ]
  },
  {
   "cell_type": "code",
   "execution_count": 31,
   "metadata": {},
   "outputs": [
    {
     "data": {
      "text/plain": [
       "0.6306436119116234"
      ]
     },
     "execution_count": 31,
     "metadata": {},
     "output_type": "execute_result"
    }
   ],
   "source": [
    "clf = DecisionTreeClassifier(random_state=0,max_depth=7)\n",
    "clf.fit(X_train,y_train)\n",
    "y_pred = clf.predict(X_valid)\n",
    "test3 = clf.predict_proba(X_valid)\n",
    "accuracy_score(y_valid, y_pred)"
   ]
  },
  {
   "cell_type": "code",
   "execution_count": 32,
   "metadata": {},
   "outputs": [
    {
     "data": {
      "text/html": [
       "<div>\n",
       "<style scoped>\n",
       "    .dataframe tbody tr th:only-of-type {\n",
       "        vertical-align: middle;\n",
       "    }\n",
       "\n",
       "    .dataframe tbody tr th {\n",
       "        vertical-align: top;\n",
       "    }\n",
       "\n",
       "    .dataframe thead th {\n",
       "        text-align: right;\n",
       "    }\n",
       "</style>\n",
       "<table border=\"1\" class=\"dataframe\">\n",
       "  <thead>\n",
       "    <tr style=\"text-align: right;\">\n",
       "      <th></th>\n",
       "      <th>True Y=0</th>\n",
       "      <th>True Y=1</th>\n",
       "    </tr>\n",
       "  </thead>\n",
       "  <tbody>\n",
       "    <tr>\n",
       "      <th>Predicted Y=0</th>\n",
       "      <td>621</td>\n",
       "      <td>388</td>\n",
       "    </tr>\n",
       "    <tr>\n",
       "      <th>Predicted Y=1</th>\n",
       "      <td>381</td>\n",
       "      <td>692</td>\n",
       "    </tr>\n",
       "  </tbody>\n",
       "</table>\n",
       "</div>"
      ],
      "text/plain": [
       "               True Y=0  True Y=1\n",
       "Predicted Y=0       621       388\n",
       "Predicted Y=1       381       692"
      ]
     },
     "metadata": {},
     "output_type": "display_data"
    },
    {
     "name": "stdout",
     "output_type": "stream",
     "text": [
      "Accuracy: 0.6306\n",
      "Specificity: 0.6198\n",
      "Sensitivity 0.6407\n",
      "F1-Score: 0.6428\n",
      "AUC: 0.6303\n"
     ]
    },
    {
     "data": {
      "text/plain": [
       "[('Age', 0.398),\n",
       " ('PhotoAmt', 0.149),\n",
       " ('FurLength', 0.089),\n",
       " ('Type', 0.085),\n",
       " ('MaturitySize', 0.085),\n",
       " ('is_sterilized', 0.056),\n",
       " ('Dewormed', 0.036),\n",
       " ('Gender', 0.032),\n",
       " ('unknown_sterilized', 0.02),\n",
       " ('Vaccinated', 0.014),\n",
       " ('fee_cat', 0.013),\n",
       " ('Health', 0.01),\n",
       " ('video_cat', 0.009),\n",
       " ('purebreed', 0.005)]"
      ]
     },
     "execution_count": 32,
     "metadata": {},
     "output_type": "execute_result"
    }
   ],
   "source": [
    "cm = pd.DataFrame(confusion_matrix(y_pred, y_valid))\n",
    "cm.columns = ['True Y=0','True Y=1']\n",
    "cm.index = ['Predicted Y=0','Predicted Y=1']\n",
    "display(cm)\n",
    "specificity = cm.iloc[0, 0]/(cm.iloc[0, 0] + cm.iloc[1, 0])\n",
    "print(\"Accuracy:\",round(accuracy_score(y_valid, y_pred),4))\n",
    "print('Specificity:', round(specificity,4))\n",
    "print('Sensitivity',round(recall_score(y_valid,y_pred),4))\n",
    "print('F1-Score:', round(f1_score(y_valid,y_pred),4))\n",
    "print('AUC:',round(roc_auc_score(y_valid, y_pred),4))\n",
    "feature_imp(clf,X_train)"
   ]
  },
  {
   "cell_type": "code",
   "execution_count": 33,
   "metadata": {},
   "outputs": [
    {
     "name": "stdout",
     "output_type": "stream",
     "text": [
      "The binary tree structure has 195 nodes and has the following tree structure:\n",
      "node=0 test node: go to node 1 if X[:, 1] <= 2.5 else to node 106.\n",
      "\tnode=1 test node: go to node 2 if X[:, 0] <= 1.5 else to node 59.\n",
      "\t\tnode=2 test node: go to node 3 if X[:, 2] <= 1.5 else to node 34.\n",
      "\t\t\tnode=3 test node: go to node 4 if X[:, 6] <= 2.5 else to node 19.\n",
      "\t\t\t\tnode=4 test node: go to node 5 if X[:, 1] <= 0.5 else to node 12.\n",
      "\t\t\t\t\tnode=5 test node: go to node 6 if X[:, 5] <= 1.5 else to node 9.\n",
      "\t\t\t\t\t\tnode=6 test node: go to node 7 if X[:, 8] <= 6.5 else to node 8.\n",
      "\t\t\t\t\t\t\tnode=7 leaf node.\n",
      "\t\t\t\t\t\t\tnode=8 leaf node.\n",
      "\t\t\t\t\t\tnode=9 test node: go to node 10 if X[:, 10] <= 1.5 else to node 11.\n",
      "\t\t\t\t\t\t\tnode=10 leaf node.\n",
      "\t\t\t\t\t\t\tnode=11 leaf node.\n",
      "\t\t\t\t\tnode=12 test node: go to node 13 if X[:, 8] <= 6.5 else to node 16.\n",
      "\t\t\t\t\t\tnode=13 test node: go to node 14 if X[:, 13] <= 0.5 else to node 15.\n",
      "\t\t\t\t\t\t\tnode=14 leaf node.\n",
      "\t\t\t\t\t\t\tnode=15 leaf node.\n",
      "\t\t\t\t\t\tnode=16 test node: go to node 17 if X[:, 8] <= 9.5 else to node 18.\n",
      "\t\t\t\t\t\t\tnode=17 leaf node.\n",
      "\t\t\t\t\t\t\tnode=18 leaf node.\n",
      "\t\t\t\tnode=19 test node: go to node 20 if X[:, 8] <= 2.5 else to node 27.\n",
      "\t\t\t\t\tnode=20 test node: go to node 21 if X[:, 12] <= 0.5 else to node 24.\n",
      "\t\t\t\t\t\tnode=21 test node: go to node 22 if X[:, 8] <= 1.5 else to node 23.\n",
      "\t\t\t\t\t\t\tnode=22 leaf node.\n",
      "\t\t\t\t\t\t\tnode=23 leaf node.\n",
      "\t\t\t\t\t\tnode=24 test node: go to node 25 if X[:, 8] <= 1.5 else to node 26.\n",
      "\t\t\t\t\t\t\tnode=25 leaf node.\n",
      "\t\t\t\t\t\t\tnode=26 leaf node.\n",
      "\t\t\t\t\tnode=27 test node: go to node 28 if X[:, 9] <= 0.5 else to node 31.\n",
      "\t\t\t\t\t\tnode=28 test node: go to node 29 if X[:, 5] <= 2.0 else to node 30.\n",
      "\t\t\t\t\t\t\tnode=29 leaf node.\n",
      "\t\t\t\t\t\t\tnode=30 leaf node.\n",
      "\t\t\t\t\t\tnode=31 test node: go to node 32 if X[:, 1] <= 0.5 else to node 33.\n",
      "\t\t\t\t\t\t\tnode=32 leaf node.\n",
      "\t\t\t\t\t\t\tnode=33 leaf node.\n",
      "\t\t\tnode=34 test node: go to node 35 if X[:, 13] <= 0.5 else to node 50.\n",
      "\t\t\t\tnode=35 test node: go to node 36 if X[:, 1] <= 1.5 else to node 43.\n",
      "\t\t\t\t\tnode=36 test node: go to node 37 if X[:, 6] <= 2.5 else to node 40.\n",
      "\t\t\t\t\t\tnode=37 test node: go to node 38 if X[:, 8] <= 1.5 else to node 39.\n",
      "\t\t\t\t\t\t\tnode=38 leaf node.\n",
      "\t\t\t\t\t\t\tnode=39 leaf node.\n",
      "\t\t\t\t\t\tnode=40 test node: go to node 41 if X[:, 8] <= 4.5 else to node 42.\n",
      "\t\t\t\t\t\t\tnode=41 leaf node.\n",
      "\t\t\t\t\t\t\tnode=42 leaf node.\n",
      "\t\t\t\t\tnode=43 test node: go to node 44 if X[:, 8] <= 1.5 else to node 47.\n",
      "\t\t\t\t\t\tnode=44 test node: go to node 45 if X[:, 3] <= 2.5 else to node 46.\n",
      "\t\t\t\t\t\t\tnode=45 leaf node.\n",
      "\t\t\t\t\t\t\tnode=46 leaf node.\n",
      "\t\t\t\t\t\tnode=47 test node: go to node 48 if X[:, 12] <= 0.5 else to node 49.\n",
      "\t\t\t\t\t\t\tnode=48 leaf node.\n",
      "\t\t\t\t\t\t\tnode=49 leaf node.\n",
      "\t\t\t\tnode=50 test node: go to node 51 if X[:, 3] <= 2.5 else to node 58.\n",
      "\t\t\t\t\tnode=51 test node: go to node 52 if X[:, 8] <= 5.5 else to node 55.\n",
      "\t\t\t\t\t\tnode=52 test node: go to node 53 if X[:, 3] <= 1.5 else to node 54.\n",
      "\t\t\t\t\t\t\tnode=53 leaf node.\n",
      "\t\t\t\t\t\t\tnode=54 leaf node.\n",
      "\t\t\t\t\t\tnode=55 test node: go to node 56 if X[:, 4] <= 2.5 else to node 57.\n",
      "\t\t\t\t\t\t\tnode=56 leaf node.\n",
      "\t\t\t\t\t\t\tnode=57 leaf node.\n",
      "\t\t\t\t\tnode=58 leaf node.\n",
      "\t\tnode=59 test node: go to node 60 if X[:, 8] <= 0.5 else to node 77.\n",
      "\t\t\tnode=60 test node: go to node 61 if X[:, 1] <= 0.5 else to node 68.\n",
      "\t\t\t\tnode=61 test node: go to node 62 if X[:, 11] <= 1.5 else to node 67.\n",
      "\t\t\t\t\tnode=62 test node: go to node 63 if X[:, 2] <= 1.5 else to node 64.\n",
      "\t\t\t\t\t\tnode=63 leaf node.\n",
      "\t\t\t\t\t\tnode=64 test node: go to node 65 if X[:, 4] <= 2.0 else to node 66.\n",
      "\t\t\t\t\t\t\tnode=65 leaf node.\n",
      "\t\t\t\t\t\t\tnode=66 leaf node.\n",
      "\t\t\t\t\tnode=67 leaf node.\n",
      "\t\t\t\tnode=68 test node: go to node 69 if X[:, 7] <= 1.5 else to node 76.\n",
      "\t\t\t\t\tnode=69 test node: go to node 70 if X[:, 4] <= 1.5 else to node 73.\n",
      "\t\t\t\t\t\tnode=70 test node: go to node 71 if X[:, 2] <= 1.5 else to node 72.\n",
      "\t\t\t\t\t\t\tnode=71 leaf node.\n",
      "\t\t\t\t\t\t\tnode=72 leaf node.\n",
      "\t\t\t\t\t\tnode=73 test node: go to node 74 if X[:, 3] <= 1.5 else to node 75.\n",
      "\t\t\t\t\t\t\tnode=74 leaf node.\n",
      "\t\t\t\t\t\t\tnode=75 leaf node.\n",
      "\t\t\t\t\tnode=76 leaf node.\n",
      "\t\t\tnode=77 test node: go to node 78 if X[:, 1] <= 1.5 else to node 93.\n",
      "\t\t\t\tnode=78 test node: go to node 79 if X[:, 8] <= 11.5 else to node 86.\n",
      "\t\t\t\t\tnode=79 test node: go to node 80 if X[:, 3] <= 1.5 else to node 83.\n",
      "\t\t\t\t\t\tnode=80 test node: go to node 81 if X[:, 8] <= 2.5 else to node 82.\n",
      "\t\t\t\t\t\t\tnode=81 leaf node.\n",
      "\t\t\t\t\t\t\tnode=82 leaf node.\n",
      "\t\t\t\t\t\tnode=83 test node: go to node 84 if X[:, 8] <= 10.5 else to node 85.\n",
      "\t\t\t\t\t\t\tnode=84 leaf node.\n",
      "\t\t\t\t\t\t\tnode=85 leaf node.\n",
      "\t\t\t\t\tnode=86 test node: go to node 87 if X[:, 2] <= 1.5 else to node 90.\n",
      "\t\t\t\t\t\tnode=87 test node: go to node 88 if X[:, 1] <= 0.5 else to node 89.\n",
      "\t\t\t\t\t\t\tnode=88 leaf node.\n",
      "\t\t\t\t\t\t\tnode=89 leaf node.\n",
      "\t\t\t\t\t\tnode=90 test node: go to node 91 if X[:, 8] <= 26.0 else to node 92.\n",
      "\t\t\t\t\t\t\tnode=91 leaf node.\n",
      "\t\t\t\t\t\t\tnode=92 leaf node.\n",
      "\t\t\t\tnode=93 test node: go to node 94 if X[:, 13] <= 0.5 else to node 101.\n",
      "\t\t\t\t\tnode=94 test node: go to node 95 if X[:, 4] <= 2.5 else to node 98.\n",
      "\t\t\t\t\t\tnode=95 test node: go to node 96 if X[:, 8] <= 23.5 else to node 97.\n",
      "\t\t\t\t\t\t\tnode=96 leaf node.\n",
      "\t\t\t\t\t\t\tnode=97 leaf node.\n",
      "\t\t\t\t\t\tnode=98 test node: go to node 99 if X[:, 10] <= 1.5 else to node 100.\n",
      "\t\t\t\t\t\t\tnode=99 leaf node.\n",
      "\t\t\t\t\t\t\tnode=100 leaf node.\n",
      "\t\t\t\t\tnode=101 test node: go to node 102 if X[:, 8] <= 6.0 else to node 105.\n",
      "\t\t\t\t\t\tnode=102 test node: go to node 103 if X[:, 5] <= 1.5 else to node 104.\n",
      "\t\t\t\t\t\t\tnode=103 leaf node.\n",
      "\t\t\t\t\t\t\tnode=104 leaf node.\n",
      "\t\t\t\t\t\tnode=105 leaf node.\n",
      "\tnode=106 test node: go to node 107 if X[:, 4] <= 2.5 else to node 168.\n",
      "\t\tnode=107 test node: go to node 108 if X[:, 3] <= 1.5 else to node 139.\n",
      "\t\t\tnode=108 test node: go to node 109 if X[:, 1] <= 4.5 else to node 124.\n",
      "\t\t\t\tnode=109 test node: go to node 110 if X[:, 4] <= 1.5 else to node 117.\n",
      "\t\t\t\t\tnode=110 test node: go to node 111 if X[:, 0] <= 1.5 else to node 114.\n",
      "\t\t\t\t\t\tnode=111 test node: go to node 112 if X[:, 8] <= 4.5 else to node 113.\n",
      "\t\t\t\t\t\t\tnode=112 leaf node.\n",
      "\t\t\t\t\t\t\tnode=113 leaf node.\n",
      "\t\t\t\t\t\tnode=114 test node: go to node 115 if X[:, 11] <= 1.5 else to node 116.\n",
      "\t\t\t\t\t\t\tnode=115 leaf node.\n",
      "\t\t\t\t\t\t\tnode=116 leaf node.\n",
      "\t\t\t\t\tnode=117 test node: go to node 118 if X[:, 8] <= 4.5 else to node 121.\n",
      "\t\t\t\t\t\tnode=118 test node: go to node 119 if X[:, 6] <= 1.5 else to node 120.\n",
      "\t\t\t\t\t\t\tnode=119 leaf node.\n",
      "\t\t\t\t\t\t\tnode=120 leaf node.\n",
      "\t\t\t\t\t\tnode=121 test node: go to node 122 if X[:, 5] <= 1.5 else to node 123.\n",
      "\t\t\t\t\t\t\tnode=122 leaf node.\n",
      "\t\t\t\t\t\t\tnode=123 leaf node.\n",
      "\t\t\t\tnode=124 test node: go to node 125 if X[:, 6] <= 1.5 else to node 132.\n",
      "\t\t\t\t\tnode=125 test node: go to node 126 if X[:, 11] <= 1.5 else to node 129.\n",
      "\t\t\t\t\t\tnode=126 test node: go to node 127 if X[:, 8] <= 1.5 else to node 128.\n",
      "\t\t\t\t\t\t\tnode=127 leaf node.\n",
      "\t\t\t\t\t\t\tnode=128 leaf node.\n",
      "\t\t\t\t\t\tnode=129 test node: go to node 130 if X[:, 8] <= 0.5 else to node 131.\n",
      "\t\t\t\t\t\t\tnode=130 leaf node.\n",
      "\t\t\t\t\t\t\tnode=131 leaf node.\n",
      "\t\t\t\t\tnode=132 test node: go to node 133 if X[:, 8] <= 3.5 else to node 136.\n",
      "\t\t\t\t\t\tnode=133 test node: go to node 134 if X[:, 7] <= 1.5 else to node 135.\n",
      "\t\t\t\t\t\t\tnode=134 leaf node.\n",
      "\t\t\t\t\t\t\tnode=135 leaf node.\n",
      "\t\t\t\t\t\tnode=136 test node: go to node 137 if X[:, 11] <= 1.5 else to node 138.\n",
      "\t\t\t\t\t\t\tnode=137 leaf node.\n",
      "\t\t\t\t\t\t\tnode=138 leaf node.\n",
      "\t\t\tnode=139 test node: go to node 140 if X[:, 13] <= 0.5 else to node 155.\n",
      "\t\t\t\tnode=140 test node: go to node 141 if X[:, 1] <= 3.5 else to node 148.\n",
      "\t\t\t\t\tnode=141 test node: go to node 142 if X[:, 0] <= 1.5 else to node 145.\n",
      "\t\t\t\t\t\tnode=142 test node: go to node 143 if X[:, 3] <= 2.5 else to node 144.\n",
      "\t\t\t\t\t\t\tnode=143 leaf node.\n",
      "\t\t\t\t\t\t\tnode=144 leaf node.\n",
      "\t\t\t\t\t\tnode=145 test node: go to node 146 if X[:, 8] <= 3.5 else to node 147.\n",
      "\t\t\t\t\t\t\tnode=146 leaf node.\n",
      "\t\t\t\t\t\t\tnode=147 leaf node.\n",
      "\t\t\t\t\tnode=148 test node: go to node 149 if X[:, 12] <= 0.5 else to node 152.\n",
      "\t\t\t\t\t\tnode=149 test node: go to node 150 if X[:, 3] <= 2.5 else to node 151.\n",
      "\t\t\t\t\t\t\tnode=150 leaf node.\n",
      "\t\t\t\t\t\t\tnode=151 leaf node.\n",
      "\t\t\t\t\t\tnode=152 test node: go to node 153 if X[:, 7] <= 1.5 else to node 154.\n",
      "\t\t\t\t\t\t\tnode=153 leaf node.\n",
      "\t\t\t\t\t\t\tnode=154 leaf node.\n",
      "\t\t\t\tnode=155 test node: go to node 156 if X[:, 3] <= 3.5 else to node 163.\n",
      "\t\t\t\t\tnode=156 test node: go to node 157 if X[:, 0] <= 1.5 else to node 160.\n",
      "\t\t\t\t\t\tnode=157 test node: go to node 158 if X[:, 4] <= 1.5 else to node 159.\n",
      "\t\t\t\t\t\t\tnode=158 leaf node.\n",
      "\t\t\t\t\t\t\tnode=159 leaf node.\n",
      "\t\t\t\t\t\tnode=160 test node: go to node 161 if X[:, 8] <= 1.5 else to node 162.\n",
      "\t\t\t\t\t\t\tnode=161 leaf node.\n",
      "\t\t\t\t\t\t\tnode=162 leaf node.\n",
      "\t\t\t\t\tnode=163 test node: go to node 164 if X[:, 8] <= 1.5 else to node 167.\n",
      "\t\t\t\t\t\tnode=164 test node: go to node 165 if X[:, 2] <= 1.5 else to node 166.\n",
      "\t\t\t\t\t\t\tnode=165 leaf node.\n",
      "\t\t\t\t\t\t\tnode=166 leaf node.\n",
      "\t\t\t\t\t\tnode=167 leaf node.\n",
      "\t\tnode=168 test node: go to node 169 if X[:, 8] <= 11.5 else to node 194.\n",
      "\t\t\tnode=169 test node: go to node 170 if X[:, 13] <= 0.5 else to node 183.\n",
      "\t\t\t\tnode=170 test node: go to node 171 if X[:, 8] <= 2.5 else to node 178.\n",
      "\t\t\t\t\tnode=171 test node: go to node 172 if X[:, 3] <= 2.5 else to node 175.\n",
      "\t\t\t\t\t\tnode=172 test node: go to node 173 if X[:, 5] <= 1.5 else to node 174.\n",
      "\t\t\t\t\t\t\tnode=173 leaf node.\n",
      "\t\t\t\t\t\t\tnode=174 leaf node.\n",
      "\t\t\t\t\t\tnode=175 test node: go to node 176 if X[:, 2] <= 1.5 else to node 177.\n",
      "\t\t\t\t\t\t\tnode=176 leaf node.\n",
      "\t\t\t\t\t\t\tnode=177 leaf node.\n",
      "\t\t\t\t\tnode=178 test node: go to node 179 if X[:, 10] <= 1.5 else to node 182.\n",
      "\t\t\t\t\t\tnode=179 test node: go to node 180 if X[:, 12] <= 0.5 else to node 181.\n",
      "\t\t\t\t\t\t\tnode=180 leaf node.\n",
      "\t\t\t\t\t\t\tnode=181 leaf node.\n",
      "\t\t\t\t\t\tnode=182 leaf node.\n",
      "\t\t\t\tnode=183 test node: go to node 184 if X[:, 3] <= 1.5 else to node 189.\n",
      "\t\t\t\t\tnode=184 test node: go to node 185 if X[:, 6] <= 1.5 else to node 188.\n",
      "\t\t\t\t\t\tnode=185 test node: go to node 186 if X[:, 9] <= 0.5 else to node 187.\n",
      "\t\t\t\t\t\t\tnode=186 leaf node.\n",
      "\t\t\t\t\t\t\tnode=187 leaf node.\n",
      "\t\t\t\t\t\tnode=188 leaf node.\n",
      "\t\t\t\t\tnode=189 test node: go to node 190 if X[:, 8] <= 8.5 else to node 193.\n",
      "\t\t\t\t\t\tnode=190 test node: go to node 191 if X[:, 8] <= 5.5 else to node 192.\n",
      "\t\t\t\t\t\t\tnode=191 leaf node.\n",
      "\t\t\t\t\t\t\tnode=192 leaf node.\n",
      "\t\t\t\t\t\tnode=193 leaf node.\n",
      "\t\t\tnode=194 leaf node.\n",
      "\n",
      "Rules used to predict sample 0: \n",
      "decision id node 0 : (X_test[0, 1] (= 5) > 2.5)\n",
      "decision id node 106 : (X_test[0, 4] (= 2) <= 2.5)\n",
      "decision id node 107 : (X_test[0, 3] (= 2) > 1.5)\n",
      "decision id node 139 : (X_test[0, 13] (= 0) <= 0.5)\n",
      "decision id node 140 : (X_test[0, 1] (= 5) > 3.5)\n",
      "decision id node 148 : (X_test[0, 12] (= 0) <= 0.5)\n",
      "decision id node 149 : (X_test[0, 3] (= 2) <= 2.5)\n",
      "\n",
      "The following samples [0, 1] share the node [0] in the tree\n",
      "It is 0.5128205128205128 % of all nodes.\n"
     ]
    }
   ],
   "source": [
    "n_nodes = clf.tree_.node_count\n",
    "children_left = clf.tree_.children_left\n",
    "children_right = clf.tree_.children_right\n",
    "feature = clf.tree_.feature\n",
    "threshold = clf.tree_.threshold\n",
    "\n",
    "\n",
    "# The tree structure can be traversed to compute various properties such\n",
    "# as the depth of each node and whether or not it is a leaf.\n",
    "node_depth = np.zeros(shape=n_nodes, dtype=np.int64)\n",
    "is_leaves = np.zeros(shape=n_nodes, dtype=bool)\n",
    "stack = [(0, -1)]  # seed is the root node id and its parent depth\n",
    "while len(stack) > 0:\n",
    "    node_id, parent_depth = stack.pop()\n",
    "    node_depth[node_id] = parent_depth + 1\n",
    "\n",
    "    # If we have a test node\n",
    "    if (children_left[node_id] != children_right[node_id]):\n",
    "        stack.append((children_left[node_id], parent_depth + 1))\n",
    "        stack.append((children_right[node_id], parent_depth + 1))\n",
    "    else:\n",
    "        is_leaves[node_id] = True\n",
    "\n",
    "print(\"The binary tree structure has %s nodes and has \"\n",
    "      \"the following tree structure:\"\n",
    "      % n_nodes)\n",
    "for i in range(n_nodes):\n",
    "    if is_leaves[i]:\n",
    "        print(\"%snode=%s leaf node.\" % (node_depth[i] * \"\\t\", i))\n",
    "    else:\n",
    "        print(\"%snode=%s test node: go to node %s if X[:, %s] <= %s else to \"\n",
    "              \"node %s.\"\n",
    "              % (node_depth[i] * \"\\t\",\n",
    "                 i,\n",
    "                 children_left[i],\n",
    "                 feature[i],\n",
    "                 threshold[i],\n",
    "                 children_right[i],\n",
    "                 ))\n",
    "print()\n",
    "\n",
    "# First let's retrieve the decision path of each sample. The decision_path\n",
    "# method allows to retrieve the node indicator functions. A non zero element of\n",
    "# indicator matrix at the position (i, j) indicates that the sample i goes\n",
    "# through the node j.\n",
    "\n",
    "node_indicator = clf.decision_path(X_test)\n",
    "\n",
    "# Similarly, we can also have the leaves ids reached by each sample.\n",
    "\n",
    "leave_id = clf.apply(X_test)\n",
    "\n",
    "# Now, it's possible to get the tests that were used to predict a sample or\n",
    "# a group of samples. First, let's make it for the sample.\n",
    "\n",
    "sample_id = 0\n",
    "node_index = node_indicator.indices[node_indicator.indptr[sample_id]:\n",
    "                                    node_indicator.indptr[sample_id + 1]]\n",
    "\n",
    "print('Rules used to predict sample %s: ' % sample_id)\n",
    "for node_id in node_index:\n",
    "    if leave_id[sample_id] == node_id:\n",
    "        continue\n",
    "\n",
    "    if (X_test[sample_id, feature[node_id]] <= threshold[node_id]):\n",
    "        threshold_sign = \"<=\"\n",
    "    else:\n",
    "        threshold_sign = \">\"\n",
    "\n",
    "    print(\"decision id node %s : (X_test[%s, %s] (= %s) %s %s)\"\n",
    "          % (node_id,\n",
    "             sample_id,\n",
    "             feature[node_id],\n",
    "             X_test[sample_id, feature[node_id]],\n",
    "             threshold_sign,\n",
    "             threshold[node_id]))\n",
    "\n",
    "# For a group of samples, we have the following common node.\n",
    "sample_ids = [0, 1]\n",
    "common_nodes = (node_indicator.toarray()[sample_ids].sum(axis=0) ==\n",
    "                len(sample_ids))\n",
    "\n",
    "common_node_id = np.arange(n_nodes)[common_nodes]\n",
    "\n",
    "print(\"\\nThe following samples %s share the node %s in the tree\"\n",
    "      % (sample_ids, common_node_id))\n",
    "print(\"It is %s %% of all nodes.\" % (100 * len(common_node_id) / n_nodes,))"
   ]
  },
  {
   "cell_type": "code",
   "execution_count": 34,
   "metadata": {},
   "outputs": [
    {
     "data": {
      "image/png": "[encoded data removed]",
      "text/plain": [
       "<Figure size 432x288 with 1 Axes>"
      ]
     },
     "metadata": {},
     "output_type": "display_data"
    }
   ],
   "source": [
    "plt.figure()\n",
    "tree.plot_tree(clf,filled=True)  \n",
    "plt.savefig('catdog.eps',format='eps',bbox_inches = \"tight\")"
   ]
  },
  {
   "cell_type": "code",
   "execution_count": 35,
   "metadata": {},
   "outputs": [],
   "source": [
    "dotfile = open(\"catdog.dot\", 'w')\n",
    "tree.export_graphviz(clf,out_file = dotfile,\n",
    "                     feature_names=feature_cols,\n",
    "                     class_names = [str(i) for i in clf.classes_],\n",
    "                     proportion=False) \n",
    "dotfile.close()\n",
    "\n",
    "# Easiest way to view the dotfile:\n",
    "# https://stackoverflow.com/questions/27817994/visualizing-decision-tree-in-scikit-learn\n",
    "# 1) exporting it with export_graphviz \n",
    "# 2) Open the .dot file in a text editor\n",
    "# 3) Copy the piece of code and paste it @ webgraphviz.com"
   ]
  },
  {
   "cell_type": "markdown",
   "metadata": {},
   "source": [
    "Seeing that our Decision Tree performed rather well on the overall dataset, and that we can obtain the important features easily (in a sorted order as well), we decided to use this model for our data on cats and dogs respectively. A split on type on animal was done as we had prior belief that different animal types would have different important attributes building up to their adoptability."
   ]
  },
  {
   "cell_type": "markdown",
   "metadata": {},
   "source": [
    "# Section 4.2.1: Decision Trees for Cats"
   ]
  },
  {
   "cell_type": "code",
   "execution_count": 36,
   "metadata": {},
   "outputs": [],
   "source": [
    "X = np.asarray(cat_df.drop('y',axis=1))\n",
    "y = np.asarray(cat_df['y'])\n",
    "\n",
    "X_train, X_test, y_train, y_test = train_test_split(X, y, test_size=0.1, random_state=4)\n",
    "X_train, X_valid, y_train, y_valid = train_test_split(X_train, y_train, test_size=0.2, random_state=4)"
   ]
  },
  {
   "cell_type": "code",
   "execution_count": 37,
   "metadata": {},
   "outputs": [],
   "source": [
    "allcols = cat_df.drop('y',axis=1).columns.tolist()"
   ]
  },
  {
   "cell_type": "code",
   "execution_count": 38,
   "metadata": {},
   "outputs": [],
   "source": [
    "feature_cols = allcols.copy()"
   ]
  },
  {
   "cell_type": "code",
   "execution_count": 39,
   "metadata": {},
   "outputs": [],
   "source": [
    "X_train = pd.DataFrame(data=X_train, columns=allcols)"
   ]
  },
  {
   "cell_type": "code",
   "execution_count": 40,
   "metadata": {},
   "outputs": [
    {
     "data": {
      "text/html": [
       "<div>\n",
       "<style scoped>\n",
       "    .dataframe tbody tr th:only-of-type {\n",
       "        vertical-align: middle;\n",
       "    }\n",
       "\n",
       "    .dataframe tbody tr th {\n",
       "        vertical-align: top;\n",
       "    }\n",
       "\n",
       "    .dataframe thead th {\n",
       "        text-align: right;\n",
       "    }\n",
       "</style>\n",
       "<table border=\"1\" class=\"dataframe\">\n",
       "  <thead>\n",
       "    <tr style=\"text-align: right;\">\n",
       "      <th></th>\n",
       "      <th>Age</th>\n",
       "      <th>Gender</th>\n",
       "      <th>MaturitySize</th>\n",
       "      <th>FurLength</th>\n",
       "      <th>Vaccinated</th>\n",
       "      <th>Dewormed</th>\n",
       "      <th>Health</th>\n",
       "      <th>PhotoAmt</th>\n",
       "      <th>purebreed</th>\n",
       "      <th>video_cat</th>\n",
       "      <th>fee_cat</th>\n",
       "      <th>unknown_sterilized</th>\n",
       "      <th>is_sterilized</th>\n",
       "    </tr>\n",
       "  </thead>\n",
       "  <tbody>\n",
       "    <tr>\n",
       "      <th>0</th>\n",
       "      <td>2</td>\n",
       "      <td>2</td>\n",
       "      <td>1</td>\n",
       "      <td>2</td>\n",
       "      <td>2</td>\n",
       "      <td>1</td>\n",
       "      <td>1</td>\n",
       "      <td>3</td>\n",
       "      <td>0</td>\n",
       "      <td>0</td>\n",
       "      <td>0</td>\n",
       "      <td>0</td>\n",
       "      <td>0</td>\n",
       "    </tr>\n",
       "    <tr>\n",
       "      <th>1</th>\n",
       "      <td>4</td>\n",
       "      <td>2</td>\n",
       "      <td>1</td>\n",
       "      <td>1</td>\n",
       "      <td>1</td>\n",
       "      <td>1</td>\n",
       "      <td>1</td>\n",
       "      <td>3</td>\n",
       "      <td>1</td>\n",
       "      <td>0</td>\n",
       "      <td>0</td>\n",
       "      <td>0</td>\n",
       "      <td>1</td>\n",
       "    </tr>\n",
       "    <tr>\n",
       "      <th>2</th>\n",
       "      <td>3</td>\n",
       "      <td>1</td>\n",
       "      <td>2</td>\n",
       "      <td>1</td>\n",
       "      <td>1</td>\n",
       "      <td>1</td>\n",
       "      <td>1</td>\n",
       "      <td>2</td>\n",
       "      <td>1</td>\n",
       "      <td>0</td>\n",
       "      <td>0</td>\n",
       "      <td>0</td>\n",
       "      <td>0</td>\n",
       "    </tr>\n",
       "    <tr>\n",
       "      <th>3</th>\n",
       "      <td>3</td>\n",
       "      <td>2</td>\n",
       "      <td>2</td>\n",
       "      <td>1</td>\n",
       "      <td>2</td>\n",
       "      <td>2</td>\n",
       "      <td>1</td>\n",
       "      <td>1</td>\n",
       "      <td>1</td>\n",
       "      <td>0</td>\n",
       "      <td>0</td>\n",
       "      <td>0</td>\n",
       "      <td>0</td>\n",
       "    </tr>\n",
       "    <tr>\n",
       "      <th>4</th>\n",
       "      <td>2</td>\n",
       "      <td>1</td>\n",
       "      <td>1</td>\n",
       "      <td>1</td>\n",
       "      <td>2</td>\n",
       "      <td>2</td>\n",
       "      <td>1</td>\n",
       "      <td>8</td>\n",
       "      <td>1</td>\n",
       "      <td>3</td>\n",
       "      <td>0</td>\n",
       "      <td>0</td>\n",
       "      <td>0</td>\n",
       "    </tr>\n",
       "  </tbody>\n",
       "</table>\n",
       "</div>"
      ],
      "text/plain": [
       "  Age Gender MaturitySize FurLength Vaccinated Dewormed Health PhotoAmt  \\\n",
       "0   2      2            1         2          2        1      1        3   \n",
       "1   4      2            1         1          1        1      1        3   \n",
       "2   3      1            2         1          1        1      1        2   \n",
       "3   3      2            2         1          2        2      1        1   \n",
       "4   2      1            1         1          2        2      1        8   \n",
       "\n",
       "  purebreed video_cat fee_cat unknown_sterilized is_sterilized  \n",
       "0         0         0       0                  0             0  \n",
       "1         1         0       0                  0             1  \n",
       "2         1         0       0                  0             0  \n",
       "3         1         0       0                  0             0  \n",
       "4         1         3       0                  0             0  "
      ]
     },
     "execution_count": 40,
     "metadata": {},
     "output_type": "execute_result"
    }
   ],
   "source": [
    "X_train.head()"
   ]
  },
  {
   "cell_type": "markdown",
   "metadata": {},
   "source": [
    "### Constructing the DT for Cats"
   ]
  },
  {
   "cell_type": "code",
   "execution_count": 41,
   "metadata": {},
   "outputs": [
    {
     "name": "stdout",
     "output_type": "stream",
     "text": [
      "Best max_depth for gini: 2\n",
      "Best max_depth for entropy: 6\n"
     ]
    },
    {
     "data": {
      "image/png": "[encoded data removed]",
      "text/plain": [
       "<Figure size 432x288 with 1 Axes>"
      ]
     },
     "metadata": {},
     "output_type": "display_data"
    }
   ],
   "source": [
    "rando = 5\n",
    "max_depth = []\n",
    "acc_gini = []\n",
    "acc_entropy = []\n",
    "for i in range(2,50):\n",
    "    dtree = DecisionTreeClassifier(random_state=rando,criterion='gini', max_depth=i)\n",
    "    dtree.fit(X_train, y_train)\n",
    "    pred = dtree.predict(X_valid)\n",
    "    acc_gini.append(accuracy_score(y_valid, pred))\n",
    "    ###\n",
    "    dtree = DecisionTreeClassifier(random_state=rando,criterion='entropy', max_depth=i)\n",
    "    dtree.fit(X_train, y_train)\n",
    "    pred = dtree.predict(X_valid)\n",
    "    acc_entropy.append(accuracy_score(y_valid, pred))\n",
    "    ####\n",
    "    max_depth.append(i)\n",
    "d = pd.DataFrame({'acc_gini':pd.Series(acc_gini), \n",
    "    'acc_entropy':pd.Series(acc_entropy),\n",
    "    'max_depth':pd.Series(max_depth)})\n",
    "# visualizing changes in parameters\n",
    "plt.plot('max_depth','acc_gini', data=d, label='gini')\n",
    "plt.plot('max_depth','acc_entropy', data=d, label='entropy')\n",
    "plt.xlabel('max_depth')\n",
    "plt.ylabel('accuracy')\n",
    "plt.legend()\n",
    "best_gini = d.sort_values('acc_gini',ascending=False).iloc[0,2]\n",
    "best_entro = d.sort_values('acc_entropy',ascending=False).iloc[0,2]\n",
    "print(\"Best max_depth for gini:\", d.sort_values('acc_gini',ascending=False).iloc[0,2])\n",
    "print(\"Best max_depth for entropy:\", d.sort_values('acc_entropy',ascending=False).iloc[0,2])"
   ]
  },
  {
   "cell_type": "code",
   "execution_count": 42,
   "metadata": {},
   "outputs": [
    {
     "data": {
      "text/plain": [
       "{1: 0.6056179775280899,\n",
       " 2: 0.6213483146067416,\n",
       " 3: 0.6134831460674157,\n",
       " 4: 0.6157303370786517,\n",
       " 5: 0.6191011235955056,\n",
       " 6: 0.6191011235955056}"
      ]
     },
     "execution_count": 42,
     "metadata": {},
     "output_type": "execute_result"
    }
   ],
   "source": [
    "# Best for gini: look at accuracy scores in that region\n",
    "acc_gini = {}\n",
    "for i in range(best_gini-1,best_gini+5):\n",
    "    clf3 = DecisionTreeClassifier(random_state=rando,max_depth= i , criterion = 'gini')\n",
    "    clf3 .fit(X_train,y_train)\n",
    "    y_pred = clf3 .predict(X_valid)\n",
    "    test3 = clf3 .predict_proba(X_valid)\n",
    "    acc_gini[i] = accuracy_score(y_valid, y_pred)\n",
    "acc_gini"
   ]
  },
  {
   "cell_type": "code",
   "execution_count": 43,
   "metadata": {},
   "outputs": [
    {
     "data": {
      "text/plain": [
       "{6: 0.6224719101123596,\n",
       " 7: 0.6112359550561798,\n",
       " 8: 0.6078651685393258,\n",
       " 9: 0.6089887640449438,\n",
       " 10: 0.6033707865168539}"
      ]
     },
     "execution_count": 43,
     "metadata": {},
     "output_type": "execute_result"
    }
   ],
   "source": [
    "# Best for entropy: look at accuracy scores in that region\n",
    "acc_entro = {}\n",
    "for i in range(best_entro,best_entro+5):\n",
    "    clf3 = DecisionTreeClassifier(random_state=rando, max_depth= i , criterion = 'entropy')\n",
    "    clf3 .fit(X_train,y_train)\n",
    "    y_pred = clf3 .predict(X_valid)\n",
    "    test3 = clf3 .predict_proba(X_valid)\n",
    "    acc_entro[i] = accuracy_score(y_valid, y_pred)\n",
    "acc_entro"
   ]
  },
  {
   "cell_type": "code",
   "execution_count": 44,
   "metadata": {},
   "outputs": [
    {
     "data": {
      "text/plain": [
       "0.6224719101123596"
      ]
     },
     "execution_count": 44,
     "metadata": {},
     "output_type": "execute_result"
    }
   ],
   "source": [
    "# Being aware of the tradeoff between the max_depth and \n",
    "# representation power, we chose to use our criterion as 'entropy'\n",
    "# as it generally gives the best accuracy and a max_depth of 6 \n",
    "# as it gives near the optimal accuracy score,\n",
    "# and takes more features into account for better specialization\n",
    "\n",
    "clf3 = DecisionTreeClassifier(random_state = rando, \n",
    "                              max_depth = best_entro , \n",
    "                              criterion = 'entropy')\n",
    "clf3 .fit(X_train,y_train)\n",
    "y_pred = clf3 .predict(X_valid)\n",
    "test3 = clf3 .predict_proba(X_valid)\n",
    "accuracy_score(y_valid, y_pred)"
   ]
  },
  {
   "cell_type": "code",
   "execution_count": 45,
   "metadata": {},
   "outputs": [
    {
     "name": "stdout",
     "output_type": "stream",
     "text": [
      "The binary tree structure has 103 nodes and has the following tree structure:\n",
      "node=0 test node: go to node 1 if X[:, 0] <= 2.5 else to node 46.\n",
      "\tnode=1 test node: go to node 2 if X[:, 7] <= 0.5 else to node 21.\n",
      "\t\tnode=2 test node: go to node 3 if X[:, 0] <= 0.5 else to node 10.\n",
      "\t\t\tnode=3 test node: go to node 4 if X[:, 4] <= 1.5 else to node 5.\n",
      "\t\t\t\tnode=4 leaf node.\n",
      "\t\t\t\tnode=5 test node: go to node 6 if X[:, 1] <= 1.5 else to node 7.\n",
      "\t\t\t\t\tnode=6 leaf node.\n",
      "\t\t\t\t\tnode=7 test node: go to node 8 if X[:, 3] <= 2.0 else to node 9.\n",
      "\t\t\t\t\t\tnode=8 leaf node.\n",
      "\t\t\t\t\t\tnode=9 leaf node.\n",
      "\t\t\tnode=10 test node: go to node 11 if X[:, 5] <= 1.5 else to node 16.\n",
      "\t\t\t\tnode=11 test node: go to node 12 if X[:, 10] <= 1.5 else to node 15.\n",
      "\t\t\t\t\tnode=12 test node: go to node 13 if X[:, 6] <= 1.5 else to node 14.\n",
      "\t\t\t\t\t\tnode=13 leaf node.\n",
      "\t\t\t\t\t\tnode=14 leaf node.\n",
      "\t\t\t\t\tnode=15 leaf node.\n",
      "\t\t\t\tnode=16 test node: go to node 17 if X[:, 8] <= 0.5 else to node 20.\n",
      "\t\t\t\t\tnode=17 test node: go to node 18 if X[:, 3] <= 1.5 else to node 19.\n",
      "\t\t\t\t\t\tnode=18 leaf node.\n",
      "\t\t\t\t\t\tnode=19 leaf node.\n",
      "\t\t\t\t\tnode=20 leaf node.\n",
      "\t\tnode=21 test node: go to node 22 if X[:, 12] <= 0.5 else to node 37.\n",
      "\t\t\tnode=22 test node: go to node 23 if X[:, 7] <= 10.5 else to node 30.\n",
      "\t\t\t\tnode=23 test node: go to node 24 if X[:, 3] <= 2.5 else to node 27.\n",
      "\t\t\t\t\tnode=24 test node: go to node 25 if X[:, 0] <= 1.5 else to node 26.\n",
      "\t\t\t\t\t\tnode=25 leaf node.\n",
      "\t\t\t\t\t\tnode=26 leaf node.\n",
      "\t\t\t\t\tnode=27 test node: go to node 28 if X[:, 11] <= 0.5 else to node 29.\n",
      "\t\t\t\t\t\tnode=28 leaf node.\n",
      "\t\t\t\t\t\tnode=29 leaf node.\n",
      "\t\t\t\tnode=30 test node: go to node 31 if X[:, 5] <= 1.5 else to node 34.\n",
      "\t\t\t\t\tnode=31 test node: go to node 32 if X[:, 11] <= 0.5 else to node 33.\n",
      "\t\t\t\t\t\tnode=32 leaf node.\n",
      "\t\t\t\t\t\tnode=33 leaf node.\n",
      "\t\t\t\t\tnode=34 test node: go to node 35 if X[:, 0] <= 1.5 else to node 36.\n",
      "\t\t\t\t\t\tnode=35 leaf node.\n",
      "\t\t\t\t\t\tnode=36 leaf node.\n",
      "\t\t\tnode=37 test node: go to node 38 if X[:, 7] <= 10.5 else to node 45.\n",
      "\t\t\t\tnode=38 test node: go to node 39 if X[:, 0] <= 0.5 else to node 42.\n",
      "\t\t\t\t\tnode=39 test node: go to node 40 if X[:, 10] <= 1.5 else to node 41.\n",
      "\t\t\t\t\t\tnode=40 leaf node.\n",
      "\t\t\t\t\t\tnode=41 leaf node.\n",
      "\t\t\t\t\tnode=42 test node: go to node 43 if X[:, 7] <= 7.5 else to node 44.\n",
      "\t\t\t\t\t\tnode=43 leaf node.\n",
      "\t\t\t\t\t\tnode=44 leaf node.\n",
      "\t\t\t\tnode=45 leaf node.\n",
      "\tnode=46 test node: go to node 47 if X[:, 0] <= 3.5 else to node 78.\n",
      "\t\tnode=47 test node: go to node 48 if X[:, 7] <= 3.5 else to node 63.\n",
      "\t\t\tnode=48 test node: go to node 49 if X[:, 4] <= 1.5 else to node 56.\n",
      "\t\t\t\tnode=49 test node: go to node 50 if X[:, 10] <= 1.5 else to node 53.\n",
      "\t\t\t\t\tnode=50 test node: go to node 51 if X[:, 11] <= 0.5 else to node 52.\n",
      "\t\t\t\t\t\tnode=51 leaf node.\n",
      "\t\t\t\t\t\tnode=52 leaf node.\n",
      "\t\t\t\t\tnode=53 test node: go to node 54 if X[:, 7] <= 1.5 else to node 55.\n",
      "\t\t\t\t\t\tnode=54 leaf node.\n",
      "\t\t\t\t\t\tnode=55 leaf node.\n",
      "\t\t\t\tnode=56 test node: go to node 57 if X[:, 1] <= 1.5 else to node 60.\n",
      "\t\t\t\t\tnode=57 test node: go to node 58 if X[:, 6] <= 1.5 else to node 59.\n",
      "\t\t\t\t\t\tnode=58 leaf node.\n",
      "\t\t\t\t\t\tnode=59 leaf node.\n",
      "\t\t\t\t\tnode=60 test node: go to node 61 if X[:, 5] <= 1.5 else to node 62.\n",
      "\t\t\t\t\t\tnode=61 leaf node.\n",
      "\t\t\t\t\t\tnode=62 leaf node.\n",
      "\t\t\tnode=63 test node: go to node 64 if X[:, 3] <= 1.5 else to node 71.\n",
      "\t\t\t\tnode=64 test node: go to node 65 if X[:, 12] <= 0.5 else to node 68.\n",
      "\t\t\t\t\tnode=65 test node: go to node 66 if X[:, 2] <= 1.5 else to node 67.\n",
      "\t\t\t\t\t\tnode=66 leaf node.\n",
      "\t\t\t\t\t\tnode=67 leaf node.\n",
      "\t\t\t\t\tnode=68 test node: go to node 69 if X[:, 1] <= 1.5 else to node 70.\n",
      "\t\t\t\t\t\tnode=69 leaf node.\n",
      "\t\t\t\t\t\tnode=70 leaf node.\n",
      "\t\t\t\tnode=71 test node: go to node 72 if X[:, 7] <= 9.5 else to node 75.\n",
      "\t\t\t\t\tnode=72 test node: go to node 73 if X[:, 9] <= 1.5 else to node 74.\n",
      "\t\t\t\t\t\tnode=73 leaf node.\n",
      "\t\t\t\t\t\tnode=74 leaf node.\n",
      "\t\t\t\t\tnode=75 test node: go to node 76 if X[:, 11] <= 0.5 else to node 77.\n",
      "\t\t\t\t\t\tnode=76 leaf node.\n",
      "\t\t\t\t\t\tnode=77 leaf node.\n",
      "\t\tnode=78 test node: go to node 79 if X[:, 3] <= 2.5 else to node 92.\n",
      "\t\t\tnode=79 test node: go to node 80 if X[:, 2] <= 1.5 else to node 87.\n",
      "\t\t\t\tnode=80 test node: go to node 81 if X[:, 3] <= 1.5 else to node 84.\n",
      "\t\t\t\t\tnode=81 test node: go to node 82 if X[:, 7] <= 16.0 else to node 83.\n",
      "\t\t\t\t\t\tnode=82 leaf node.\n",
      "\t\t\t\t\t\tnode=83 leaf node.\n",
      "\t\t\t\t\tnode=84 test node: go to node 85 if X[:, 0] <= 4.5 else to node 86.\n",
      "\t\t\t\t\t\tnode=85 leaf node.\n",
      "\t\t\t\t\t\tnode=86 leaf node.\n",
      "\t\t\t\tnode=87 test node: go to node 88 if X[:, 6] <= 2.5 else to node 91.\n",
      "\t\t\t\t\tnode=88 test node: go to node 89 if X[:, 8] <= 0.5 else to node 90.\n",
      "\t\t\t\t\t\tnode=89 leaf node.\n",
      "\t\t\t\t\t\tnode=90 leaf node.\n",
      "\t\t\t\t\tnode=91 leaf node.\n",
      "\t\t\tnode=92 test node: go to node 93 if X[:, 12] <= 0.5 else to node 98.\n",
      "\t\t\t\tnode=93 test node: go to node 94 if X[:, 7] <= 11.5 else to node 97.\n",
      "\t\t\t\t\tnode=94 test node: go to node 95 if X[:, 2] <= 1.5 else to node 96.\n",
      "\t\t\t\t\t\tnode=95 leaf node.\n",
      "\t\t\t\t\t\tnode=96 leaf node.\n",
      "\t\t\t\t\tnode=97 leaf node.\n",
      "\t\t\t\tnode=98 test node: go to node 99 if X[:, 7] <= 7.5 else to node 102.\n",
      "\t\t\t\t\tnode=99 test node: go to node 100 if X[:, 7] <= 0.5 else to node 101.\n",
      "\t\t\t\t\t\tnode=100 leaf node.\n",
      "\t\t\t\t\t\tnode=101 leaf node.\n",
      "\t\t\t\t\tnode=102 leaf node.\n",
      "\n",
      "Rules used to predict sample 0: \n",
      "decision id node 0 : (X_test[0, 0] (= 0) <= 2.5)\n",
      "decision id node 1 : (X_test[0, 7] (= 2.0) > 0.5)\n",
      "decision id node 21 : (X_test[0, 12] (= 0) <= 0.5)\n",
      "decision id node 22 : (X_test[0, 7] (= 2.0) <= 10.5)\n",
      "decision id node 23 : (X_test[0, 3] (= 1) <= 2.5)\n",
      "decision id node 24 : (X_test[0, 0] (= 0) <= 1.5)\n",
      "\n",
      "The following samples [0, 1] share the node [0] in the tree\n",
      "It is 0.970873786407767 % of all nodes.\n"
     ]
    }
   ],
   "source": [
    "n_nodes = clf3.tree_.node_count\n",
    "children_left = clf3.tree_.children_left\n",
    "children_right = clf3.tree_.children_right\n",
    "feature = clf3.tree_.feature\n",
    "threshold = clf3.tree_.threshold\n",
    "\n",
    "\n",
    "# The tree structure can be traversed to compute various properties such\n",
    "# as the depth of each node and whether or not it is a leaf.\n",
    "node_depth = np.zeros(shape=n_nodes, dtype=np.int64)\n",
    "is_leaves = np.zeros(shape=n_nodes, dtype=bool)\n",
    "stack = [(0, -1)]  # seed is the root node id and its parent depth\n",
    "while len(stack) > 0:\n",
    "    node_id, parent_depth = stack.pop()\n",
    "    node_depth[node_id] = parent_depth + 1\n",
    "\n",
    "    # If we have a test node\n",
    "    if (children_left[node_id] != children_right[node_id]):\n",
    "        stack.append((children_left[node_id], parent_depth + 1))\n",
    "        stack.append((children_right[node_id], parent_depth + 1))\n",
    "    else:\n",
    "        is_leaves[node_id] = True\n",
    "\n",
    "print(\"The binary tree structure has %s nodes and has \"\n",
    "      \"the following tree structure:\"\n",
    "      % n_nodes)\n",
    "for i in range(n_nodes):\n",
    "    if is_leaves[i]:\n",
    "        print(\"%snode=%s leaf node.\" % (node_depth[i] * \"\\t\", i))\n",
    "    else:\n",
    "        print(\"%snode=%s test node: go to node %s if X[:, %s] <= %s else to \"\n",
    "              \"node %s.\"\n",
    "              % (node_depth[i] * \"\\t\",\n",
    "                 i,\n",
    "                 children_left[i],\n",
    "                 feature[i],\n",
    "                 threshold[i],\n",
    "                 children_right[i],\n",
    "                 ))\n",
    "print()\n",
    "\n",
    "# First let's retrieve the decision path of each sample. The decision_path\n",
    "# method allows to retrieve the node indicator functions. A non zero element of\n",
    "# indicator matrix at the position (i, j) indicates that the sample i goes\n",
    "# through the node j.\n",
    "\n",
    "node_indicator = clf3.decision_path(X_test)\n",
    "\n",
    "# Similarly, we can also have the leaves ids reached by each sample.\n",
    "\n",
    "leave_id = clf3.apply(X_test)\n",
    "\n",
    "# Now, it's possible to get the tests that were used to predict a sample or\n",
    "# a group of samples. First, let's make it for the sample.\n",
    "\n",
    "sample_id = 0\n",
    "node_index = node_indicator.indices[node_indicator.indptr[sample_id]:\n",
    "                                    node_indicator.indptr[sample_id + 1]]\n",
    "\n",
    "print('Rules used to predict sample %s: ' % sample_id)\n",
    "for node_id in node_index:\n",
    "    if leave_id[sample_id] == node_id:\n",
    "        continue\n",
    "\n",
    "    if (X_test[sample_id, feature[node_id]] <= threshold[node_id]):\n",
    "        threshold_sign = \"<=\"\n",
    "    else:\n",
    "        threshold_sign = \">\"\n",
    "\n",
    "    print(\"decision id node %s : (X_test[%s, %s] (= %s) %s %s)\"\n",
    "          % (node_id,\n",
    "             sample_id,\n",
    "             feature[node_id],\n",
    "             X_test[sample_id, feature[node_id]],\n",
    "             threshold_sign,\n",
    "             threshold[node_id]))\n",
    "\n",
    "# For a group of samples, we have the following common node.\n",
    "sample_ids = [0, 1]\n",
    "common_nodes = (node_indicator.toarray()[sample_ids].sum(axis=0) ==\n",
    "                len(sample_ids))\n",
    "\n",
    "common_node_id = np.arange(n_nodes)[common_nodes]\n",
    "\n",
    "print(\"\\nThe following samples %s share the node %s in the tree\"\n",
    "      % (sample_ids, common_node_id))\n",
    "print(\"It is %s %% of all nodes.\" % (100 * len(common_node_id) / n_nodes,))"
   ]
  },
  {
   "cell_type": "code",
   "execution_count": 46,
   "metadata": {},
   "outputs": [
    {
     "data": {
      "text/html": [
       "<div>\n",
       "<style scoped>\n",
       "    .dataframe tbody tr th:only-of-type {\n",
       "        vertical-align: middle;\n",
       "    }\n",
       "\n",
       "    .dataframe tbody tr th {\n",
       "        vertical-align: top;\n",
       "    }\n",
       "\n",
       "    .dataframe thead th {\n",
       "        text-align: right;\n",
       "    }\n",
       "</style>\n",
       "<table border=\"1\" class=\"dataframe\">\n",
       "  <thead>\n",
       "    <tr style=\"text-align: right;\">\n",
       "      <th></th>\n",
       "      <th>True Y=0</th>\n",
       "      <th>True Y=1</th>\n",
       "    </tr>\n",
       "  </thead>\n",
       "  <tbody>\n",
       "    <tr>\n",
       "      <th>Predicted Y=0</th>\n",
       "      <td>209</td>\n",
       "      <td>161</td>\n",
       "    </tr>\n",
       "    <tr>\n",
       "      <th>Predicted Y=1</th>\n",
       "      <td>175</td>\n",
       "      <td>345</td>\n",
       "    </tr>\n",
       "  </tbody>\n",
       "</table>\n",
       "</div>"
      ],
      "text/plain": [
       "               True Y=0  True Y=1\n",
       "Predicted Y=0       209       161\n",
       "Predicted Y=1       175       345"
      ]
     },
     "metadata": {},
     "output_type": "display_data"
    },
    {
     "name": "stdout",
     "output_type": "stream",
     "text": [
      "Accuracy: 0.6225\n",
      "Specificity: 0.5443\n",
      "Sensitivity 0.6818\n",
      "F1-Score: 0.6725\n",
      "AUC: 0.613\n"
     ]
    },
    {
     "data": {
      "text/plain": [
       "[('Age', 0.528),\n",
       " ('PhotoAmt', 0.154),\n",
       " ('FurLength', 0.092),\n",
       " ('is_sterilized', 0.06),\n",
       " ('unknown_sterilized', 0.03),\n",
       " ('MaturitySize', 0.024),\n",
       " ('fee_cat', 0.023),\n",
       " ('Dewormed', 0.022),\n",
       " ('Gender', 0.018),\n",
       " ('Health', 0.018),\n",
       " ('purebreed', 0.012),\n",
       " ('Vaccinated', 0.009),\n",
       " ('video_cat', 0.009)]"
      ]
     },
     "execution_count": 46,
     "metadata": {},
     "output_type": "execute_result"
    }
   ],
   "source": [
    "cm = pd.DataFrame(confusion_matrix(y_pred, y_valid))\n",
    "cm.columns = ['True Y=0','True Y=1']\n",
    "cm.index = ['Predicted Y=0','Predicted Y=1']\n",
    "display(cm)\n",
    "specificity = cm.iloc[0, 0]/(cm.iloc[0, 0] + cm.iloc[1, 0])\n",
    "print(\"Accuracy:\",round(accuracy_score(y_valid, y_pred),4))\n",
    "print('Specificity:', round(specificity,4))\n",
    "print('Sensitivity',round(recall_score(y_valid,y_pred),4))\n",
    "print('F1-Score:', round(f1_score(y_valid,y_pred),4))\n",
    "print('AUC:',round(roc_auc_score(y_valid, y_pred),4))\n",
    "feature_imp(clf3,X_train)"
   ]
  },
  {
   "cell_type": "code",
   "execution_count": 47,
   "metadata": {},
   "outputs": [
    {
     "data": {
      "image/png": "[encoded data removed]",
      "text/plain": [
       "<Figure size 432x288 with 1 Axes>"
      ]
     },
     "metadata": {},
     "output_type": "display_data"
    }
   ],
   "source": [
    "plt.figure()\n",
    "tree.plot_tree(clf,filled=True)  \n",
    "plt.savefig('decisiontree.eps',format='eps',bbox_inches = \"tight\")"
   ]
  },
  {
   "cell_type": "code",
   "execution_count": 48,
   "metadata": {},
   "outputs": [],
   "source": [
    "dotfile = open(\"cat.dot\", 'w')\n",
    "tree.export_graphviz(clf3,out_file = dotfile,\n",
    "                     feature_names=feature_cols,\n",
    "                     class_names = [str(i) for i in clf3.classes_],\n",
    "                     proportion=False) \n",
    "dotfile.close()\n",
    "\n",
    "# Easiest way to view the dotfile:\n",
    "# https://stackoverflow.com/questions/27817994/visualizing-decision-tree-in-scikit-learn\n",
    "# 1) exporting it with export_graphviz \n",
    "# 2) Open the .dot file in a text editor\n",
    "# 3) Copy the piece of code and paste it @ webgraphviz.com"
   ]
  },
  {
   "cell_type": "markdown",
   "metadata": {},
   "source": [
    "# Section 4.2.2: Evaluation for Cats: Classifying on Test Set"
   ]
  },
  {
   "cell_type": "code",
   "execution_count": 49,
   "metadata": {},
   "outputs": [
    {
     "data": {
      "text/html": [
       "<div>\n",
       "<style scoped>\n",
       "    .dataframe tbody tr th:only-of-type {\n",
       "        vertical-align: middle;\n",
       "    }\n",
       "\n",
       "    .dataframe tbody tr th {\n",
       "        vertical-align: top;\n",
       "    }\n",
       "\n",
       "    .dataframe thead th {\n",
       "        text-align: right;\n",
       "    }\n",
       "</style>\n",
       "<table border=\"1\" class=\"dataframe\">\n",
       "  <thead>\n",
       "    <tr style=\"text-align: right;\">\n",
       "      <th></th>\n",
       "      <th>True Y=0</th>\n",
       "      <th>True Y=1</th>\n",
       "    </tr>\n",
       "  </thead>\n",
       "  <tbody>\n",
       "    <tr>\n",
       "      <th>Predicted Y=0</th>\n",
       "      <td>133</td>\n",
       "      <td>80</td>\n",
       "    </tr>\n",
       "    <tr>\n",
       "      <th>Predicted Y=1</th>\n",
       "      <td>102</td>\n",
       "      <td>180</td>\n",
       "    </tr>\n",
       "  </tbody>\n",
       "</table>\n",
       "</div>"
      ],
      "text/plain": [
       "               True Y=0  True Y=1\n",
       "Predicted Y=0       133        80\n",
       "Predicted Y=1       102       180"
      ]
     },
     "metadata": {},
     "output_type": "display_data"
    },
    {
     "name": "stdout",
     "output_type": "stream",
     "text": [
      "Accuracy: 0.6323\n",
      "Specificity: 0.566\n",
      "Sensitivity 0.6923\n",
      "F1-Score: 0.6642\n",
      "AUC: 0.6291\n"
     ]
    },
    {
     "data": {
      "text/plain": [
       "[('Age', 0.528),\n",
       " ('PhotoAmt', 0.154),\n",
       " ('FurLength', 0.092),\n",
       " ('is_sterilized', 0.06),\n",
       " ('unknown_sterilized', 0.03),\n",
       " ('MaturitySize', 0.024),\n",
       " ('fee_cat', 0.023),\n",
       " ('Dewormed', 0.022),\n",
       " ('Gender', 0.018),\n",
       " ('Health', 0.018),\n",
       " ('purebreed', 0.012),\n",
       " ('Vaccinated', 0.009),\n",
       " ('video_cat', 0.009)]"
      ]
     },
     "execution_count": 49,
     "metadata": {},
     "output_type": "execute_result"
    }
   ],
   "source": [
    "y_pred = clf3.predict(X_test)\n",
    "test3 = clf3.predict_proba(X_test)\n",
    "accuracy_score(y_test, y_pred)\n",
    "\n",
    "cm = pd.DataFrame(confusion_matrix(y_pred, y_test))\n",
    "cm.columns = ['True Y=0','True Y=1']\n",
    "cm.index = ['Predicted Y=0','Predicted Y=1']\n",
    "display(cm)\n",
    "specificity = cm.iloc[0, 0]/(cm.iloc[0, 0] + cm.iloc[1, 0])\n",
    "print(\"Accuracy:\",round(accuracy_score(y_test, y_pred),4))\n",
    "print('Specificity:', round(specificity,4))\n",
    "print('Sensitivity',round(recall_score(y_test,y_pred),4))\n",
    "print('F1-Score:', round(f1_score(y_test,y_pred),4))\n",
    "print('AUC:',round(roc_auc_score(y_test, y_pred),4))\n",
    "feature_imp(clf3,X_train)"
   ]
  },
  {
   "cell_type": "markdown",
   "metadata": {},
   "source": [
    "We note that Sterilized can be treated as looking at the sterility, hence during our analysis we would treat the two as one attribute again."
   ]
  },
  {
   "cell_type": "markdown",
   "metadata": {},
   "source": [
    "# Section 4.2.3: Key Findings for Cats (DT)"
   ]
  },
  {
   "cell_type": "code",
   "execution_count": 50,
   "metadata": {},
   "outputs": [
    {
     "data": {
      "text/html": [
       "<div>\n",
       "<style scoped>\n",
       "    .dataframe tbody tr th:only-of-type {\n",
       "        vertical-align: middle;\n",
       "    }\n",
       "\n",
       "    .dataframe tbody tr th {\n",
       "        vertical-align: top;\n",
       "    }\n",
       "\n",
       "    .dataframe thead th {\n",
       "        text-align: right;\n",
       "    }\n",
       "</style>\n",
       "<table border=\"1\" class=\"dataframe\">\n",
       "  <thead>\n",
       "    <tr style=\"text-align: right;\">\n",
       "      <th></th>\n",
       "      <th>Age</th>\n",
       "      <th>Gender</th>\n",
       "      <th>MaturitySize</th>\n",
       "      <th>FurLength</th>\n",
       "      <th>Vaccinated</th>\n",
       "      <th>Dewormed</th>\n",
       "      <th>Health</th>\n",
       "      <th>PhotoAmt</th>\n",
       "      <th>y</th>\n",
       "      <th>purebreed</th>\n",
       "      <th>video_cat</th>\n",
       "      <th>fee_cat</th>\n",
       "      <th>unknown_sterilized</th>\n",
       "      <th>is_sterilized</th>\n",
       "    </tr>\n",
       "  </thead>\n",
       "  <tbody>\n",
       "    <tr>\n",
       "      <th>0</th>\n",
       "      <td>2</td>\n",
       "      <td>1</td>\n",
       "      <td>1</td>\n",
       "      <td>1</td>\n",
       "      <td>2</td>\n",
       "      <td>2</td>\n",
       "      <td>1</td>\n",
       "      <td>1.0</td>\n",
       "      <td>1</td>\n",
       "      <td>1</td>\n",
       "      <td>0</td>\n",
       "      <td>3</td>\n",
       "      <td>0</td>\n",
       "      <td>0</td>\n",
       "    </tr>\n",
       "    <tr>\n",
       "      <th>1</th>\n",
       "      <td>0</td>\n",
       "      <td>1</td>\n",
       "      <td>2</td>\n",
       "      <td>2</td>\n",
       "      <td>3</td>\n",
       "      <td>3</td>\n",
       "      <td>1</td>\n",
       "      <td>2.0</td>\n",
       "      <td>1</td>\n",
       "      <td>1</td>\n",
       "      <td>0</td>\n",
       "      <td>0</td>\n",
       "      <td>1</td>\n",
       "      <td>0</td>\n",
       "    </tr>\n",
       "    <tr>\n",
       "      <th>5</th>\n",
       "      <td>2</td>\n",
       "      <td>2</td>\n",
       "      <td>2</td>\n",
       "      <td>1</td>\n",
       "      <td>2</td>\n",
       "      <td>2</td>\n",
       "      <td>1</td>\n",
       "      <td>2.0</td>\n",
       "      <td>1</td>\n",
       "      <td>1</td>\n",
       "      <td>0</td>\n",
       "      <td>0</td>\n",
       "      <td>0</td>\n",
       "      <td>0</td>\n",
       "    </tr>\n",
       "    <tr>\n",
       "      <th>6</th>\n",
       "      <td>4</td>\n",
       "      <td>1</td>\n",
       "      <td>2</td>\n",
       "      <td>3</td>\n",
       "      <td>2</td>\n",
       "      <td>2</td>\n",
       "      <td>1</td>\n",
       "      <td>3.0</td>\n",
       "      <td>1</td>\n",
       "      <td>0</td>\n",
       "      <td>0</td>\n",
       "      <td>3</td>\n",
       "      <td>1</td>\n",
       "      <td>0</td>\n",
       "    </tr>\n",
       "    <tr>\n",
       "      <th>8</th>\n",
       "      <td>1</td>\n",
       "      <td>2</td>\n",
       "      <td>2</td>\n",
       "      <td>2</td>\n",
       "      <td>2</td>\n",
       "      <td>2</td>\n",
       "      <td>1</td>\n",
       "      <td>6.0</td>\n",
       "      <td>1</td>\n",
       "      <td>1</td>\n",
       "      <td>0</td>\n",
       "      <td>0</td>\n",
       "      <td>0</td>\n",
       "      <td>0</td>\n",
       "    </tr>\n",
       "    <tr>\n",
       "      <th>...</th>\n",
       "      <td>...</td>\n",
       "      <td>...</td>\n",
       "      <td>...</td>\n",
       "      <td>...</td>\n",
       "      <td>...</td>\n",
       "      <td>...</td>\n",
       "      <td>...</td>\n",
       "      <td>...</td>\n",
       "      <td>...</td>\n",
       "      <td>...</td>\n",
       "      <td>...</td>\n",
       "      <td>...</td>\n",
       "      <td>...</td>\n",
       "      <td>...</td>\n",
       "    </tr>\n",
       "    <tr>\n",
       "      <th>14971</th>\n",
       "      <td>3</td>\n",
       "      <td>1</td>\n",
       "      <td>3</td>\n",
       "      <td>2</td>\n",
       "      <td>3</td>\n",
       "      <td>1</td>\n",
       "      <td>1</td>\n",
       "      <td>1.0</td>\n",
       "      <td>0</td>\n",
       "      <td>1</td>\n",
       "      <td>0</td>\n",
       "      <td>0</td>\n",
       "      <td>0</td>\n",
       "      <td>0</td>\n",
       "    </tr>\n",
       "    <tr>\n",
       "      <th>14972</th>\n",
       "      <td>1</td>\n",
       "      <td>1</td>\n",
       "      <td>2</td>\n",
       "      <td>1</td>\n",
       "      <td>2</td>\n",
       "      <td>1</td>\n",
       "      <td>1</td>\n",
       "      <td>3.0</td>\n",
       "      <td>1</td>\n",
       "      <td>1</td>\n",
       "      <td>0</td>\n",
       "      <td>0</td>\n",
       "      <td>0</td>\n",
       "      <td>0</td>\n",
       "    </tr>\n",
       "    <tr>\n",
       "      <th>14977</th>\n",
       "      <td>2</td>\n",
       "      <td>2</td>\n",
       "      <td>1</td>\n",
       "      <td>2</td>\n",
       "      <td>2</td>\n",
       "      <td>2</td>\n",
       "      <td>1</td>\n",
       "      <td>2.0</td>\n",
       "      <td>0</td>\n",
       "      <td>1</td>\n",
       "      <td>0</td>\n",
       "      <td>0</td>\n",
       "      <td>0</td>\n",
       "      <td>0</td>\n",
       "    </tr>\n",
       "    <tr>\n",
       "      <th>14986</th>\n",
       "      <td>0</td>\n",
       "      <td>2</td>\n",
       "      <td>2</td>\n",
       "      <td>1</td>\n",
       "      <td>2</td>\n",
       "      <td>1</td>\n",
       "      <td>1</td>\n",
       "      <td>1.0</td>\n",
       "      <td>0</td>\n",
       "      <td>1</td>\n",
       "      <td>0</td>\n",
       "      <td>0</td>\n",
       "      <td>0</td>\n",
       "      <td>0</td>\n",
       "    </tr>\n",
       "    <tr>\n",
       "      <th>14991</th>\n",
       "      <td>4</td>\n",
       "      <td>2</td>\n",
       "      <td>1</td>\n",
       "      <td>1</td>\n",
       "      <td>1</td>\n",
       "      <td>1</td>\n",
       "      <td>1</td>\n",
       "      <td>3.0</td>\n",
       "      <td>0</td>\n",
       "      <td>1</td>\n",
       "      <td>0</td>\n",
       "      <td>0</td>\n",
       "      <td>0</td>\n",
       "      <td>1</td>\n",
       "    </tr>\n",
       "  </tbody>\n",
       "</table>\n",
       "<p>4943 rows × 14 columns</p>\n",
       "</div>"
      ],
      "text/plain": [
       "      Age  Gender  MaturitySize  FurLength  Vaccinated  Dewormed  Health  \\\n",
       "0       2       1             1          1           2         2       1   \n",
       "1       0       1             2          2           3         3       1   \n",
       "5       2       2             2          1           2         2       1   \n",
       "6       4       1             2          3           2         2       1   \n",
       "8       1       2             2          2           2         2       1   \n",
       "...    ..     ...           ...        ...         ...       ...     ...   \n",
       "14971   3       1             3          2           3         1       1   \n",
       "14972   1       1             2          1           2         1       1   \n",
       "14977   2       2             1          2           2         2       1   \n",
       "14986   0       2             2          1           2         1       1   \n",
       "14991   4       2             1          1           1         1       1   \n",
       "\n",
       "       PhotoAmt  y  purebreed  video_cat  fee_cat  unknown_sterilized  \\\n",
       "0           1.0  1          1          0        3                   0   \n",
       "1           2.0  1          1          0        0                   1   \n",
       "5           2.0  1          1          0        0                   0   \n",
       "6           3.0  1          0          0        3                   1   \n",
       "8           6.0  1          1          0        0                   0   \n",
       "...         ... ..        ...        ...      ...                 ...   \n",
       "14971       1.0  0          1          0        0                   0   \n",
       "14972       3.0  1          1          0        0                   0   \n",
       "14977       2.0  0          1          0        0                   0   \n",
       "14986       1.0  0          1          0        0                   0   \n",
       "14991       3.0  0          1          0        0                   0   \n",
       "\n",
       "       is_sterilized  \n",
       "0                  0  \n",
       "1                  0  \n",
       "5                  0  \n",
       "6                  0  \n",
       "8                  0  \n",
       "...              ...  \n",
       "14971              0  \n",
       "14972              0  \n",
       "14977              0  \n",
       "14986              0  \n",
       "14991              1  \n",
       "\n",
       "[4943 rows x 14 columns]"
      ]
     },
     "execution_count": 50,
     "metadata": {},
     "output_type": "execute_result"
    }
   ],
   "source": [
    "cat_df"
   ]
  },
  {
   "cell_type": "code",
   "execution_count": 51,
   "metadata": {},
   "outputs": [],
   "source": [
    "cat_feat = ['Age', 'PhotoAmt', 'FurLength', 'is_sterilized', 'MaturitySize']\n",
    "def plot_bar(data, x):\n",
    "    y = 'y'\n",
    "    df1 = data.groupby(x)[y].value_counts(normalize=True)\n",
    "    df1 = df1.mul(100)\n",
    "    df1 = df1.rename('percent').reset_index()\n",
    "\n",
    "    g = sns.catplot(x=x,y='percent',hue=y,kind='bar',data=df1)\n",
    "                  \n",
    "    g.ax.set_ylim(0,100)\n",
    "  \n",
    "\n",
    "    for p in g.ax.patches:\n",
    "        txt = str(p.get_height().round(2)) + '%'\n",
    "        txt_x = p.get_x() \n",
    "        txt_y = p.get_height()\n",
    "        g.ax.text(txt_x,txt_y,txt)\n"
   ]
  },
  {
   "cell_type": "code",
   "execution_count": 52,
   "metadata": {},
   "outputs": [],
   "source": [
    "def plot_bar_special(data, x): # same function as before\n",
    "    y = 'y'\n",
    "    df1 = data.groupby(x)[y].value_counts(normalize=True)\n",
    "    df1 = df1.mul(100)\n",
    "    df1 = df1.rename('percent').reset_index()\n",
    "\n",
    "    g = sns.catplot(x=x,y='percent',hue=y,kind='bar',data=df1)\n",
    "    g.ax.set_ylim(0,100)\n",
    "\n",
    "    for p in g.ax.patches:\n",
    "        txt = str(p.get_height().round(2)) + '%'\n",
    "        txt_x = p.get_x() \n",
    "        txt_y = p.get_height()\n",
    "        g.set(xticklabels=[])\n",
    "      #  g.ax.text(txt_x,txt_y,txt)"
   ]
  },
  {
   "cell_type": "code",
   "execution_count": 53,
   "metadata": {},
   "outputs": [
    {
     "data": {
      "image/png": "[encoded data removed]",
      "text/plain": [
       "<Figure size 417.1x360 with 1 Axes>"
      ]
     },
     "metadata": {},
     "output_type": "display_data"
    }
   ],
   "source": [
    "plot_bar(cat_df, 'Age')\n",
    "# A good sign that this mutation of age is significant: \n",
    "# younger animals have a much higher chance of adoption\n",
    "# and there is a correlation with age and % adopted"
   ]
  },
  {
   "cell_type": "code",
   "execution_count": 54,
   "metadata": {},
   "outputs": [
    {
     "data": {
      "image/png": "[encoded data removed]",
      "text/plain": [
       "<Figure size 417.1x360 with 1 Axes>"
      ]
     },
     "metadata": {},
     "output_type": "display_data"
    }
   ],
   "source": [
    "plot_bar_special(cat_df, 'PhotoAmt')"
   ]
  },
  {
   "cell_type": "code",
   "execution_count": 55,
   "metadata": {},
   "outputs": [
    {
     "data": {
      "image/png": "[encoded data removed]",
      "text/plain": [
       "<Figure size 417.1x360 with 1 Axes>"
      ]
     },
     "metadata": {},
     "output_type": "display_data"
    }
   ],
   "source": [
    "plot_bar(cat_df, 'FurLength')\n",
    "\n",
    "# Longer Furlength seems to be more appearling,\n",
    "# as seen by the % of y=1 increasing as FurLength increase\n",
    "# it could imply: fluffy and furry cats are more attractive\n",
    "# as compared to bare-skined ones"
   ]
  },
  {
   "cell_type": "code",
   "execution_count": 56,
   "metadata": {},
   "outputs": [
    {
     "data": {
      "image/png": "[encoded data removed]",
      "text/plain": [
       "<Figure size 417.1x360 with 1 Axes>"
      ]
     },
     "metadata": {},
     "output_type": "display_data"
    }
   ],
   "source": [
    "plot_bar(cat_df, 'is_sterilized')\n",
    "# Strong contrast in percentages:\n",
    "# Not sterilized tends to be adopted more often"
   ]
  },
  {
   "cell_type": "code",
   "execution_count": 57,
   "metadata": {},
   "outputs": [
    {
     "data": {
      "image/png": "[encoded data removed]",
      "text/plain": [
       "<Figure size 417.1x360 with 1 Axes>"
      ]
     },
     "metadata": {},
     "output_type": "display_data"
    }
   ],
   "source": [
    "plot_bar(cat_df, 'MaturitySize')\n",
    "\n",
    "# major difference for small cats, where cats of the smallest size\n",
    "# are heavily favoured, but sizes larger than that are equally distributed"
   ]
  },
  {
   "cell_type": "markdown",
   "metadata": {},
   "source": [
    "# Section 4.2.4 Decision Trees for Dogs"
   ]
  },
  {
   "cell_type": "code",
   "execution_count": 58,
   "metadata": {},
   "outputs": [],
   "source": [
    "X = np.asarray(dog_df.drop('y',axis=1))\n",
    "y = np.asarray(dog_df['y'])\n",
    "\n",
    "X_train, X_test, y_train, y_test = train_test_split(X, y, test_size=0.1, random_state=4)\n",
    "X_train, X_valid, y_train, y_valid = train_test_split(X_train, y_train, test_size=0.2, random_state=4)"
   ]
  },
  {
   "cell_type": "code",
   "execution_count": 59,
   "metadata": {},
   "outputs": [],
   "source": [
    "allcols = dog_df.drop('y',axis=1).columns.tolist()"
   ]
  },
  {
   "cell_type": "code",
   "execution_count": 60,
   "metadata": {},
   "outputs": [],
   "source": [
    "X_train = pd.DataFrame(data=X_train, columns=allcols)"
   ]
  },
  {
   "cell_type": "markdown",
   "metadata": {},
   "source": [
    "### Constructing the DT for Dogs"
   ]
  },
  {
   "cell_type": "code",
   "execution_count": 61,
   "metadata": {
    "scrolled": true
   },
   "outputs": [
    {
     "name": "stdout",
     "output_type": "stream",
     "text": [
      "Best max_depth for gini: 8\n",
      "Best max_depth for entropy: 8\n"
     ]
    },
    {
     "data": {
      "image/png": "[encoded data removed]",
      "text/plain": [
       "<Figure size 432x288 with 1 Axes>"
      ]
     },
     "metadata": {},
     "output_type": "display_data"
    }
   ],
   "source": [
    "max_depth = []\n",
    "acc_gini = []\n",
    "acc_entropy = []\n",
    "for i in range(2,50):\n",
    "    dtree = DecisionTreeClassifier(random_state=rando,criterion='gini', max_depth=i)\n",
    "    dtree.fit(X_train, y_train)\n",
    "    pred = dtree.predict(X_valid)\n",
    "    acc_gini.append(accuracy_score(y_valid, pred))\n",
    "    ###\n",
    "    dtree = DecisionTreeClassifier(random_state=rando,criterion='entropy', max_depth=i)\n",
    "    dtree.fit(X_train, y_train)\n",
    "    pred = dtree.predict(X_valid)\n",
    "    acc_entropy.append(accuracy_score(y_valid, pred))\n",
    "    ####\n",
    "    max_depth.append(i)\n",
    "d = pd.DataFrame({'acc_gini':pd.Series(acc_gini), \n",
    "    'acc_entropy':pd.Series(acc_entropy),\n",
    "    'max_depth':pd.Series(max_depth)})\n",
    "# visualizing changes in parameters\n",
    "plt.plot('max_depth','acc_gini', data=d, label='gini')\n",
    "plt.plot('max_depth','acc_entropy', data=d, label='entropy')\n",
    "plt.xlabel('max_depth')\n",
    "plt.ylabel('accuracy')\n",
    "plt.legend()\n",
    "dog_best_gini = d.sort_values('acc_gini',ascending=False).iloc[0,2]\n",
    "dog_best_entr = d.sort_values('acc_entropy',ascending=False).iloc[0,2]\n",
    "print(\"Best max_depth for gini:\", d.sort_values('acc_gini',ascending=False).iloc[0,2])\n",
    "print(\"Best max_depth for entropy:\", d.sort_values('acc_entropy',ascending=False).iloc[0,2])"
   ]
  },
  {
   "cell_type": "code",
   "execution_count": 62,
   "metadata": {},
   "outputs": [
    {
     "data": {
      "text/plain": [
       "{5: 0.6233221476510067,\n",
       " 6: 0.6157718120805369,\n",
       " 7: 0.6325503355704698,\n",
       " 8: 0.6401006711409396,\n",
       " 9: 0.639261744966443,\n",
       " 10: 0.6291946308724832}"
      ]
     },
     "execution_count": 62,
     "metadata": {},
     "output_type": "execute_result"
    }
   ],
   "source": [
    "# Best for gini: look at accuracy scores in that region\n",
    "acc_gini = {}\n",
    "\n",
    "for i in range(dog_best_gini-3,dog_best_gini+3):\n",
    "    clf3 = DecisionTreeClassifier(random_state=rando, max_depth= i , criterion = 'gini')\n",
    "    clf3 .fit(X_train,y_train)\n",
    "    y_pred = clf3 .predict(X_valid)\n",
    "    test3 = clf3 .predict_proba(X_valid)\n",
    "    acc_gini[i] = accuracy_score(y_valid, y_pred)\n",
    "acc_gini"
   ]
  },
  {
   "cell_type": "code",
   "execution_count": 63,
   "metadata": {},
   "outputs": [
    {
     "data": {
      "text/plain": [
       "{5: 0.6258389261744967,\n",
       " 6: 0.6157718120805369,\n",
       " 7: 0.6266778523489933,\n",
       " 8: 0.636744966442953,\n",
       " 9: 0.6317114093959731,\n",
       " 10: 0.6266778523489933}"
      ]
     },
     "execution_count": 63,
     "metadata": {},
     "output_type": "execute_result"
    }
   ],
   "source": [
    "# Best for gini: look at accuracy scores in that region\n",
    "acc_entro = {}\n",
    "for i in range(dog_best_entr-3,dog_best_entr+3):\n",
    "    clf3 = DecisionTreeClassifier(random_state=rando,max_depth= i , criterion = 'entropy')\n",
    "    clf3 .fit(X_train,y_train)\n",
    "    y_pred = clf3.predict(X_valid)\n",
    "    test3 = clf3.predict_proba(X_valid)\n",
    "    acc_entro[i] = accuracy_score(y_valid, y_pred)\n",
    "acc_entro"
   ]
  },
  {
   "cell_type": "code",
   "execution_count": 64,
   "metadata": {},
   "outputs": [
    {
     "data": {
      "text/plain": [
       "0.005033557046979831"
      ]
     },
     "execution_count": 64,
     "metadata": {},
     "output_type": "execute_result"
    }
   ],
   "source": [
    "acc_entro[8] - acc_entro[9]"
   ]
  },
  {
   "cell_type": "code",
   "execution_count": 65,
   "metadata": {},
   "outputs": [
    {
     "data": {
      "text/plain": [
       "0.636744966442953"
      ]
     },
     "execution_count": 65,
     "metadata": {},
     "output_type": "execute_result"
    }
   ],
   "source": [
    "# Being aware of the tradeoff between the max_depth and representation power,\n",
    "# we chose to use our criterion as 'entropy' as it generally gives the best accuracy\n",
    "# and a max_depth of 8 as it gives the optimal accuracy score\n",
    "# and has a significance difference greater than its neighbors\n",
    "# (by more than 0.005)\n",
    "\n",
    "clf5 = DecisionTreeClassifier(random_state=rando, \n",
    "                              max_depth= dog_best_entr, \n",
    "                              criterion = 'entropy')\n",
    "clf5 .fit(X_train,y_train)\n",
    "y_pred = clf5.predict(X_valid)\n",
    "test5 = clf5.predict_proba(X_valid)\n",
    "accuracy_score(y_valid, y_pred)"
   ]
  },
  {
   "cell_type": "code",
   "execution_count": 66,
   "metadata": {},
   "outputs": [
    {
     "name": "stdout",
     "output_type": "stream",
     "text": [
      "The binary tree structure has 317 nodes and has the following tree structure:\n",
      "node=0 test node: go to node 1 if X[:, 0] <= 1.5 else to node 146.\n",
      "\tnode=1 test node: go to node 2 if X[:, 4] <= 2.5 else to node 91.\n",
      "\t\tnode=2 test node: go to node 3 if X[:, 4] <= 1.5 else to node 46.\n",
      "\t\t\tnode=3 test node: go to node 4 if X[:, 7] <= 7.5 else to node 31.\n",
      "\t\t\t\tnode=4 test node: go to node 5 if X[:, 3] <= 1.5 else to node 18.\n",
      "\t\t\t\t\tnode=5 test node: go to node 6 if X[:, 11] <= 0.5 else to node 13.\n",
      "\t\t\t\t\t\tnode=6 test node: go to node 7 if X[:, 7] <= 5.5 else to node 10.\n",
      "\t\t\t\t\t\t\tnode=7 test node: go to node 8 if X[:, 2] <= 1.5 else to node 9.\n",
      "\t\t\t\t\t\t\t\tnode=8 leaf node.\n",
      "\t\t\t\t\t\t\t\tnode=9 leaf node.\n",
      "\t\t\t\t\t\t\tnode=10 test node: go to node 11 if X[:, 5] <= 1.5 else to node 12.\n",
      "\t\t\t\t\t\t\t\tnode=11 leaf node.\n",
      "\t\t\t\t\t\t\t\tnode=12 leaf node.\n",
      "\t\t\t\t\t\tnode=13 test node: go to node 14 if X[:, 7] <= 2.5 else to node 17.\n",
      "\t\t\t\t\t\t\tnode=14 test node: go to node 15 if X[:, 2] <= 1.5 else to node 16.\n",
      "\t\t\t\t\t\t\t\tnode=15 leaf node.\n",
      "\t\t\t\t\t\t\t\tnode=16 leaf node.\n",
      "\t\t\t\t\t\t\tnode=17 leaf node.\n",
      "\t\t\t\t\tnode=18 test node: go to node 19 if X[:, 7] <= 1.5 else to node 24.\n",
      "\t\t\t\t\t\tnode=19 test node: go to node 20 if X[:, 12] <= 0.5 else to node 23.\n",
      "\t\t\t\t\t\t\tnode=20 test node: go to node 21 if X[:, 11] <= 0.5 else to node 22.\n",
      "\t\t\t\t\t\t\t\tnode=21 leaf node.\n",
      "\t\t\t\t\t\t\t\tnode=22 leaf node.\n",
      "\t\t\t\t\t\t\tnode=23 leaf node.\n",
      "\t\t\t\t\t\tnode=24 test node: go to node 25 if X[:, 8] <= 0.5 else to node 28.\n",
      "\t\t\t\t\t\t\tnode=25 test node: go to node 26 if X[:, 5] <= 2.5 else to node 27.\n",
      "\t\t\t\t\t\t\t\tnode=26 leaf node.\n",
      "\t\t\t\t\t\t\t\tnode=27 leaf node.\n",
      "\t\t\t\t\t\t\tnode=28 test node: go to node 29 if X[:, 5] <= 1.5 else to node 30.\n",
      "\t\t\t\t\t\t\t\tnode=29 leaf node.\n",
      "\t\t\t\t\t\t\t\tnode=30 leaf node.\n",
      "\t\t\t\tnode=31 test node: go to node 32 if X[:, 9] <= 1.5 else to node 39.\n",
      "\t\t\t\t\tnode=32 test node: go to node 33 if X[:, 7] <= 8.5 else to node 34.\n",
      "\t\t\t\t\t\tnode=33 leaf node.\n",
      "\t\t\t\t\t\tnode=34 test node: go to node 35 if X[:, 7] <= 21.0 else to node 38.\n",
      "\t\t\t\t\t\t\tnode=35 test node: go to node 36 if X[:, 7] <= 15.5 else to node 37.\n",
      "\t\t\t\t\t\t\t\tnode=36 leaf node.\n",
      "\t\t\t\t\t\t\t\tnode=37 leaf node.\n",
      "\t\t\t\t\t\t\tnode=38 leaf node.\n",
      "\t\t\t\t\tnode=39 test node: go to node 40 if X[:, 10] <= 1.5 else to node 45.\n",
      "\t\t\t\t\t\tnode=40 test node: go to node 41 if X[:, 7] <= 9.5 else to node 44.\n",
      "\t\t\t\t\t\t\tnode=41 test node: go to node 42 if X[:, 1] <= 1.5 else to node 43.\n",
      "\t\t\t\t\t\t\t\tnode=42 leaf node.\n",
      "\t\t\t\t\t\t\t\tnode=43 leaf node.\n",
      "\t\t\t\t\t\t\tnode=44 leaf node.\n",
      "\t\t\t\t\t\tnode=45 leaf node.\n",
      "\t\t\tnode=46 test node: go to node 47 if X[:, 7] <= 1.5 else to node 62.\n",
      "\t\t\t\tnode=47 test node: go to node 48 if X[:, 11] <= 0.5 else to node 59.\n",
      "\t\t\t\t\tnode=48 test node: go to node 49 if X[:, 6] <= 1.5 else to node 56.\n",
      "\t\t\t\t\t\tnode=49 test node: go to node 50 if X[:, 3] <= 1.5 else to node 53.\n",
      "\t\t\t\t\t\t\tnode=50 test node: go to node 51 if X[:, 1] <= 1.5 else to node 52.\n",
      "\t\t\t\t\t\t\t\tnode=51 leaf node.\n",
      "\t\t\t\t\t\t\t\tnode=52 leaf node.\n",
      "\t\t\t\t\t\t\tnode=53 test node: go to node 54 if X[:, 8] <= 0.5 else to node 55.\n",
      "\t\t\t\t\t\t\t\tnode=54 leaf node.\n",
      "\t\t\t\t\t\t\t\tnode=55 leaf node.\n",
      "\t\t\t\t\t\tnode=56 test node: go to node 57 if X[:, 9] <= 1.5 else to node 58.\n",
      "\t\t\t\t\t\t\tnode=57 leaf node.\n",
      "\t\t\t\t\t\t\tnode=58 leaf node.\n",
      "\t\t\t\t\tnode=59 test node: go to node 60 if X[:, 10] <= 1.5 else to node 61.\n",
      "\t\t\t\t\t\tnode=60 leaf node.\n",
      "\t\t\t\t\t\tnode=61 leaf node.\n",
      "\t\t\t\tnode=62 test node: go to node 63 if X[:, 0] <= 0.5 else to node 78.\n",
      "\t\t\t\t\tnode=63 test node: go to node 64 if X[:, 3] <= 1.5 else to node 71.\n",
      "\t\t\t\t\t\tnode=64 test node: go to node 65 if X[:, 12] <= 0.5 else to node 68.\n",
      "\t\t\t\t\t\t\tnode=65 test node: go to node 66 if X[:, 2] <= 1.5 else to node 67.\n",
      "\t\t\t\t\t\t\t\tnode=66 leaf node.\n",
      "\t\t\t\t\t\t\t\tnode=67 leaf node.\n",
      "\t\t\t\t\t\t\tnode=68 test node: go to node 69 if X[:, 5] <= 1.5 else to node 70.\n",
      "\t\t\t\t\t\t\t\tnode=69 leaf node.\n",
      "\t\t\t\t\t\t\t\tnode=70 leaf node.\n",
      "\t\t\t\t\t\tnode=71 test node: go to node 72 if X[:, 1] <= 1.5 else to node 75.\n",
      "\t\t\t\t\t\t\tnode=72 test node: go to node 73 if X[:, 12] <= 0.5 else to node 74.\n",
      "\t\t\t\t\t\t\t\tnode=73 leaf node.\n",
      "\t\t\t\t\t\t\t\tnode=74 leaf node.\n",
      "\t\t\t\t\t\t\tnode=75 test node: go to node 76 if X[:, 7] <= 5.5 else to node 77.\n",
      "\t\t\t\t\t\t\t\tnode=76 leaf node.\n",
      "\t\t\t\t\t\t\t\tnode=77 leaf node.\n",
      "\t\t\t\t\tnode=78 test node: go to node 79 if X[:, 7] <= 6.5 else to node 86.\n",
      "\t\t\t\t\t\tnode=79 test node: go to node 80 if X[:, 6] <= 1.5 else to node 83.\n",
      "\t\t\t\t\t\t\tnode=80 test node: go to node 81 if X[:, 11] <= 0.5 else to node 82.\n",
      "\t\t\t\t\t\t\t\tnode=81 leaf node.\n",
      "\t\t\t\t\t\t\t\tnode=82 leaf node.\n",
      "\t\t\t\t\t\t\tnode=83 test node: go to node 84 if X[:, 7] <= 2.5 else to node 85.\n",
      "\t\t\t\t\t\t\t\tnode=84 leaf node.\n",
      "\t\t\t\t\t\t\t\tnode=85 leaf node.\n",
      "\t\t\t\t\t\tnode=86 test node: go to node 87 if X[:, 9] <= 1.5 else to node 90.\n",
      "\t\t\t\t\t\t\tnode=87 test node: go to node 88 if X[:, 1] <= 1.5 else to node 89.\n",
      "\t\t\t\t\t\t\t\tnode=88 leaf node.\n",
      "\t\t\t\t\t\t\t\tnode=89 leaf node.\n",
      "\t\t\t\t\t\t\tnode=90 leaf node.\n",
      "\t\tnode=91 test node: go to node 92 if X[:, 7] <= 3.5 else to node 133.\n",
      "\t\t\tnode=92 test node: go to node 93 if X[:, 11] <= 0.5 else to node 118.\n",
      "\t\t\t\tnode=93 test node: go to node 94 if X[:, 0] <= 0.5 else to node 105.\n",
      "\t\t\t\t\tnode=94 test node: go to node 95 if X[:, 1] <= 1.5 else to node 100.\n",
      "\t\t\t\t\t\tnode=95 test node: go to node 96 if X[:, 2] <= 1.5 else to node 97.\n",
      "\t\t\t\t\t\t\tnode=96 leaf node.\n",
      "\t\t\t\t\t\t\tnode=97 test node: go to node 98 if X[:, 8] <= 0.5 else to node 99.\n",
      "\t\t\t\t\t\t\t\tnode=98 leaf node.\n",
      "\t\t\t\t\t\t\t\tnode=99 leaf node.\n",
      "\t\t\t\t\t\tnode=100 test node: go to node 101 if X[:, 8] <= 0.5 else to node 102.\n",
      "\t\t\t\t\t\t\tnode=101 leaf node.\n",
      "\t\t\t\t\t\t\tnode=102 test node: go to node 103 if X[:, 3] <= 1.5 else to node 104.\n",
      "\t\t\t\t\t\t\t\tnode=103 leaf node.\n",
      "\t\t\t\t\t\t\t\tnode=104 leaf node.\n",
      "\t\t\t\t\tnode=105 test node: go to node 106 if X[:, 5] <= 2.0 else to node 111.\n",
      "\t\t\t\t\t\tnode=106 test node: go to node 107 if X[:, 3] <= 1.5 else to node 110.\n",
      "\t\t\t\t\t\t\tnode=107 test node: go to node 108 if X[:, 12] <= 0.5 else to node 109.\n",
      "\t\t\t\t\t\t\t\tnode=108 leaf node.\n",
      "\t\t\t\t\t\t\t\tnode=109 leaf node.\n",
      "\t\t\t\t\t\t\tnode=110 leaf node.\n",
      "\t\t\t\t\t\tnode=111 test node: go to node 112 if X[:, 8] <= 0.5 else to node 115.\n",
      "\t\t\t\t\t\t\tnode=112 test node: go to node 113 if X[:, 1] <= 1.5 else to node 114.\n",
      "\t\t\t\t\t\t\t\tnode=113 leaf node.\n",
      "\t\t\t\t\t\t\t\tnode=114 leaf node.\n",
      "\t\t\t\t\t\t\tnode=115 test node: go to node 116 if X[:, 3] <= 1.5 else to node 117.\n",
      "\t\t\t\t\t\t\t\tnode=116 leaf node.\n",
      "\t\t\t\t\t\t\t\tnode=117 leaf node.\n",
      "\t\t\t\tnode=118 test node: go to node 119 if X[:, 2] <= 2.5 else to node 132.\n",
      "\t\t\t\t\tnode=119 test node: go to node 120 if X[:, 8] <= 0.5 else to node 125.\n",
      "\t\t\t\t\t\tnode=120 test node: go to node 121 if X[:, 2] <= 1.5 else to node 122.\n",
      "\t\t\t\t\t\t\tnode=121 leaf node.\n",
      "\t\t\t\t\t\t\tnode=122 test node: go to node 123 if X[:, 7] <= 2.5 else to node 124.\n",
      "\t\t\t\t\t\t\t\tnode=123 leaf node.\n",
      "\t\t\t\t\t\t\t\tnode=124 leaf node.\n",
      "\t\t\t\t\t\tnode=125 test node: go to node 126 if X[:, 7] <= 1.5 else to node 129.\n",
      "\t\t\t\t\t\t\tnode=126 test node: go to node 127 if X[:, 6] <= 1.5 else to node 128.\n",
      "\t\t\t\t\t\t\t\tnode=127 leaf node.\n",
      "\t\t\t\t\t\t\t\tnode=128 leaf node.\n",
      "\t\t\t\t\t\t\tnode=129 test node: go to node 130 if X[:, 3] <= 1.5 else to node 131.\n",
      "\t\t\t\t\t\t\t\tnode=130 leaf node.\n",
      "\t\t\t\t\t\t\t\tnode=131 leaf node.\n",
      "\t\t\t\t\tnode=132 leaf node.\n",
      "\t\t\tnode=133 test node: go to node 134 if X[:, 3] <= 2.5 else to node 145.\n",
      "\t\t\t\tnode=134 test node: go to node 135 if X[:, 6] <= 1.5 else to node 144.\n",
      "\t\t\t\t\tnode=135 test node: go to node 136 if X[:, 9] <= 1.5 else to node 143.\n",
      "\t\t\t\t\t\tnode=136 test node: go to node 137 if X[:, 7] <= 5.5 else to node 140.\n",
      "\t\t\t\t\t\t\tnode=137 test node: go to node 138 if X[:, 5] <= 1.5 else to node 139.\n",
      "\t\t\t\t\t\t\t\tnode=138 leaf node.\n",
      "\t\t\t\t\t\t\t\tnode=139 leaf node.\n",
      "\t\t\t\t\t\t\tnode=140 test node: go to node 141 if X[:, 5] <= 2.0 else to node 142.\n",
      "\t\t\t\t\t\t\t\tnode=141 leaf node.\n",
      "\t\t\t\t\t\t\t\tnode=142 leaf node.\n",
      "\t\t\t\t\t\tnode=143 leaf node.\n",
      "\t\t\t\t\tnode=144 leaf node.\n",
      "\t\t\t\tnode=145 leaf node.\n",
      "\tnode=146 test node: go to node 147 if X[:, 2] <= 1.5 else to node 224.\n",
      "\t\tnode=147 test node: go to node 148 if X[:, 3] <= 2.5 else to node 199.\n",
      "\t\t\tnode=148 test node: go to node 149 if X[:, 1] <= 1.5 else to node 170.\n",
      "\t\t\t\tnode=149 test node: go to node 150 if X[:, 0] <= 2.5 else to node 159.\n",
      "\t\t\t\t\tnode=150 test node: go to node 151 if X[:, 11] <= 0.5 else to node 156.\n",
      "\t\t\t\t\t\tnode=151 test node: go to node 152 if X[:, 12] <= 0.5 else to node 153.\n",
      "\t\t\t\t\t\t\tnode=152 leaf node.\n",
      "\t\t\t\t\t\t\tnode=153 test node: go to node 154 if X[:, 10] <= 1.5 else to node 155.\n",
      "\t\t\t\t\t\t\t\tnode=154 leaf node.\n",
      "\t\t\t\t\t\t\t\tnode=155 leaf node.\n",
      "\t\t\t\t\t\tnode=156 test node: go to node 157 if X[:, 7] <= 3.5 else to node 158.\n",
      "\t\t\t\t\t\t\tnode=157 leaf node.\n",
      "\t\t\t\t\t\t\tnode=158 leaf node.\n",
      "\t\t\t\t\tnode=159 test node: go to node 160 if X[:, 0] <= 3.5 else to node 165.\n",
      "\t\t\t\t\t\tnode=160 test node: go to node 161 if X[:, 7] <= 5.5 else to node 164.\n",
      "\t\t\t\t\t\t\tnode=161 test node: go to node 162 if X[:, 7] <= 2.5 else to node 163.\n",
      "\t\t\t\t\t\t\t\tnode=162 leaf node.\n",
      "\t\t\t\t\t\t\t\tnode=163 leaf node.\n",
      "\t\t\t\t\t\t\tnode=164 leaf node.\n",
      "\t\t\t\t\t\tnode=165 test node: go to node 166 if X[:, 7] <= 12.0 else to node 169.\n",
      "\t\t\t\t\t\t\tnode=166 test node: go to node 167 if X[:, 7] <= 1.5 else to node 168.\n",
      "\t\t\t\t\t\t\t\tnode=167 leaf node.\n",
      "\t\t\t\t\t\t\t\tnode=168 leaf node.\n",
      "\t\t\t\t\t\t\tnode=169 leaf node.\n",
      "\t\t\t\tnode=170 test node: go to node 171 if X[:, 5] <= 2.5 else to node 186.\n",
      "\t\t\t\t\tnode=171 test node: go to node 172 if X[:, 4] <= 1.5 else to node 179.\n",
      "\t\t\t\t\t\tnode=172 test node: go to node 173 if X[:, 0] <= 4.5 else to node 176.\n",
      "\t\t\t\t\t\t\tnode=173 test node: go to node 174 if X[:, 10] <= 1.5 else to node 175.\n",
      "\t\t\t\t\t\t\t\tnode=174 leaf node.\n",
      "\t\t\t\t\t\t\t\tnode=175 leaf node.\n",
      "\t\t\t\t\t\t\tnode=176 test node: go to node 177 if X[:, 8] <= 0.5 else to node 178.\n",
      "\t\t\t\t\t\t\t\tnode=177 leaf node.\n",
      "\t\t\t\t\t\t\t\tnode=178 leaf node.\n",
      "\t\t\t\t\t\tnode=179 test node: go to node 180 if X[:, 4] <= 2.5 else to node 183.\n",
      "\t\t\t\t\t\t\tnode=180 test node: go to node 181 if X[:, 3] <= 1.5 else to node 182.\n",
      "\t\t\t\t\t\t\t\tnode=181 leaf node.\n",
      "\t\t\t\t\t\t\t\tnode=182 leaf node.\n",
      "\t\t\t\t\t\t\tnode=183 test node: go to node 184 if X[:, 7] <= 6.0 else to node 185.\n",
      "\t\t\t\t\t\t\t\tnode=184 leaf node.\n",
      "\t\t\t\t\t\t\t\tnode=185 leaf node.\n",
      "\t\t\t\t\tnode=186 test node: go to node 187 if X[:, 0] <= 4.5 else to node 194.\n",
      "\t\t\t\t\t\tnode=187 test node: go to node 188 if X[:, 3] <= 1.5 else to node 191.\n",
      "\t\t\t\t\t\t\tnode=188 test node: go to node 189 if X[:, 7] <= 2.5 else to node 190.\n",
      "\t\t\t\t\t\t\t\tnode=189 leaf node.\n",
      "\t\t\t\t\t\t\t\tnode=190 leaf node.\n",
      "\t\t\t\t\t\t\tnode=191 test node: go to node 192 if X[:, 7] <= 2.5 else to node 193.\n",
      "\t\t\t\t\t\t\t\tnode=192 leaf node.\n",
      "\t\t\t\t\t\t\t\tnode=193 leaf node.\n",
      "\t\t\t\t\t\tnode=194 test node: go to node 195 if X[:, 7] <= 2.5 else to node 196.\n",
      "\t\t\t\t\t\t\tnode=195 leaf node.\n",
      "\t\t\t\t\t\t\tnode=196 test node: go to node 197 if X[:, 11] <= 0.5 else to node 198.\n",
      "\t\t\t\t\t\t\t\tnode=197 leaf node.\n",
      "\t\t\t\t\t\t\t\tnode=198 leaf node.\n",
      "\t\t\tnode=199 test node: go to node 200 if X[:, 10] <= 1.5 else to node 211.\n",
      "\t\t\t\tnode=200 test node: go to node 201 if X[:, 0] <= 2.5 else to node 202.\n",
      "\t\t\t\t\tnode=201 leaf node.\n",
      "\t\t\t\t\tnode=202 test node: go to node 203 if X[:, 0] <= 4.5 else to node 204.\n",
      "\t\t\t\t\t\tnode=203 leaf node.\n",
      "\t\t\t\t\t\tnode=204 test node: go to node 205 if X[:, 5] <= 1.5 else to node 208.\n",
      "\t\t\t\t\t\t\tnode=205 test node: go to node 206 if X[:, 7] <= 5.5 else to node 207.\n",
      "\t\t\t\t\t\t\t\tnode=206 leaf node.\n",
      "\t\t\t\t\t\t\t\tnode=207 leaf node.\n",
      "\t\t\t\t\t\t\tnode=208 test node: go to node 209 if X[:, 1] <= 1.5 else to node 210.\n",
      "\t\t\t\t\t\t\t\tnode=209 leaf node.\n",
      "\t\t\t\t\t\t\t\tnode=210 leaf node.\n",
      "\t\t\t\tnode=211 test node: go to node 212 if X[:, 6] <= 1.5 else to node 223.\n",
      "\t\t\t\t\tnode=212 test node: go to node 213 if X[:, 4] <= 2.5 else to node 220.\n",
      "\t\t\t\t\t\tnode=213 test node: go to node 214 if X[:, 5] <= 1.5 else to node 217.\n",
      "\t\t\t\t\t\t\tnode=214 test node: go to node 215 if X[:, 1] <= 1.5 else to node 216.\n",
      "\t\t\t\t\t\t\t\tnode=215 leaf node.\n",
      "\t\t\t\t\t\t\t\tnode=216 leaf node.\n",
      "\t\t\t\t\t\t\tnode=217 test node: go to node 218 if X[:, 8] <= 0.5 else to node 219.\n",
      "\t\t\t\t\t\t\t\tnode=218 leaf node.\n",
      "\t\t\t\t\t\t\t\tnode=219 leaf node.\n",
      "\t\t\t\t\t\tnode=220 test node: go to node 221 if X[:, 11] <= 0.5 else to node 222.\n",
      "\t\t\t\t\t\t\tnode=221 leaf node.\n",
      "\t\t\t\t\t\t\tnode=222 leaf node.\n",
      "\t\t\t\t\tnode=223 leaf node.\n",
      "\t\tnode=224 test node: go to node 225 if X[:, 12] <= 0.5 else to node 276.\n",
      "\t\t\tnode=225 test node: go to node 226 if X[:, 2] <= 2.5 else to node 249.\n",
      "\t\t\t\tnode=226 test node: go to node 227 if X[:, 7] <= 0.5 else to node 236.\n",
      "\t\t\t\t\tnode=227 test node: go to node 228 if X[:, 0] <= 4.5 else to node 229.\n",
      "\t\t\t\t\t\tnode=228 leaf node.\n",
      "\t\t\t\t\t\tnode=229 test node: go to node 230 if X[:, 3] <= 1.5 else to node 233.\n",
      "\t\t\t\t\t\t\tnode=230 test node: go to node 231 if X[:, 11] <= 0.5 else to node 232.\n",
      "\t\t\t\t\t\t\t\tnode=231 leaf node.\n",
      "\t\t\t\t\t\t\t\tnode=232 leaf node.\n",
      "\t\t\t\t\t\t\tnode=233 test node: go to node 234 if X[:, 10] <= 1.5 else to node 235.\n",
      "\t\t\t\t\t\t\t\tnode=234 leaf node.\n",
      "\t\t\t\t\t\t\t\tnode=235 leaf node.\n",
      "\t\t\t\t\tnode=236 test node: go to node 237 if X[:, 0] <= 2.5 else to node 242.\n",
      "\t\t\t\t\t\tnode=237 test node: go to node 238 if X[:, 3] <= 2.5 else to node 241.\n",
      "\t\t\t\t\t\t\tnode=238 test node: go to node 239 if X[:, 1] <= 1.5 else to node 240.\n",
      "\t\t\t\t\t\t\t\tnode=239 leaf node.\n",
      "\t\t\t\t\t\t\t\tnode=240 leaf node.\n",
      "\t\t\t\t\t\t\tnode=241 leaf node.\n",
      "\t\t\t\t\t\tnode=242 test node: go to node 243 if X[:, 3] <= 2.5 else to node 246.\n",
      "\t\t\t\t\t\t\tnode=243 test node: go to node 244 if X[:, 6] <= 2.5 else to node 245.\n",
      "\t\t\t\t\t\t\t\tnode=244 leaf node.\n",
      "\t\t\t\t\t\t\t\tnode=245 leaf node.\n",
      "\t\t\t\t\t\t\tnode=246 test node: go to node 247 if X[:, 11] <= 0.5 else to node 248.\n",
      "\t\t\t\t\t\t\t\tnode=247 leaf node.\n",
      "\t\t\t\t\t\t\t\tnode=248 leaf node.\n",
      "\t\t\t\tnode=249 test node: go to node 250 if X[:, 11] <= 0.5 else to node 263.\n",
      "\t\t\t\t\tnode=250 test node: go to node 251 if X[:, 7] <= 0.5 else to node 256.\n",
      "\t\t\t\t\t\tnode=251 test node: go to node 252 if X[:, 3] <= 2.5 else to node 255.\n",
      "\t\t\t\t\t\t\tnode=252 test node: go to node 253 if X[:, 4] <= 1.5 else to node 254.\n",
      "\t\t\t\t\t\t\t\tnode=253 leaf node.\n",
      "\t\t\t\t\t\t\t\tnode=254 leaf node.\n",
      "\t\t\t\t\t\t\tnode=255 leaf node.\n",
      "\t\t\t\t\t\tnode=256 test node: go to node 257 if X[:, 7] <= 1.5 else to node 260.\n",
      "\t\t\t\t\t\t\tnode=257 test node: go to node 258 if X[:, 3] <= 1.5 else to node 259.\n",
      "\t\t\t\t\t\t\t\tnode=258 leaf node.\n",
      "\t\t\t\t\t\t\t\tnode=259 leaf node.\n",
      "\t\t\t\t\t\t\tnode=260 test node: go to node 261 if X[:, 7] <= 2.5 else to node 262.\n",
      "\t\t\t\t\t\t\t\tnode=261 leaf node.\n",
      "\t\t\t\t\t\t\t\tnode=262 leaf node.\n",
      "\t\t\t\t\tnode=263 test node: go to node 264 if X[:, 7] <= 1.5 else to node 271.\n",
      "\t\t\t\t\t\tnode=264 test node: go to node 265 if X[:, 0] <= 4.5 else to node 268.\n",
      "\t\t\t\t\t\t\tnode=265 test node: go to node 266 if X[:, 5] <= 2.5 else to node 267.\n",
      "\t\t\t\t\t\t\t\tnode=266 leaf node.\n",
      "\t\t\t\t\t\t\t\tnode=267 leaf node.\n",
      "\t\t\t\t\t\t\tnode=268 test node: go to node 269 if X[:, 3] <= 1.5 else to node 270.\n",
      "\t\t\t\t\t\t\t\tnode=269 leaf node.\n",
      "\t\t\t\t\t\t\t\tnode=270 leaf node.\n",
      "\t\t\t\t\t\tnode=271 test node: go to node 272 if X[:, 2] <= 3.5 else to node 275.\n",
      "\t\t\t\t\t\t\tnode=272 test node: go to node 273 if X[:, 6] <= 2.5 else to node 274.\n",
      "\t\t\t\t\t\t\t\tnode=273 leaf node.\n",
      "\t\t\t\t\t\t\t\tnode=274 leaf node.\n",
      "\t\t\t\t\t\t\tnode=275 leaf node.\n",
      "\t\t\tnode=276 test node: go to node 277 if X[:, 7] <= 9.5 else to node 300.\n",
      "\t\t\t\tnode=277 test node: go to node 278 if X[:, 1] <= 1.5 else to node 291.\n",
      "\t\t\t\t\tnode=278 test node: go to node 279 if X[:, 3] <= 2.5 else to node 286.\n",
      "\t\t\t\t\t\tnode=279 test node: go to node 280 if X[:, 0] <= 2.5 else to node 283.\n",
      "\t\t\t\t\t\t\tnode=280 test node: go to node 281 if X[:, 4] <= 1.5 else to node 282.\n",
      "\t\t\t\t\t\t\t\tnode=281 leaf node.\n",
      "\t\t\t\t\t\t\t\tnode=282 leaf node.\n",
      "\t\t\t\t\t\t\tnode=283 test node: go to node 284 if X[:, 2] <= 2.5 else to node 285.\n",
      "\t\t\t\t\t\t\t\tnode=284 leaf node.\n",
      "\t\t\t\t\t\t\t\tnode=285 leaf node.\n",
      "\t\t\t\t\t\tnode=286 test node: go to node 287 if X[:, 4] <= 1.5 else to node 290.\n",
      "\t\t\t\t\t\t\tnode=287 test node: go to node 288 if X[:, 7] <= 0.5 else to node 289.\n",
      "\t\t\t\t\t\t\t\tnode=288 leaf node.\n",
      "\t\t\t\t\t\t\t\tnode=289 leaf node.\n",
      "\t\t\t\t\t\t\tnode=290 leaf node.\n",
      "\t\t\t\t\tnode=291 test node: go to node 292 if X[:, 6] <= 1.5 else to node 299.\n",
      "\t\t\t\t\t\tnode=292 test node: go to node 293 if X[:, 3] <= 1.5 else to node 296.\n",
      "\t\t\t\t\t\t\tnode=293 test node: go to node 294 if X[:, 2] <= 3.5 else to node 295.\n",
      "\t\t\t\t\t\t\t\tnode=294 leaf node.\n",
      "\t\t\t\t\t\t\t\tnode=295 leaf node.\n",
      "\t\t\t\t\t\t\tnode=296 test node: go to node 297 if X[:, 9] <= 1.5 else to node 298.\n",
      "\t\t\t\t\t\t\t\tnode=297 leaf node.\n",
      "\t\t\t\t\t\t\t\tnode=298 leaf node.\n",
      "\t\t\t\t\t\tnode=299 leaf node.\n",
      "\t\t\t\tnode=300 test node: go to node 301 if X[:, 1] <= 1.5 else to node 308.\n",
      "\t\t\t\t\tnode=301 test node: go to node 302 if X[:, 8] <= 0.5 else to node 303.\n",
      "\t\t\t\t\t\tnode=302 leaf node.\n",
      "\t\t\t\t\t\tnode=303 test node: go to node 304 if X[:, 3] <= 1.5 else to node 307.\n",
      "\t\t\t\t\t\t\tnode=304 test node: go to node 305 if X[:, 0] <= 2.5 else to node 306.\n",
      "\t\t\t\t\t\t\t\tnode=305 leaf node.\n",
      "\t\t\t\t\t\t\t\tnode=306 leaf node.\n",
      "\t\t\t\t\t\t\tnode=307 leaf node.\n",
      "\t\t\t\t\tnode=308 test node: go to node 309 if X[:, 7] <= 24.5 else to node 314.\n",
      "\t\t\t\t\t\tnode=309 test node: go to node 310 if X[:, 3] <= 1.5 else to node 311.\n",
      "\t\t\t\t\t\t\tnode=310 leaf node.\n",
      "\t\t\t\t\t\t\tnode=311 test node: go to node 312 if X[:, 8] <= 0.5 else to node 313.\n",
      "\t\t\t\t\t\t\t\tnode=312 leaf node.\n",
      "\t\t\t\t\t\t\t\tnode=313 leaf node.\n",
      "\t\t\t\t\t\tnode=314 test node: go to node 315 if X[:, 8] <= 0.5 else to node 316.\n",
      "\t\t\t\t\t\t\tnode=315 leaf node.\n",
      "\t\t\t\t\t\t\tnode=316 leaf node.\n",
      "\n",
      "Rules used to predict sample 0: \n",
      "decision id node 0 : (X_test[0, 0] (= 4) > 1.5)\n",
      "decision id node 146 : (X_test[0, 2] (= 2) > 1.5)\n",
      "decision id node 224 : (X_test[0, 12] (= 1) > 0.5)\n",
      "decision id node 276 : (X_test[0, 7] (= 2.0) <= 9.5)\n",
      "decision id node 277 : (X_test[0, 1] (= 1) <= 1.5)\n",
      "decision id node 278 : (X_test[0, 3] (= 1) <= 2.5)\n",
      "decision id node 279 : (X_test[0, 0] (= 4) > 2.5)\n",
      "decision id node 283 : (X_test[0, 2] (= 2) <= 2.5)\n",
      "\n",
      "The following samples [0, 1] share the node [0] in the tree\n",
      "It is 0.31545741324921134 % of all nodes.\n"
     ]
    }
   ],
   "source": [
    "n_nodes = clf5.tree_.node_count\n",
    "children_left = clf5.tree_.children_left\n",
    "children_right = clf5.tree_.children_right\n",
    "feature = clf5.tree_.feature\n",
    "threshold = clf5.tree_.threshold\n",
    "\n",
    "\n",
    "# The tree structure can be traversed to compute various properties such\n",
    "# as the depth of each node and whether or not it is a leaf.\n",
    "node_depth = np.zeros(shape=n_nodes, dtype=np.int64)\n",
    "is_leaves = np.zeros(shape=n_nodes, dtype=bool)\n",
    "stack = [(0, -1)]  # seed is the root node id and its parent depth\n",
    "while len(stack) > 0:\n",
    "    node_id, parent_depth = stack.pop()\n",
    "    node_depth[node_id] = parent_depth + 1\n",
    "\n",
    "    # If we have a test node\n",
    "    if (children_left[node_id] != children_right[node_id]):\n",
    "        stack.append((children_left[node_id], parent_depth + 1))\n",
    "        stack.append((children_right[node_id], parent_depth + 1))\n",
    "    else:\n",
    "        is_leaves[node_id] = True\n",
    "\n",
    "print(\"The binary tree structure has %s nodes and has \"\n",
    "      \"the following tree structure:\"\n",
    "      % n_nodes)\n",
    "for i in range(n_nodes):\n",
    "    if is_leaves[i]:\n",
    "        print(\"%snode=%s leaf node.\" % (node_depth[i] * \"\\t\", i))\n",
    "    else:\n",
    "        print(\"%snode=%s test node: go to node %s if X[:, %s] <= %s else to \"\n",
    "              \"node %s.\"\n",
    "              % (node_depth[i] * \"\\t\",\n",
    "                 i,\n",
    "                 children_left[i],\n",
    "                 feature[i],\n",
    "                 threshold[i],\n",
    "                 children_right[i],\n",
    "                 ))\n",
    "print()\n",
    "\n",
    "# First let's retrieve the decision path of each sample. The decision_path\n",
    "# method allows to retrieve the node indicator functions. A non zero element of\n",
    "# indicator matrix at the position (i, j) indicates that the sample i goes\n",
    "# through the node j.\n",
    "\n",
    "node_indicator = clf5.decision_path(X_test)\n",
    "\n",
    "# Similarly, we can also have the leaves ids reached by each sample.\n",
    "\n",
    "leave_id = clf5.apply(X_test)\n",
    "\n",
    "# Now, it's possible to get the tests that were used to predict a sample or\n",
    "# a group of samples. First, let's make it for the sample.\n",
    "\n",
    "sample_id = 0\n",
    "node_index = node_indicator.indices[node_indicator.indptr[sample_id]:\n",
    "                                    node_indicator.indptr[sample_id + 1]]\n",
    "\n",
    "print('Rules used to predict sample %s: ' % sample_id)\n",
    "for node_id in node_index:\n",
    "    if leave_id[sample_id] == node_id:\n",
    "        continue\n",
    "\n",
    "    if (X_test[sample_id, feature[node_id]] <= threshold[node_id]):\n",
    "        threshold_sign = \"<=\"\n",
    "    else:\n",
    "        threshold_sign = \">\"\n",
    "\n",
    "    print(\"decision id node %s : (X_test[%s, %s] (= %s) %s %s)\"\n",
    "          % (node_id,\n",
    "             sample_id,\n",
    "             feature[node_id],\n",
    "             X_test[sample_id, feature[node_id]],\n",
    "             threshold_sign,\n",
    "             threshold[node_id]))\n",
    "\n",
    "# For a group of samples, we have the following common node.\n",
    "sample_ids = [0, 1]\n",
    "common_nodes = (node_indicator.toarray()[sample_ids].sum(axis=0) ==\n",
    "                len(sample_ids))\n",
    "\n",
    "common_node_id = np.arange(n_nodes)[common_nodes]\n",
    "\n",
    "print(\"\\nThe following samples %s share the node %s in the tree\"\n",
    "      % (sample_ids, common_node_id))\n",
    "print(\"It is %s %% of all nodes.\" % (100 * len(common_node_id) / n_nodes,))"
   ]
  },
  {
   "cell_type": "code",
   "execution_count": 67,
   "metadata": {
    "scrolled": true
   },
   "outputs": [
    {
     "data": {
      "text/html": [
       "<div>\n",
       "<style scoped>\n",
       "    .dataframe tbody tr th:only-of-type {\n",
       "        vertical-align: middle;\n",
       "    }\n",
       "\n",
       "    .dataframe tbody tr th {\n",
       "        vertical-align: top;\n",
       "    }\n",
       "\n",
       "    .dataframe thead th {\n",
       "        text-align: right;\n",
       "    }\n",
       "</style>\n",
       "<table border=\"1\" class=\"dataframe\">\n",
       "  <thead>\n",
       "    <tr style=\"text-align: right;\">\n",
       "      <th></th>\n",
       "      <th>True Y=0</th>\n",
       "      <th>True Y=1</th>\n",
       "    </tr>\n",
       "  </thead>\n",
       "  <tbody>\n",
       "    <tr>\n",
       "      <th>Predicted Y=0</th>\n",
       "      <td>452</td>\n",
       "      <td>251</td>\n",
       "    </tr>\n",
       "    <tr>\n",
       "      <th>Predicted Y=1</th>\n",
       "      <td>182</td>\n",
       "      <td>307</td>\n",
       "    </tr>\n",
       "  </tbody>\n",
       "</table>\n",
       "</div>"
      ],
      "text/plain": [
       "               True Y=0  True Y=1\n",
       "Predicted Y=0       452       251\n",
       "Predicted Y=1       182       307"
      ]
     },
     "metadata": {},
     "output_type": "display_data"
    },
    {
     "name": "stdout",
     "output_type": "stream",
     "text": [
      "Accuracy: 0.6367\n",
      "Specificity: 0.7129\n",
      "Sensitivity 0.5502\n",
      "F1-Score: 0.5864\n",
      "AUC: 0.6316\n"
     ]
    },
    {
     "data": {
      "text/plain": [
       "[('Age', 0.222),\n",
       " ('PhotoAmt', 0.161),\n",
       " ('MaturitySize', 0.112),\n",
       " ('FurLength', 0.104),\n",
       " ('is_sterilized', 0.061),\n",
       " ('Vaccinated', 0.06),\n",
       " ('Gender', 0.053),\n",
       " ('purebreed', 0.05),\n",
       " ('unknown_sterilized', 0.05),\n",
       " ('Dewormed', 0.045),\n",
       " ('Health', 0.032),\n",
       " ('fee_cat', 0.025),\n",
       " ('video_cat', 0.024)]"
      ]
     },
     "execution_count": 67,
     "metadata": {},
     "output_type": "execute_result"
    }
   ],
   "source": [
    "cm = pd.DataFrame(confusion_matrix(y_pred, y_valid))\n",
    "cm.columns = ['True Y=0','True Y=1']\n",
    "cm.index = ['Predicted Y=0','Predicted Y=1']\n",
    "display(cm)\n",
    "specificity = cm.iloc[0, 0]/(cm.iloc[0, 0] + cm.iloc[1, 0])\n",
    "print(\"Accuracy:\",round(accuracy_score(y_valid, y_pred),4))\n",
    "print('Specificity:', round(specificity,4))\n",
    "print('Sensitivity',round(recall_score(y_valid,y_pred),4))\n",
    "print('F1-Score:', round(f1_score(y_valid,y_pred),4))\n",
    "print('AUC:',round(roc_auc_score(y_valid, y_pred),4))\n",
    "feature_imp(clf5,X_train)"
   ]
  },
  {
   "cell_type": "code",
   "execution_count": 68,
   "metadata": {},
   "outputs": [
    {
     "data": {
      "image/png": "[encoded data removed]",
      "text/plain": [
       "<Figure size 432x288 with 1 Axes>"
      ]
     },
     "metadata": {},
     "output_type": "display_data"
    }
   ],
   "source": [
    "plt.figure()\n",
    "tree.plot_tree(clf5,filled=True)  \n",
    "plt.savefig('decisiontree.eps',format='eps',bbox_inches = \"tight\")"
   ]
  },
  {
   "cell_type": "code",
   "execution_count": 69,
   "metadata": {},
   "outputs": [],
   "source": [
    "dotfile = open(\"dog.dot\", 'w')\n",
    "tree.export_graphviz(clf5,out_file = dotfile,\n",
    "                     feature_names=feature_cols,\n",
    "                     class_names = [str(i) for i in clf5.classes_],\n",
    "                     proportion=False) \n",
    "dotfile.close()\n",
    "\n",
    "# Easiest way to view the dotfile:\n",
    "# https://stackoverflow.com/questions/27817994/visualizing-decision-tree-in-scikit-learn\n",
    "# 1) exporting it with export_graphviz \n",
    "# 2) Open the .dot file in a text editor\n",
    "# 3) Copy the piece of code and paste it @ webgraphviz.com"
   ]
  },
  {
   "cell_type": "markdown",
   "metadata": {},
   "source": [
    "# Section 4.2.5: Evaluation for Dogs: Classifying on Test Set"
   ]
  },
  {
   "cell_type": "code",
   "execution_count": 70,
   "metadata": {},
   "outputs": [
    {
     "data": {
      "text/html": [
       "<div>\n",
       "<style scoped>\n",
       "    .dataframe tbody tr th:only-of-type {\n",
       "        vertical-align: middle;\n",
       "    }\n",
       "\n",
       "    .dataframe tbody tr th {\n",
       "        vertical-align: top;\n",
       "    }\n",
       "\n",
       "    .dataframe thead th {\n",
       "        text-align: right;\n",
       "    }\n",
       "</style>\n",
       "<table border=\"1\" class=\"dataframe\">\n",
       "  <thead>\n",
       "    <tr style=\"text-align: right;\">\n",
       "      <th></th>\n",
       "      <th>True Y=0</th>\n",
       "      <th>True Y=1</th>\n",
       "    </tr>\n",
       "  </thead>\n",
       "  <tbody>\n",
       "    <tr>\n",
       "      <th>Predicted Y=0</th>\n",
       "      <td>228</td>\n",
       "      <td>142</td>\n",
       "    </tr>\n",
       "    <tr>\n",
       "      <th>Predicted Y=1</th>\n",
       "      <td>118</td>\n",
       "      <td>175</td>\n",
       "    </tr>\n",
       "  </tbody>\n",
       "</table>\n",
       "</div>"
      ],
      "text/plain": [
       "               True Y=0  True Y=1\n",
       "Predicted Y=0       228       142\n",
       "Predicted Y=1       118       175"
      ]
     },
     "metadata": {},
     "output_type": "display_data"
    },
    {
     "name": "stdout",
     "output_type": "stream",
     "text": [
      "Accuracy: 0.6078\n",
      "Specificity: 0.659\n",
      "Sensitivity 0.5521\n",
      "F1-Score: 0.5738\n",
      "AUC: 0.6055\n"
     ]
    },
    {
     "data": {
      "text/plain": [
       "[('Age', 0.222),\n",
       " ('PhotoAmt', 0.161),\n",
       " ('MaturitySize', 0.112),\n",
       " ('FurLength', 0.104),\n",
       " ('is_sterilized', 0.061),\n",
       " ('Vaccinated', 0.06),\n",
       " ('Gender', 0.053),\n",
       " ('purebreed', 0.05),\n",
       " ('unknown_sterilized', 0.05),\n",
       " ('Dewormed', 0.045),\n",
       " ('Health', 0.032),\n",
       " ('fee_cat', 0.025),\n",
       " ('video_cat', 0.024)]"
      ]
     },
     "execution_count": 70,
     "metadata": {},
     "output_type": "execute_result"
    }
   ],
   "source": [
    "y_pred = clf5.predict(X_test)\n",
    "test5 = clf5.predict_proba(X_test)\n",
    "accuracy_score(y_test, y_pred)\n",
    "\n",
    "cm = pd.DataFrame(confusion_matrix(y_pred, y_test))\n",
    "cm.columns = ['True Y=0','True Y=1']\n",
    "cm.index = ['Predicted Y=0','Predicted Y=1']\n",
    "display(cm)\n",
    "specificity = cm.iloc[0, 0]/(cm.iloc[0, 0] + cm.iloc[1, 0])\n",
    "print(\"Accuracy:\",round(accuracy_score(y_test, y_pred),4))\n",
    "print('Specificity:', round(specificity,4))\n",
    "print('Sensitivity',round(recall_score(y_test,y_pred),4))\n",
    "print('F1-Score:', round(f1_score(y_test,y_pred),4))\n",
    "print('AUC:',round(roc_auc_score(y_test, y_pred),4))\n",
    "feature_imp(clf5,X_train)"
   ]
  },
  {
   "cell_type": "markdown",
   "metadata": {},
   "source": [
    "# Section 4.2.6: Key Findings for Dogs (DT)"
   ]
  },
  {
   "cell_type": "code",
   "execution_count": 71,
   "metadata": {},
   "outputs": [
    {
     "data": {
      "text/html": [
       "<div>\n",
       "<style scoped>\n",
       "    .dataframe tbody tr th:only-of-type {\n",
       "        vertical-align: middle;\n",
       "    }\n",
       "\n",
       "    .dataframe tbody tr th {\n",
       "        vertical-align: top;\n",
       "    }\n",
       "\n",
       "    .dataframe thead th {\n",
       "        text-align: right;\n",
       "    }\n",
       "</style>\n",
       "<table border=\"1\" class=\"dataframe\">\n",
       "  <thead>\n",
       "    <tr style=\"text-align: right;\">\n",
       "      <th></th>\n",
       "      <th>Age</th>\n",
       "      <th>Gender</th>\n",
       "      <th>MaturitySize</th>\n",
       "      <th>FurLength</th>\n",
       "      <th>Vaccinated</th>\n",
       "      <th>Dewormed</th>\n",
       "      <th>Health</th>\n",
       "      <th>PhotoAmt</th>\n",
       "      <th>y</th>\n",
       "      <th>purebreed</th>\n",
       "      <th>video_cat</th>\n",
       "      <th>fee_cat</th>\n",
       "      <th>unknown_sterilized</th>\n",
       "      <th>is_sterilized</th>\n",
       "    </tr>\n",
       "  </thead>\n",
       "  <tbody>\n",
       "    <tr>\n",
       "      <th>2</th>\n",
       "      <td>0</td>\n",
       "      <td>1</td>\n",
       "      <td>2</td>\n",
       "      <td>2</td>\n",
       "      <td>1</td>\n",
       "      <td>1</td>\n",
       "      <td>1</td>\n",
       "      <td>7.0</td>\n",
       "      <td>0</td>\n",
       "      <td>1</td>\n",
       "      <td>0</td>\n",
       "      <td>0</td>\n",
       "      <td>0</td>\n",
       "      <td>0</td>\n",
       "    </tr>\n",
       "    <tr>\n",
       "      <th>3</th>\n",
       "      <td>3</td>\n",
       "      <td>2</td>\n",
       "      <td>2</td>\n",
       "      <td>1</td>\n",
       "      <td>1</td>\n",
       "      <td>1</td>\n",
       "      <td>1</td>\n",
       "      <td>8.0</td>\n",
       "      <td>1</td>\n",
       "      <td>1</td>\n",
       "      <td>0</td>\n",
       "      <td>3</td>\n",
       "      <td>0</td>\n",
       "      <td>0</td>\n",
       "    </tr>\n",
       "    <tr>\n",
       "      <th>4</th>\n",
       "      <td>0</td>\n",
       "      <td>1</td>\n",
       "      <td>2</td>\n",
       "      <td>1</td>\n",
       "      <td>2</td>\n",
       "      <td>2</td>\n",
       "      <td>1</td>\n",
       "      <td>3.0</td>\n",
       "      <td>1</td>\n",
       "      <td>1</td>\n",
       "      <td>0</td>\n",
       "      <td>0</td>\n",
       "      <td>0</td>\n",
       "      <td>0</td>\n",
       "    </tr>\n",
       "    <tr>\n",
       "      <th>10</th>\n",
       "      <td>1</td>\n",
       "      <td>1</td>\n",
       "      <td>2</td>\n",
       "      <td>1</td>\n",
       "      <td>2</td>\n",
       "      <td>1</td>\n",
       "      <td>1</td>\n",
       "      <td>7.0</td>\n",
       "      <td>1</td>\n",
       "      <td>1</td>\n",
       "      <td>0</td>\n",
       "      <td>0</td>\n",
       "      <td>0</td>\n",
       "      <td>0</td>\n",
       "    </tr>\n",
       "    <tr>\n",
       "      <th>12</th>\n",
       "      <td>1</td>\n",
       "      <td>1</td>\n",
       "      <td>2</td>\n",
       "      <td>3</td>\n",
       "      <td>1</td>\n",
       "      <td>1</td>\n",
       "      <td>1</td>\n",
       "      <td>1.0</td>\n",
       "      <td>1</td>\n",
       "      <td>1</td>\n",
       "      <td>0</td>\n",
       "      <td>0</td>\n",
       "      <td>0</td>\n",
       "      <td>0</td>\n",
       "    </tr>\n",
       "    <tr>\n",
       "      <th>...</th>\n",
       "      <td>...</td>\n",
       "      <td>...</td>\n",
       "      <td>...</td>\n",
       "      <td>...</td>\n",
       "      <td>...</td>\n",
       "      <td>...</td>\n",
       "      <td>...</td>\n",
       "      <td>...</td>\n",
       "      <td>...</td>\n",
       "      <td>...</td>\n",
       "      <td>...</td>\n",
       "      <td>...</td>\n",
       "      <td>...</td>\n",
       "      <td>...</td>\n",
       "    </tr>\n",
       "    <tr>\n",
       "      <th>14983</th>\n",
       "      <td>2</td>\n",
       "      <td>1</td>\n",
       "      <td>2</td>\n",
       "      <td>2</td>\n",
       "      <td>1</td>\n",
       "      <td>1</td>\n",
       "      <td>1</td>\n",
       "      <td>7.0</td>\n",
       "      <td>1</td>\n",
       "      <td>1</td>\n",
       "      <td>0</td>\n",
       "      <td>0</td>\n",
       "      <td>0</td>\n",
       "      <td>0</td>\n",
       "    </tr>\n",
       "    <tr>\n",
       "      <th>14984</th>\n",
       "      <td>5</td>\n",
       "      <td>2</td>\n",
       "      <td>2</td>\n",
       "      <td>2</td>\n",
       "      <td>3</td>\n",
       "      <td>3</td>\n",
       "      <td>1</td>\n",
       "      <td>1.0</td>\n",
       "      <td>0</td>\n",
       "      <td>1</td>\n",
       "      <td>0</td>\n",
       "      <td>0</td>\n",
       "      <td>1</td>\n",
       "      <td>0</td>\n",
       "    </tr>\n",
       "    <tr>\n",
       "      <th>14985</th>\n",
       "      <td>5</td>\n",
       "      <td>1</td>\n",
       "      <td>2</td>\n",
       "      <td>2</td>\n",
       "      <td>3</td>\n",
       "      <td>3</td>\n",
       "      <td>1</td>\n",
       "      <td>0.0</td>\n",
       "      <td>0</td>\n",
       "      <td>0</td>\n",
       "      <td>0</td>\n",
       "      <td>0</td>\n",
       "      <td>0</td>\n",
       "      <td>0</td>\n",
       "    </tr>\n",
       "    <tr>\n",
       "      <th>14987</th>\n",
       "      <td>3</td>\n",
       "      <td>2</td>\n",
       "      <td>1</td>\n",
       "      <td>3</td>\n",
       "      <td>1</td>\n",
       "      <td>1</td>\n",
       "      <td>1</td>\n",
       "      <td>1.0</td>\n",
       "      <td>1</td>\n",
       "      <td>1</td>\n",
       "      <td>0</td>\n",
       "      <td>0</td>\n",
       "      <td>0</td>\n",
       "      <td>0</td>\n",
       "    </tr>\n",
       "    <tr>\n",
       "      <th>14992</th>\n",
       "      <td>0</td>\n",
       "      <td>1</td>\n",
       "      <td>2</td>\n",
       "      <td>1</td>\n",
       "      <td>2</td>\n",
       "      <td>2</td>\n",
       "      <td>1</td>\n",
       "      <td>1.0</td>\n",
       "      <td>0</td>\n",
       "      <td>0</td>\n",
       "      <td>0</td>\n",
       "      <td>0</td>\n",
       "      <td>0</td>\n",
       "      <td>0</td>\n",
       "    </tr>\n",
       "  </tbody>\n",
       "</table>\n",
       "<p>6622 rows × 14 columns</p>\n",
       "</div>"
      ],
      "text/plain": [
       "      Age  Gender  MaturitySize  FurLength  Vaccinated  Dewormed  Health  \\\n",
       "2       0       1             2          2           1         1       1   \n",
       "3       3       2             2          1           1         1       1   \n",
       "4       0       1             2          1           2         2       1   \n",
       "10      1       1             2          1           2         1       1   \n",
       "12      1       1             2          3           1         1       1   \n",
       "...    ..     ...           ...        ...         ...       ...     ...   \n",
       "14983   2       1             2          2           1         1       1   \n",
       "14984   5       2             2          2           3         3       1   \n",
       "14985   5       1             2          2           3         3       1   \n",
       "14987   3       2             1          3           1         1       1   \n",
       "14992   0       1             2          1           2         2       1   \n",
       "\n",
       "       PhotoAmt  y  purebreed  video_cat  fee_cat  unknown_sterilized  \\\n",
       "2           7.0  0          1          0        0                   0   \n",
       "3           8.0  1          1          0        3                   0   \n",
       "4           3.0  1          1          0        0                   0   \n",
       "10          7.0  1          1          0        0                   0   \n",
       "12          1.0  1          1          0        0                   0   \n",
       "...         ... ..        ...        ...      ...                 ...   \n",
       "14983       7.0  1          1          0        0                   0   \n",
       "14984       1.0  0          1          0        0                   1   \n",
       "14985       0.0  0          0          0        0                   0   \n",
       "14987       1.0  1          1          0        0                   0   \n",
       "14992       1.0  0          0          0        0                   0   \n",
       "\n",
       "       is_sterilized  \n",
       "2                  0  \n",
       "3                  0  \n",
       "4                  0  \n",
       "10                 0  \n",
       "12                 0  \n",
       "...              ...  \n",
       "14983              0  \n",
       "14984              0  \n",
       "14985              0  \n",
       "14987              0  \n",
       "14992              0  \n",
       "\n",
       "[6622 rows x 14 columns]"
      ]
     },
     "execution_count": 71,
     "metadata": {},
     "output_type": "execute_result"
    }
   ],
   "source": [
    "dog_df"
   ]
  },
  {
   "cell_type": "code",
   "execution_count": 72,
   "metadata": {},
   "outputs": [],
   "source": [
    "# Important features for Dogs\n",
    "dog_feat = ['Age', 'PhotoAmt', 'MaturitySize', 'FurLength', 'is_sterilized']\n"
   ]
  },
  {
   "cell_type": "code",
   "execution_count": 73,
   "metadata": {},
   "outputs": [
    {
     "data": {
      "image/png": "[encoded data removed]",
      "text/plain": [
       "<Figure size 417.1x360 with 1 Axes>"
      ]
     },
     "metadata": {},
     "output_type": "display_data"
    }
   ],
   "source": [
    "plot_bar(dog_df, 'Age')"
   ]
  },
  {
   "cell_type": "code",
   "execution_count": 74,
   "metadata": {},
   "outputs": [
    {
     "data": {
      "image/png": "[encoded data removed]",
      "text/plain": [
       "<Figure size 417.1x360 with 1 Axes>"
      ]
     },
     "metadata": {},
     "output_type": "display_data"
    }
   ],
   "source": [
    "plot_bar_special(dog_df, 'PhotoAmt')"
   ]
  },
  {
   "cell_type": "code",
   "execution_count": 75,
   "metadata": {},
   "outputs": [
    {
     "data": {
      "image/png": "[encoded data removed]",
      "text/plain": [
       "<Figure size 417.1x360 with 1 Axes>"
      ]
     },
     "metadata": {},
     "output_type": "display_data"
    }
   ],
   "source": [
    "plot_bar(dog_df, 'MaturitySize')"
   ]
  },
  {
   "cell_type": "code",
   "execution_count": 76,
   "metadata": {},
   "outputs": [
    {
     "data": {
      "image/png": "[encoded data removed]",
      "text/plain": [
       "<Figure size 417.1x360 with 1 Axes>"
      ]
     },
     "metadata": {},
     "output_type": "display_data"
    }
   ],
   "source": [
    "plot_bar(dog_df, 'FurLength')\n",
    "\n",
    "# Similar to cats, longer Furlength seems to be more appearing,\n",
    "# as seen by the % of y=1 increasing as FurLength increase\n",
    "# it could imply: fluffy and furry dogs are more attractive\n",
    "# as compared to bare-skinned ones"
   ]
  },
  {
   "cell_type": "code",
   "execution_count": 77,
   "metadata": {},
   "outputs": [
    {
     "data": {
      "image/png": "[encoded data removed]",
      "text/plain": [
       "<Figure size 417.1x360 with 1 Axes>"
      ]
     },
     "metadata": {},
     "output_type": "display_data"
    }
   ],
   "source": [
    "plot_bar(dog_df, 'is_sterilized')"
   ]
  },
  {
   "cell_type": "markdown",
   "metadata": {},
   "source": [
    "# Section 4.3: Overall Discussion for Decision Trees"
   ]
  },
  {
   "cell_type": "markdown",
   "metadata": {},
   "source": [
    "Besides Maturity Size, all other important attributes were common in both Cats and Dogs. We note that they vary in the order of importance, where some attributes bear more weight depending on the type of animal. We analyzed their distributions separately for each of these features and realized that they are very identical. Hence, a combined evaluation is depicted below, to reduce repetition."
   ]
  },
  {
   "cell_type": "code",
   "execution_count": 78,
   "metadata": {},
   "outputs": [
    {
     "data": {
      "image/png": "[encoded data removed]",
      "text/plain": [
       "<Figure size 417.1x360 with 1 Axes>"
      ]
     },
     "metadata": {},
     "output_type": "display_data"
    }
   ],
   "source": [
    "plot_bar(test_df, 'Age')"
   ]
  },
  {
   "cell_type": "code",
   "execution_count": 79,
   "metadata": {},
   "outputs": [
    {
     "data": {
      "image/png": "[encoded data removed]",
      "text/plain": [
       "<Figure size 417.1x360 with 1 Axes>"
      ]
     },
     "metadata": {},
     "output_type": "display_data"
    }
   ],
   "source": [
    "plot_bar(test_df, 'FurLength')"
   ]
  },
  {
   "cell_type": "code",
   "execution_count": 80,
   "metadata": {},
   "outputs": [
    {
     "data": {
      "image/png": "[encoded data removed]",
      "text/plain": [
       "<Figure size 417.1x360 with 1 Axes>"
      ]
     },
     "metadata": {},
     "output_type": "display_data"
    }
   ],
   "source": [
    "plot_bar(test_df, 'is_sterilized')"
   ]
  },
  {
   "cell_type": "code",
   "execution_count": 81,
   "metadata": {},
   "outputs": [
    {
     "data": {
      "image/png": "[encoded data removed]",
      "text/plain": [
       "<Figure size 417.1x360 with 1 Axes>"
      ]
     },
     "metadata": {},
     "output_type": "display_data"
    }
   ],
   "source": [
    "plot_bar_special(test_df, 'PhotoAmt')"
   ]
  },
  {
   "cell_type": "markdown",
   "metadata": {},
   "source": [
    "Surprisingly, pets with a smaller amount of photos tend to be adopted more often. However, we note that when pets have no photos at all, their chances of adoption are much lower, emphasizing the importance of our CV model to derive more significant insights."
   ]
  }
 ],
 "metadata": {
  "kernelspec": {
   "display_name": "Python 3",
   "language": "python",
   "name": "python3"
  },
  "language_info": {
   "codemirror_mode": {
    "name": "ipython",
    "version": 3
   },
   "file_extension": ".py",
   "mimetype": "text/x-python",
   "name": "python",
   "nbconvert_exporter": "python",
   "pygments_lexer": "ipython3",
   "version": "3.7.7"
  }
 },
 "nbformat": 4,
 "nbformat_minor": 4
}
